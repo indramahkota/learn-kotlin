{
 "cells": [
  {
   "cell_type": "code",
   "execution_count": 146,
   "id": "5a93de56",
   "metadata": {},
   "outputs": [],
   "source": [
    "%use coroutines"
   ]
  },
  {
   "cell_type": "code",
   "execution_count": 9,
   "id": "29c61883",
   "metadata": {},
   "outputs": [],
   "source": [
    "// Java\n",
    "import java.util.Base64\n",
    "import javax.crypto.Cipher\n",
    "import javax.crypto.SecretKeyFactory\n",
    "import javax.crypto.spec.PBEKeySpec\n",
    "import javax.crypto.spec.PBEParameterSpec\n",
    "\n",
    "// Kotlin\n",
    "import kotlin.random.Random\n",
    "import kotlin.properties.Delegates"
   ]
  },
  {
   "cell_type": "code",
   "execution_count": 42,
   "id": "161837fa",
   "metadata": {},
   "outputs": [
    {
     "name": "stdout",
     "output_type": "stream",
     "text": [
      "Hello world 1233  \r\n"
     ]
    }
   ],
   "source": [
    "var str = \"Hello !!!😎world @1233*@@():)👌👌👌 ] [\"\n",
    "\n",
    "// [^ ... ]  Match any character that is not in the set.\n",
    "// Matches a character in the range \"A\" to \"Z\" (char code 65 to 90). Case sensitive.\n",
    "// Matches a character in the range \"a\" to \"z\" (char code 97 to 122). Case sensitive.\n",
    "// Matches a character in the range \"0\" to \"9\" (char code 48 to 57). Case sensitive.\n",
    "// Matches a SPACE character (char code 32). \n",
    "\n",
    "val re = \"[^A-Za-z0-9 ]\".toRegex()\n",
    "str = re.replace(str, \"\")\n",
    "\n",
    "println(str)"
   ]
  },
  {
   "cell_type": "code",
   "execution_count": 38,
   "id": "c07e4838",
   "metadata": {},
   "outputs": [
    {
     "name": "stdout",
     "output_type": "stream",
     "text": [
      "A B C D E F G H I J K L M N O P Q R S T U V W X Y Z [ \\ ] ^ _ ` a b c d e f g h i j k l m n o p q r s t u v w x y z "
     ]
    }
   ],
   "source": [
    "var c: Char\n",
    "\n",
    "c = 'A'\n",
    "while (c <= 'z') {\n",
    "    print(\"$c \")\n",
    "    ++c\n",
    "}"
   ]
  },
  {
   "cell_type": "code",
   "execution_count": 67,
   "id": "7a0f2334",
   "metadata": {},
   "outputs": [
    {
     "name": "stdout",
     "output_type": "stream",
     "text": [
      "Kotlin\r\n"
     ]
    }
   ],
   "source": [
    "val bytes = byteArrayOf(75, 111, 116, 108, 105, 110)\n",
    "\n",
    "val string = String(bytes)\n",
    "\n",
    "println(string)"
   ]
  },
  {
   "cell_type": "code",
   "execution_count": 141,
   "id": "4d8a3998",
   "metadata": {},
   "outputs": [
    {
     "name": "stdout",
     "output_type": "stream",
     "text": [
      "[a, b, c, d, e, f, g, h, i, j, k, l, m, n, o, p, q, r, s, t, u, v, w, x, y, z, A, B, C, D, E, F, G, H, I, J, K, L, M, N, O, P, Q, R, S, T, U, V, W, X, Y, Z, 0, 1, 2, 3, 4, 5, 6, 7, 8, 9]\n",
      "DoV8A5lP9DbJ8sQif36VKcKRbB9xlMfm9dXC2JoAW7xEcSXyCPTfsD8hBhz7RFwB\n"
     ]
    }
   ],
   "source": [
    "val chars = ('a'..'z') + ('A'..'Z') + ('0'..'9')\n",
    "fun randomID(length: Int = 64): String = List(length) { chars.random() }.joinToString(\"\")\n",
    "\n",
    "println(chars);\n",
    "println(randomID())"
   ]
  },
  {
   "cell_type": "code",
   "execution_count": 144,
   "id": "b45845d9",
   "metadata": {
    "scrolled": true
   },
   "outputs": [
    {
     "name": "stdout",
     "output_type": "stream",
     "text": [
      "initial value: mWYgynCAijSmi0RN9ZIjNuLwA1KaNgs4QwkbCRDtfhg8XrHVNVObE5YYfdrQkPrc\n",
      "\n",
      "salt: RrUu3tj6\n",
      "secret code: uOkN2znQ2cN28PFR5xHl6c22pwEcq76S4zWQvYbhfLM4Jl3VgLWt1dsQEzB3kZci\n",
      "\n",
      "encrypted: PftzkjUE41Ae55gvAq2u4hXe1F6YersTwg5UwlbinkUjVLbkUQfDC4XcRhsPmknK+VcQXJCS6huXhNMbZ5ujmQOCS+1eiu2r\n",
      "\n",
      "decrypted: mWYgynCAijSmi0RN9ZIjNuLwA1KaNgs4QwkbCRDtfhg8XrHVNVObE5YYfdrQkPrc\n",
      "\n",
      "is value equal: true\n"
     ]
    }
   ],
   "source": [
    "// https://stackoverflow.com/questions/54143361/what-is-pbewithmd5anddes\n",
    "// https://gist.github.com/rohitshampur/da5f79c34260150aafc1\n",
    "// https://www.bezkoder.com/kotlin-base64/\n",
    "\n",
    "val secretCode = randomID().toCharArray()\n",
    "val salt = List(8) { chars.random() }.joinToString(\"\").toByteArray() // Salt must be 8 bytes long\n",
    "\n",
    "fun encrypt(value: String?): String {\n",
    "    val strBytes = value?.toByteArray()\n",
    "    val keyFactory = SecretKeyFactory.getInstance(\"PBEWithMD5AndDES\")\n",
    "    val key = keyFactory.generateSecret(PBEKeySpec(secretCode))\n",
    "    val cipher = Cipher.getInstance(\"PBEWithMD5AndDES\").also {\n",
    "        it.init(\n",
    "            Cipher.ENCRYPT_MODE, key,\n",
    "            PBEParameterSpec(\n",
    "                salt, 20\n",
    "            )\n",
    "        )\n",
    "    }\n",
    "    // println(String(cipher.doFinal(strBytes)))\n",
    "    // println()\n",
    "    return Base64.getEncoder().withoutPadding().encodeToString(cipher.doFinal(strBytes))\n",
    "}\n",
    "\n",
    "fun decode(value: String?): ByteArray {\n",
    "    val decodedBytes = Base64.getDecoder().decode(value)\n",
    "    return decodedBytes\n",
    "}\n",
    "\n",
    "fun decrypt(value: String?): String {\n",
    "    val strBytes = decode(value)\n",
    "    val keyFactory = SecretKeyFactory.getInstance(\"PBEWithMD5AndDES\")\n",
    "    val key = keyFactory.generateSecret(PBEKeySpec(secretCode))\n",
    "    val cipher = Cipher.getInstance(\"PBEWithMD5AndDES\")\n",
    "    cipher.init(\n",
    "        Cipher.DECRYPT_MODE, key,\n",
    "        PBEParameterSpec(\n",
    "            salt, 20\n",
    "        )\n",
    "    )\n",
    "    return String(cipher.doFinal(strBytes), Charsets.UTF_8)\n",
    "}\n",
    "\n",
    "val stringToEncode = randomID()\n",
    "val encryptedString = encrypt(stringToEncode)\n",
    "val decryptedString = decrypt(encryptedString)\n",
    "\n",
    "println(\"initial value: $stringToEncode\")\n",
    "println()\n",
    "println(\"salt: ${String(salt)}\")\n",
    "println(\"secret code: ${String(secretCode)}\")\n",
    "println()\n",
    "println(\"encrypted: $encryptedString\")\n",
    "// println(String(decode(encryptedString)))\n",
    "println()\n",
    "println(\"decrypted: $decryptedString\")\n",
    "println()\n",
    "println(\"is value equal: ${stringToEncode == decryptedString}\")"
   ]
  },
  {
   "cell_type": "code",
   "execution_count": 167,
   "id": "f88d91c8",
   "metadata": {},
   "outputs": [
    {
     "name": "stdout",
     "output_type": "stream",
     "text": [
      "encrypted: XRr6b61lqN91lu6v3OKAH0VOrSTYC9KRT1J/gnNVN0OITHxTucY2xv03YFcRFjx+c/k6ELVaWSn2v8gHUxVVJzbOH+PpSQf2\n",
      "\n",
      "decrypted: UKNcM0aoqAgaddUE7a7C7nC6Pedzb9TLFMrq82c6M5z74xdJhUZF0IBvwoYn4H2i\n",
      "Done 47 ms\n"
     ]
    }
   ],
   "source": [
    "import java.time.Instant\n",
    "\n",
    "inline fun time(action: () -> Unit): Long {\n",
    "    val start = Instant.now().toEpochMilli()\n",
    "    action()\n",
    "    return Instant.now().toEpochMilli() - start\n",
    "}\n",
    "\n",
    "suspend fun doWork() = coroutineScope {\n",
    "    launch {\n",
    "        val stringToEncode = randomID(64)\n",
    "        val encryptedString = encrypt(stringToEncode)\n",
    "        val decryptedString = decrypt(encryptedString)\n",
    "        \n",
    "        println(\"encrypted: $encryptedString\")\n",
    "        println()\n",
    "        println(\"decrypted: $decryptedString\")\n",
    "    }\n",
    "}\n",
    "\n",
    "fun main() = runBlocking {\n",
    "    val t = time {\n",
    "        doWork()\n",
    "    }\n",
    "    println(\"Done $t ms\")\n",
    "}\n",
    "\n",
    "main()"
   ]
  }
 ],
 "metadata": {
  "kernelspec": {
   "display_name": "Kotlin",
   "language": "kotlin",
   "name": "kotlin"
  },
  "language_info": {
   "codemirror_mode": "text/x-kotlin",
   "file_extension": ".kt",
   "mimetype": "text/x-kotlin",
   "name": "kotlin",
   "nbconvert_exporter": "",
   "pygments_lexer": "kotlin",
   "version": "1.6.20-dev-6372"
  }
 },
 "nbformat": 4,
 "nbformat_minor": 5
}
