{
 "cells": [
  {
   "cell_type": "markdown",
   "id": "7cf00f38",
   "metadata": {},
   "source": [
    "### Reference\n",
    "#### https://stackoverflow.com/questions/35858608/how-to-convert-time-to-time-ago-in-android\n",
    "#### https://stackoverflow.com/questions/2201925/converting-iso-8601-compliant-string-to-java-util-date\n",
    "#### https://stackoverflow.com/questions/43212229/how-do-i-convert-iso8601-to-utc-using-joda-time-in-java"
   ]
  },
  {
   "cell_type": "code",
   "execution_count": 22,
   "id": "8ab847dc",
   "metadata": {},
   "outputs": [],
   "source": [
    "// Using Library\n",
    "// println(java.nio.file.Paths.get(\"\").toAbsolutePath().toString())\n",
    "// %use @file[[DIR_PATH]/[LIB_NAME].json]"
   ]
  },
  {
   "cell_type": "code",
   "execution_count": 23,
   "id": "4ab9ba50",
   "metadata": {},
   "outputs": [],
   "source": [
    "%use @file[D:/Programming/Kotlin/learn-kotlin/dependencies/joda.json]\n",
    "%use @file[D:/Programming/Kotlin/learn-kotlin/dependencies/pretty_time.json]"
   ]
  },
  {
   "cell_type": "code",
   "execution_count": 24,
   "id": "7e45720b",
   "metadata": {},
   "outputs": [],
   "source": [
    "import java.util.*"
   ]
  },
  {
   "cell_type": "code",
   "execution_count": 25,
   "id": "951455e4",
   "metadata": {},
   "outputs": [
    {
     "data": {
      "text/plain": [
       "Wed Dec 15 15:33:09 ICT 2021"
      ]
     },
     "execution_count": 25,
     "metadata": {},
     "output_type": "execute_result"
    }
   ],
   "source": [
    "val dateTime = DateTime(\"2021-12-15T08:33:09Z\", DateTimeZone.UTC)\n",
    "val date = dateTime.toDate()\n",
    "date"
   ]
  },
  {
   "cell_type": "code",
   "execution_count": 26,
   "id": "5505e642",
   "metadata": {},
   "outputs": [
    {
     "data": {
      "text/plain": [
       "PrettyTime [reference=null, locale=en_ID]"
      ]
     },
     "execution_count": 26,
     "metadata": {},
     "output_type": "execute_result"
    }
   ],
   "source": [
    "val prettyTime = PrettyTime(Locale.getDefault())\n",
    "prettyTime"
   ]
  },
  {
   "cell_type": "code",
   "execution_count": 27,
   "id": "95cd3679",
   "metadata": {},
   "outputs": [
    {
     "data": {
      "text/plain": [
       "Updated 3 months ago"
      ]
     },
     "execution_count": 27,
     "metadata": {},
     "output_type": "execute_result"
    }
   ],
   "source": [
    "val ago = prettyTime.format(date)\n",
    "\"Updated \" + ago"
   ]
  },
  {
   "cell_type": "code",
   "execution_count": 28,
   "id": "c5cea746",
   "metadata": {},
   "outputs": [],
   "source": [
    "fun String.asTimeAgo(): String? {\n",
    "    return try {\n",
    "        val dateTime = DateTime(this, DateTimeZone.UTC)\n",
    "        val prettyTime = PrettyTime(Locale.getDefault())\n",
    "        val ago = prettyTime.format(dateTime.toDate())\n",
    "        \"Updated $ago\"\n",
    "    } catch (e: IllegalArgumentException) {\n",
    "        null\n",
    "    }\n",
    "}"
   ]
  },
  {
   "cell_type": "code",
   "execution_count": 29,
   "id": "578b5281",
   "metadata": {},
   "outputs": [
    {
     "data": {
      "text/plain": [
       "2022-03-03T12:09:22.084Z"
      ]
     },
     "execution_count": 29,
     "metadata": {},
     "output_type": "execute_result"
    }
   ],
   "source": [
    "val momentsAgo = DateTime(Date(), DateTimeZone.UTC)\n",
    "momentsAgo"
   ]
  },
  {
   "cell_type": "code",
   "execution_count": 30,
   "id": "6f5617e6",
   "metadata": {},
   "outputs": [
    {
     "name": "stdout",
     "output_type": "stream",
     "text": [
      "2022-03-03T12:08:32.196\n",
      "Updated moments ago\n",
      "\n",
      "2022-03-03T11:44:22.197\n",
      "Updated 25 minutes ago\n",
      "\n",
      "2022-03-03T07:09:22.197\n",
      "Updated 5 hours ago\n",
      "\n",
      "2022-02-16T12:09:22.199\n",
      "Updated 2 weeks ago\n"
     ]
    }
   ],
   "source": [
    "val secondsAgo = LocalDateTime(DateTimeZone.UTC).minusSeconds(50)\n",
    "println(secondsAgo)\n",
    "println(secondsAgo.toString().asTimeAgo())\n",
    "\n",
    "println()\n",
    "\n",
    "val minutesAgo = LocalDateTime(DateTimeZone.UTC).minusMinutes(25)\n",
    "println(minutesAgo)\n",
    "println(minutesAgo.toString().asTimeAgo())\n",
    "\n",
    "println()\n",
    "\n",
    "val hoursAgo = LocalDateTime(DateTimeZone.UTC).minusHours(5)\n",
    "println(hoursAgo)\n",
    "println(hoursAgo.toString().asTimeAgo())\n",
    "\n",
    "println()\n",
    "\n",
    "val dayssAgo = LocalDateTime(DateTimeZone.UTC).minusDays(15)\n",
    "println(dayssAgo)\n",
    "println(dayssAgo.toString().asTimeAgo())"
   ]
  },
  {
   "cell_type": "code",
   "execution_count": 31,
   "id": "20cf4dad",
   "metadata": {},
   "outputs": [],
   "source": [
    "fun String?.parseDate(pattern: String? = null): DateTime? {\n",
    "    if (this == null) return null\n",
    "    return try {\n",
    "        pattern?.let { DateTime.parse(this, DateTimeFormat.forPattern(pattern)) } ?: DateTime(this)\n",
    "    } catch (e: Exception) {\n",
    "        null\n",
    "    }\n",
    "}"
   ]
  },
  {
   "cell_type": "code",
   "execution_count": 32,
   "id": "1e4f831b",
   "metadata": {
    "scrolled": true
   },
   "outputs": [
    {
     "data": {
      "text/plain": [
       "java.util.GregorianCalendar[time=?,areFieldsSet=false,areAllFieldsSet=true,lenient=true,zone=sun.util.calendar.ZoneInfo[id=\"Asia/Bangkok\",offset=25200000,dstSavings=0,useDaylight=false,transitions=3,lastRule=null],firstDayOfWeek=1,minimalDaysInFirstWeek=1,ERA=1,YEAR=2005,MONTH=11,WEEK_OF_YEAR=10,WEEK_OF_MONTH=1,DAY_OF_MONTH=31,DAY_OF_YEAR=62,DAY_OF_WEEK=5,DAY_OF_WEEK_IN_MONTH=1,AM_PM=1,HOUR=7,HOUR_OF_DAY=19,MINUTE=9,SECOND=22,MILLISECOND=307,ZONE_OFFSET=25200000,DST_OFFSET=0]"
      ]
     },
     "execution_count": 32,
     "metadata": {},
     "output_type": "execute_result"
    }
   ],
   "source": [
    "val calendar = Calendar.getInstance()\n",
    "calendar.set(calendar[Calendar.YEAR] - 17, Calendar.DECEMBER, 31)\n",
    "calendar.toString()"
   ]
  },
  {
   "cell_type": "code",
   "execution_count": 33,
   "id": "47f4eadb",
   "metadata": {},
   "outputs": [
    {
     "name": "stdout",
     "output_type": "stream",
     "text": [
      "Thu Mar 03 19:09:22 ICT 2022\n",
      "Thu Mar 03 19:09:22 ICT 2005\n",
      "Fri Mar 03 19:09:22 ICT 1922\n",
      "Is lesthan 17: true\n"
     ]
    }
   ],
   "source": [
    "val calendar = Calendar.getInstance()\n",
    "val yy = calendar.get(Calendar.YEAR)\n",
    "val yyMin = yy - DEFAULT_MAX_AGE\n",
    "val yyMax = yy - DEFAULT_MIN_AGE\n",
    "val mm = calendar.get(Calendar.MONTH)\n",
    "val dd = calendar.get(Calendar.DAY_OF_MONTH)\n",
    "\n",
    "val calendarMin = Calendar.getInstance().apply {\n",
    "    set(yyMax, mm, dd)\n",
    "}\n",
    "val calendarMax = Calendar.getInstance().apply { \n",
    "    set(yyMin, mm, dd)\n",
    "}\n",
    "\n",
    "println(calendar.getTime())\n",
    "println(calendarMin.getTime())\n",
    "println(calendarMax.getTime())\n",
    "\n",
    "println(\"Is lesthan 17: \" + (calendar > calendarMin))"
   ]
  },
  {
   "cell_type": "code",
   "execution_count": 34,
   "id": "456b4549",
   "metadata": {},
   "outputs": [
    {
     "data": {
      "text/plain": [
       "2005-03-03T19:09:22.461+07:00"
      ]
     },
     "execution_count": 34,
     "metadata": {},
     "output_type": "execute_result"
    }
   ],
   "source": [
    "val minus17 = DateTime().minusYears(17)\n",
    "minus17"
   ]
  },
  {
   "cell_type": "code",
   "execution_count": 35,
   "id": "79300110",
   "metadata": {},
   "outputs": [
    {
     "data": {
      "text/plain": [
       "true"
      ]
     },
     "execution_count": 35,
     "metadata": {},
     "output_type": "execute_result"
    }
   ],
   "source": [
    "fun DateTime.hasMoreThanYears(minimumAge: Int): Boolean {\n",
    "    val now = DateTime()\n",
    "    val age = Years.yearsBetween(this, now)\n",
    "    return age.years >= minimumAge\n",
    "}\n",
    "\n",
    "DateTime(\"1922-02-17\").hasMoreThanYears(100)"
   ]
  },
  {
   "cell_type": "code",
   "execution_count": 36,
   "id": "43ea5e6a",
   "metadata": {},
   "outputs": [
    {
     "data": {
      "text/plain": [
       "P17Y2WT19H9M22.560S"
      ]
     },
     "execution_count": 36,
     "metadata": {},
     "output_type": "execute_result"
    }
   ],
   "source": [
    "val period = Period(DateTime(\"2005-02-17\"), DateTime())\n",
    "period"
   ]
  },
  {
   "cell_type": "code",
   "execution_count": 37,
   "id": "441ec411",
   "metadata": {},
   "outputs": [
    {
     "data": {
      "text/plain": [
       "-12"
      ]
     },
     "execution_count": 37,
     "metadata": {},
     "output_type": "execute_result"
    }
   ],
   "source": [
    "Years.yearsBetween(DateTime(\"2035-02-17\"), DateTime()).getYears()"
   ]
  },
  {
   "cell_type": "code",
   "execution_count": 38,
   "id": "c0f511a2",
   "metadata": {},
   "outputs": [
    {
     "data": {
      "text/plain": [
       "1922-03-02T19:09:22.635+07:00"
      ]
     },
     "execution_count": 38,
     "metadata": {},
     "output_type": "execute_result"
    }
   ],
   "source": [
    "DateTime().minusYears(100).minusDays(1)"
   ]
  },
  {
   "cell_type": "code",
   "execution_count": 39,
   "id": "6d83caad",
   "metadata": {},
   "outputs": [
    {
     "data": {
      "text/plain": [
       "2005-03-03T19:09:22.672+07:00"
      ]
     },
     "execution_count": 39,
     "metadata": {},
     "output_type": "execute_result"
    }
   ],
   "source": [
    "DateTime().minusYears(17)"
   ]
  },
  {
   "cell_type": "code",
   "execution_count": 40,
   "id": "cb772f9d",
   "metadata": {},
   "outputs": [
    {
     "data": {
      "text/plain": [
       "false"
      ]
     },
     "execution_count": 40,
     "metadata": {},
     "output_type": "execute_result"
    }
   ],
   "source": [
    "Interval(DateTime().minusYears(100).minusDays(1), DateTime().minusYears(17)).contains(DateTime(\"1922-02-17\"))"
   ]
  }
 ],
 "metadata": {
  "kernelspec": {
   "display_name": "Kotlin",
   "language": "kotlin",
   "name": "kotlin"
  },
  "language_info": {
   "codemirror_mode": "text/x-kotlin",
   "file_extension": ".kt",
   "mimetype": "text/x-kotlin",
   "name": "kotlin",
   "nbconvert_exporter": "",
   "pygments_lexer": "kotlin",
   "version": "1.6.20-dev-6372"
  }
 },
 "nbformat": 4,
 "nbformat_minor": 5
}
