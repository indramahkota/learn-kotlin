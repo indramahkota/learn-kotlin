{
 "cells": [
  {
   "cell_type": "code",
   "execution_count": 1,
   "id": "e552a487",
   "metadata": {},
   "outputs": [],
   "source": [
    "%use @file[D:/Programming/Kotlin/learn-kotlin/dependencies/joda.json]\n",
    "%use @file[D:/Programming/Kotlin/learn-kotlin/dependencies/pretty_time.json]"
   ]
  },
  {
   "cell_type": "code",
   "execution_count": 2,
   "id": "a2dec90a",
   "metadata": {},
   "outputs": [],
   "source": [
    "import java.util.Date\n",
    "import org.joda.time.LocalDate"
   ]
  },
  {
   "cell_type": "code",
   "execution_count": 3,
   "id": "288cbcfa",
   "metadata": {},
   "outputs": [],
   "source": [
    "fun isSameDay(date: DateTime): Boolean {\n",
    "    val localDate = LocalDate(date)\n",
    "    val localCurrentDate = LocalDate(DateTime.now())\n",
    "    return localDate == localCurrentDate\n",
    "}"
   ]
  },
  {
   "cell_type": "code",
   "execution_count": 4,
   "id": "c1a26df0",
   "metadata": {},
   "outputs": [
    {
     "data": {
      "text/plain": [
       "false"
      ]
     },
     "execution_count": 4,
     "metadata": {},
     "output_type": "execute_result"
    }
   ],
   "source": [
    "val date = DateTime(\"2022-12-07T08:13:37.047+0000\")\n",
    "isSameDay(date)"
   ]
  },
  {
   "cell_type": "code",
   "execution_count": 13,
   "id": "240cc144",
   "metadata": {},
   "outputs": [
    {
     "data": {
      "text/plain": [
       "2023-01-08T06:00:00.000+07:00"
      ]
     },
     "execution_count": 13,
     "metadata": {},
     "output_type": "execute_result"
    }
   ],
   "source": [
    "val now = DateTime().withTime(6, 0, 0, 0)\n",
    "now"
   ]
  },
  {
   "cell_type": "code",
   "execution_count": 31,
   "id": "27baac66",
   "metadata": {},
   "outputs": [
    {
     "name": "stdout",
     "output_type": "stream",
     "text": [
      "2023-01-08T06:00:00.000+07:00 : 2023-01-09T05:00:00.000+07:00\r\n",
      "6 : 5\r\n"
     ]
    },
    {
     "data": {
      "text/plain": [
       "0"
      ]
     },
     "execution_count": 31,
     "metadata": {},
     "output_type": "execute_result"
    }
   ],
   "source": [
    "val now = DateTime().withTime(6, 0, 0, 0)\n",
    "val nextDay = DateTime(\"2023-01-09T07:00:00.000+07:00\") // now.plusDays(1)\n",
    "\n",
    "println(now.toString() + \" : \" + nextDay.toString())\n",
    "\n",
    "println(now.getHourOfDay().toString() + \" : \" + nextDay.getHourOfDay().toString())\n",
    "\n",
    "Days.daysBetween(now, nextDay).days"
   ]
  }
 ],
 "metadata": {
  "kernelspec": {
   "display_name": "Kotlin",
   "language": "kotlin",
   "name": "kotlin"
  },
  "language_info": {
   "codemirror_mode": "text/x-kotlin",
   "file_extension": ".kt",
   "mimetype": "text/x-kotlin",
   "name": "kotlin",
   "nbconvert_exporter": "",
   "pygments_lexer": "kotlin",
   "version": "1.6.20-dev-6372"
  }
 },
 "nbformat": 4,
 "nbformat_minor": 5
}
