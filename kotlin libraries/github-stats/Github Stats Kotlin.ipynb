{
 "cells": [
  {
   "cell_type": "code",
   "execution_count": 34,
   "id": "36804154",
   "metadata": {},
   "outputs": [],
   "source": [
    "%use coroutines\n",
    "\n",
    "%use @file[D:/Programming/Kotlin/learn-kotlin/dependencies/gson.json]\n",
    "%use @file[D:/Programming/Kotlin/learn-kotlin/dependencies/org_json.json]\n",
    "%use @file[D:/Programming/Kotlin/learn-kotlin/dependencies/retrofit.json]\n",
    "%use @file[D:/Programming/Kotlin/learn-kotlin/dependencies/retrofit_gson_converter.json]"
   ]
  },
  {
   "cell_type": "code",
   "execution_count": 35,
   "id": "e085d660",
   "metadata": {},
   "outputs": [],
   "source": [
    "import kotlinx.coroutines.flow.Flow\n",
    "import kotlinx.coroutines.flow.flow\n",
    "import kotlinx.coroutines.flow.MutableStateFlow\n",
    "import kotlinx.coroutines.flow.StateFlow\n",
    "import kotlinx.coroutines.flow.collect\n",
    "import kotlinx.coroutines.GlobalScope\n",
    "import kotlinx.coroutines.launch\n",
    "import okhttp3.ResponseBody\n",
    "import kotlin.reflect.KClass"
   ]
  },
  {
   "cell_type": "code",
   "execution_count": 36,
   "id": "1cacb177",
   "metadata": {},
   "outputs": [],
   "source": [
    "data class User(\n",
    "    @SerializedName(\"avatar_url\")\n",
    "    val avatarUrl: String? = null\n",
    ")"
   ]
  },
  {
   "cell_type": "code",
   "execution_count": 37,
   "id": "b274ce44",
   "metadata": {},
   "outputs": [],
   "source": [
    "interface GithubService {\n",
    "    @GET(\"users/{id}\")\n",
    "    suspend fun getUser(\n",
    "        @Path(\"id\") username: String\n",
    "    ): Response<User>\n",
    "}"
   ]
  },
  {
   "cell_type": "code",
   "execution_count": 38,
   "id": "f4ea1cf8",
   "metadata": {},
   "outputs": [],
   "source": [
    "val retrofit = Retrofit\n",
    "        .Builder().apply {\n",
    "            baseUrl(\"https://api.github.com/\")\n",
    "            addConverterFactory(GsonConverterFactory.create(GsonBuilder().create()))\n",
    "        }.build()\n",
    "        \n",
    "val service = retrofit.create(GithubService::class.java)"
   ]
  },
  {
   "cell_type": "code",
   "execution_count": 39,
   "id": "6b8e7126",
   "metadata": {},
   "outputs": [],
   "source": [
    "suspend fun getUser(username: String): User? {\n",
    "    return try {\n",
    "        val response = service.getUser(username)\n",
    "        if(response.isSuccessful)\n",
    "            response.body()\n",
    "        else null\n",
    "    } catch (e: Exception) {\n",
    "        println(e.message ?: \"Unknown error\")\n",
    "        null\n",
    "    }\n",
    "}"
   ]
  },
  {
   "cell_type": "code",
   "execution_count": 43,
   "id": "d2b22fd0",
   "metadata": {},
   "outputs": [
    {
     "name": "stdout",
     "output_type": "stream",
     "text": [
      "https://avatars.githubusercontent.com/u/34052126?v=4\r\n"
     ]
    },
    {
     "data": {
      "text/html": [
       "<img src=\"https://avatars.githubusercontent.com/u/34052126?v=4\" alt=\"Screenshot\" width=\"320\">"
      ],
      "text/plain": [
       "No HTML for text clients"
      ]
     },
     "execution_count": 43,
     "metadata": {},
     "output_type": "execute_result"
    }
   ],
   "source": [
    "runBlocking {\n",
    "    val avatar  = getUser(\"indramahkota\")?.avatarUrl\n",
    "    println(avatar)\n",
    "    val text = \"\"\"<img src=\"$avatar\" alt=\"Screenshot\" width=\"320\">\"\"\" \n",
    "    MIME(\"text/html\" to text, \"text/plain\" to \"No HTML for text clients\")\n",
    "}"
   ]
  }
 ],
 "metadata": {
  "kernelspec": {
   "display_name": "Kotlin",
   "language": "kotlin",
   "name": "kotlin"
  },
  "language_info": {
   "codemirror_mode": "text/x-kotlin",
   "file_extension": ".kt",
   "mimetype": "text/x-kotlin",
   "name": "kotlin",
   "nbconvert_exporter": "",
   "pygments_lexer": "kotlin",
   "version": "1.8.0-RC"
  }
 },
 "nbformat": 4,
 "nbformat_minor": 5
}
