{
 "cells": [
  {
   "cell_type": "code",
   "execution_count": null,
   "id": "b4b5f48a",
   "metadata": {},
   "outputs": [],
   "source": [
    "// Using Library\n",
    "// println(java.nio.file.Paths.get(\"\").toAbsolutePath().toString())\n",
    "// %use @file[[DIR_PATH]/[LIB_NAME].json]"
   ]
  },
  {
   "cell_type": "code",
   "execution_count": 1,
   "id": "704c064d",
   "metadata": {},
   "outputs": [],
   "source": [
    "%use @file[D:/Programming/Kotlin/learn-kotlin/dependencies/gson.json]"
   ]
  },
  {
   "cell_type": "code",
   "execution_count": 9,
   "id": "454bbfce",
   "metadata": {},
   "outputs": [
    {
     "data": {
      "text/plain": [
       "{\"user_ids\":[\"asasa\",\"asasa\",\"asasa\"]}"
      ]
     },
     "execution_count": 9,
     "metadata": {},
     "output_type": "execute_result"
    }
   ],
   "source": [
    "val userIds = JsonArray().apply {\n",
    "    add(\"asasa\")\n",
    "    add(\"asasa\")\n",
    "    add(\"asasa\")\n",
    "}\n",
    "\n",
    "JsonObject().apply {\n",
    "    add(\"user_ids\", userIds)\n",
    "}"
   ]
  }
 ],
 "metadata": {
  "kernelspec": {
   "display_name": "Kotlin",
   "language": "kotlin",
   "name": "kotlin"
  },
  "language_info": {
   "codemirror_mode": "text/x-kotlin",
   "file_extension": ".kt",
   "mimetype": "text/x-kotlin",
   "name": "kotlin",
   "nbconvert_exporter": "",
   "pygments_lexer": "kotlin",
   "version": "1.6.20-dev-6372"
  }
 },
 "nbformat": 4,
 "nbformat_minor": 5
}
