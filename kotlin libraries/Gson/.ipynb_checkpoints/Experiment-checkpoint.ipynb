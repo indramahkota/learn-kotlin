{
 "cells": [
  {
   "cell_type": "code",
   "execution_count": 40,
   "id": "004ac384",
   "metadata": {},
   "outputs": [],
   "source": [
    "%use @file[D:/Programming/Kotlin/learn-kotlin/dependencies/gson.json]"
   ]
  },
  {
   "cell_type": "code",
   "execution_count": 41,
   "id": "9d171c12",
   "metadata": {},
   "outputs": [],
   "source": [
    "import java.lang.reflect.Type"
   ]
  },
  {
   "cell_type": "code",
   "execution_count": 42,
   "id": "adca5182",
   "metadata": {},
   "outputs": [],
   "source": [
    "// inline fun <reified T> Gson.fromJson(json: String?): T? =\n",
    "//     try {\n",
    "//         this.fromJson<T>(json, object : TypeToken<T>() {}.type)\n",
    "//     } catch (e: Exception) {\n",
    "//         null\n",
    "//     }"
   ]
  },
  {
   "cell_type": "code",
   "execution_count": 66,
   "id": "cfa6f943",
   "metadata": {},
   "outputs": [],
   "source": [
    "data class BaseResponseExperiment<T> (\n",
    "    @SerializedName(\"variant\")\n",
    "    var variant: String? = \"control\",\n",
    "\n",
    "    @SerializedName(\"data\")\n",
    "    var data: T? = null,\n",
    ") {\n",
    "    companion object {\n",
    "        fun <T> default(\n",
    "            variant: String = \"control\",\n",
    "            data: T? = null\n",
    "        ) = BaseResponseExperiment<T>().apply {\n",
    "            this.variant = variant\n",
    "            this.data = data\n",
    "        }\n",
    "    }\n",
    "}\n",
    "\n",
    "data class BaseResponseConfig<T> (\n",
    "\n",
    "    @SerializedName(\"enable\")\n",
    "    var isEnable: Boolean? = true,\n",
    "\n",
    "    @SerializedName(\"data\")\n",
    "    var data: T? = null,\n",
    ") {\n",
    "    companion object {\n",
    "\n",
    "        fun <T> default(\n",
    "            isEnable: Boolean = true,\n",
    "            data: T? = null\n",
    "        ) = BaseResponseConfig<T>().apply {\n",
    "            this.isEnable = isEnable\n",
    "            this.data = data\n",
    "        }\n",
    "    }\n",
    "}"
   ]
  },
  {
   "cell_type": "code",
   "execution_count": 44,
   "id": "af017875",
   "metadata": {},
   "outputs": [],
   "source": [
    "val str = \"{\\\"enable\\\":true,\\\"data\\\":{\\\"variant\\\":\\\"control\\\",\\\"data\\\":[\\\"DISCOVERY_CALENDAR\\\",\\\"DISCOVERY_IPO\\\",\\\"DISCOVERY_PICK\\\",\\\"DISCOVERY_TREND\\\",\\\"DISCOVERY_CATEGORY\\\",\\\"DISCOVERY_ETF\\\",\\\"DISCOVERY_SECTOR\\\"]}}\""
   ]
  },
  {
   "cell_type": "code",
   "execution_count": 61,
   "id": "63d313ae",
   "metadata": {},
   "outputs": [
    {
     "data": {
      "text/plain": [
       "TestB(ezy={data=Hii})"
      ]
     },
     "execution_count": 61,
     "metadata": {},
     "output_type": "execute_result"
    }
   ],
   "source": [
    "// val asas = Gson().fromJson\n",
    "\n",
    "val str = \"{\\\"ezy\\\":{\\\"data\\\":\\\"Hii\\\"}}\"\n",
    "\n",
    "data class TestA(\n",
    "    val data: String\n",
    ")\n",
    "\n",
    "data class TestB<T> (\n",
    "    val ezy: T? = null\n",
    ")\n",
    "\n",
    "val asasa = Gson().fromJson(str, TestB::class.java)\n",
    "asasa"
   ]
  },
  {
   "cell_type": "code",
   "execution_count": 64,
   "id": "def43f87",
   "metadata": {},
   "outputs": [
    {
     "data": {
      "text/plain": [
       "Line_188$BaseResponseConfig@64bfd6fd"
      ]
     },
     "execution_count": 64,
     "metadata": {},
     "output_type": "execute_result"
    }
   ],
   "source": [
    "val strz = \"{\\\"enable\\\":true,\\\"data\\\":{\\\"variant\\\":\\\"control\\\",\\\"data\\\":[\\\"DISCOVERY_CALENDAR\\\",\\\"DISCOVERY_IPO\\\",\\\"DISCOVERY_PICK\\\",\\\"DISCOVERY_TREND\\\",\\\"DISCOVERY_CATEGORY\\\",\\\"DISCOVERY_ETF\\\",\\\"DISCOVERY_SECTOR\\\"]}}\"\n",
    "\n",
    "val testst = Gson().fromJson(strz, BaseResponseConfig::class.java)\n",
    "testst"
   ]
  }
 ],
 "metadata": {
  "kernelspec": {
   "display_name": "Kotlin",
   "language": "kotlin",
   "name": "kotlin"
  },
  "language_info": {
   "codemirror_mode": "text/x-kotlin",
   "file_extension": ".kt",
   "mimetype": "text/x-kotlin",
   "name": "kotlin",
   "nbconvert_exporter": "",
   "pygments_lexer": "kotlin",
   "version": "1.6.20-dev-6372"
  }
 },
 "nbformat": 4,
 "nbformat_minor": 5
}
