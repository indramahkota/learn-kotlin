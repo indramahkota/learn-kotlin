{
 "cells": [
  {
   "cell_type": "code",
   "execution_count": 27,
   "id": "f102a82c",
   "metadata": {},
   "outputs": [
    {
     "data": {
      "text/plain": [
       "root\n",
       " -> math\n",
       " -> algebra\n",
       " -> linear program\n",
       " -> trigonometry\n",
       " -> science\n",
       " -> physics"
      ]
     },
     "execution_count": 27,
     "metadata": {},
     "output_type": "execute_result"
    }
   ],
   "source": [
    "class TreeNode(val name: String) {\n",
    "    val children = mutableListOf<TreeNode>()\n",
    "\n",
    "    fun node(name: String, initialize: (TreeNode.() -> Unit)? = null) {\n",
    "        val child = TreeNode(name)\n",
    "        children.add(child)\n",
    "        if (initialize != null) {\n",
    "            child.initialize()\n",
    "        }\n",
    "    }\n",
    "    \n",
    "    fun printTree(): String {\n",
    "        var output = name\n",
    "        for (str in children) {\n",
    "            output += \"\\n -> ${str.printTree()}\"\n",
    "        }\n",
    "        return output\n",
    "    }\n",
    "}\n",
    "\n",
    "fun tree(name: String, initialize: (TreeNode.() -> Unit)? = null): TreeNode {\n",
    "    val root = TreeNode(name)\n",
    "    if (initialize != null) {\n",
    "        root.initialize()\n",
    "    }\n",
    "    return root\n",
    "}\n",
    "\n",
    "val t = tree(\"root\") {\n",
    "    node(\"math\") {\n",
    "        node(\"algebra\") {\n",
    "            node(\"linear program\")\n",
    "        }\n",
    "        node(\"trigonometry\")\n",
    "    }\n",
    "    node(\"science\") {\n",
    "        node(\"physics\")\n",
    "    }\n",
    "}\n",
    "\n",
    "t.printTree()"
   ]
  }
 ],
 "metadata": {
  "kernelspec": {
   "display_name": "Kotlin",
   "language": "kotlin",
   "name": "kotlin"
  },
  "language_info": {
   "codemirror_mode": "text/x-kotlin",
   "file_extension": ".kt",
   "mimetype": "text/x-kotlin",
   "name": "kotlin",
   "nbconvert_exporter": "",
   "pygments_lexer": "kotlin",
   "version": "1.6.20-dev-6372"
  }
 },
 "nbformat": 4,
 "nbformat_minor": 5
}
