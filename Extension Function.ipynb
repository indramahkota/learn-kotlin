{
 "cells": [
  {
   "cell_type": "code",
   "execution_count": 3,
   "id": "aa677b95",
   "metadata": {},
   "outputs": [],
   "source": [
    "fun Long.decreaseNumber(by: Long = 1, min: Long = 0): Long {\n",
    "    return (this - by).coerceAtLeast(min)\n",
    "}\n",
    "\n",
    "fun Long.decreaseNumber2(by: Long = 1, min: Long = 0) {\n",
    "    (this - by).coerceAtLeast(min)\n",
    "}"
   ]
  },
  {
   "cell_type": "code",
   "execution_count": 13,
   "id": "92edc357",
   "metadata": {},
   "outputs": [
    {
     "name": "stdout",
     "output_type": "stream",
     "text": [
      "9\r\n",
      "10\r\n",
      "10\r\n",
      "9\r\n"
     ]
    }
   ],
   "source": [
    "var number: Long = 10\n",
    "\n",
    "//\n",
    "println(number.decreaseNumber().toString())\n",
    "println(number)\n",
    "\n",
    "//\n",
    "number.decreaseNumber2()\n",
    "println(number)\n",
    "\n",
    "//\n",
    "number = number.decreaseNumber()\n",
    "println(number)"
   ]
  }
 ],
 "metadata": {
  "kernelspec": {
   "display_name": "Kotlin",
   "language": "kotlin",
   "name": "kotlin"
  },
  "language_info": {
   "codemirror_mode": "text/x-kotlin",
   "file_extension": ".kt",
   "mimetype": "text/x-kotlin",
   "name": "kotlin",
   "nbconvert_exporter": "",
   "pygments_lexer": "kotlin",
   "version": "1.6.20-dev-6372"
  }
 },
 "nbformat": 4,
 "nbformat_minor": 5
}
