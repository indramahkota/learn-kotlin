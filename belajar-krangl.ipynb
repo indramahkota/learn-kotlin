{
 "cells": [
  {
   "cell_type": "markdown",
   "id": "ed3cc81a",
   "metadata": {},
   "source": [
    "### Import library krangl"
   ]
  },
  {
   "cell_type": "code",
   "execution_count": 10,
   "id": "3e621fec",
   "metadata": {},
   "outputs": [],
   "source": [
    "%use krangl"
   ]
  },
  {
   "cell_type": "markdown",
   "id": "2114eef2",
   "metadata": {},
   "source": [
    "### Membuat Data Frame"
   ]
  },
  {
   "cell_type": "code",
   "execution_count": 9,
   "id": "f9e0b932",
   "metadata": {},
   "outputs": [
    {
     "data": {
      "text/html": [
       "<html><body><table><tr><th style=\"text-align:left\">first_name</th><th style=\"text-align:left\">last_name</th><th style=\"text-align:left\">age</th><th style=\"text-align:left\">weight</th></tr><tr><td style=\"text-align:left\" title=\"Max\">Max</td><td style=\"text-align:left\" title=\"Doe\">Doe</td><td style=\"text-align:left\" title=\"23\">23</td><td style=\"text-align:left\" title=\"55\">55</td></tr><tr><td style=\"text-align:left\" title=\"Franz\">Franz</td><td style=\"text-align:left\" title=\"Smith\">Smith</td><td style=\"text-align:left\" title=\"23\">23</td><td style=\"text-align:left\" title=\"88\">88</td></tr><tr><td style=\"text-align:left\" title=\"Horst\">Horst</td><td style=\"text-align:left\" title=\"Keanes\">Keanes</td><td style=\"text-align:left\" title=\"12\">12</td><td style=\"text-align:left\" title=\"82\">82</td></tr></table><p>Shape: 3 x 4. \n",
       "</p></body></html>"
      ]
     },
     "execution_count": 9,
     "metadata": {},
     "output_type": "execute_result"
    }
   ],
   "source": [
    "// in memory\n",
    "val df: DataFrame = dataFrameOf(\n",
    "    \"first_name\", \"last_name\", \"age\", \"weight\")(\n",
    "    \"Max\", \"Doe\", 23, 55,\n",
    "    \"Franz\", \"Smith\", 23, 88,\n",
    "    \"Horst\", \"Keanes\", 12, 82\n",
    ")\n",
    "df"
   ]
  },
  {
   "cell_type": "code",
   "execution_count": 19,
   "id": "42add13a",
   "metadata": {},
   "outputs": [
    {
     "data": {
      "text/html": [
       "<html><body><table><tr><th style=\"text-align:left\">Review #</th><th style=\"text-align:left\">Brand</th><th style=\"text-align:left\">Variety</th><th style=\"text-align:left\">Style</th><th style=\"text-align:left\">Country</th><th style=\"text-align:left\">Stars</th><th style=\"text-align:left\">Top Ten</th></tr><tr><td style=\"text-align:left\" title=\"2580\">2580</td><td style=\"text-align:left\" title=\"New Touch\">New Touch</td><td style=\"text-align:left\" title=\"T's Restaurant Tantanmen \">T's Restaurant Tantanmen </td><td style=\"text-align:left\" title=\"Cup\">Cup</td><td style=\"text-align:left\" title=\"Japan\">Japan</td><td style=\"text-align:left\" title=\"3.75\">3.75</td><td style=\"text-align:left\" title=\"\"></td></tr><tr><td style=\"text-align:left\" title=\"2579\">2579</td><td style=\"text-align:left\" title=\"Just Way\">Just Way</td><td style=\"text-align:left\" title=\"Noodles Spicy Hot Sesame Spicy Hot Sesame Guan-miao Noodles\">Noodles Spicy Hot Sesame Spicy Hot Sesame Guan-...</td><td style=\"text-align:left\" title=\"Pack\">Pack</td><td style=\"text-align:left\" title=\"Taiwan\">Taiwan</td><td style=\"text-align:left\" title=\"1\">1</td><td style=\"text-align:left\" title=\"\"></td></tr><tr><td style=\"text-align:left\" title=\"2578\">2578</td><td style=\"text-align:left\" title=\"Nissin\">Nissin</td><td style=\"text-align:left\" title=\"Cup Noodles Chicken Vegetable\">Cup Noodles Chicken Vegetable</td><td style=\"text-align:left\" title=\"Cup\">Cup</td><td style=\"text-align:left\" title=\"USA\">USA</td><td style=\"text-align:left\" title=\"2.25\">2.25</td><td style=\"text-align:left\" title=\"\"></td></tr><tr><td style=\"text-align:left\" title=\"2577\">2577</td><td style=\"text-align:left\" title=\"Wei Lih\">Wei Lih</td><td style=\"text-align:left\" title=\"GGE Ramen Snack Tomato Flavor\">GGE Ramen Snack Tomato Flavor</td><td style=\"text-align:left\" title=\"Pack\">Pack</td><td style=\"text-align:left\" title=\"Taiwan\">Taiwan</td><td style=\"text-align:left\" title=\"2.75\">2.75</td><td style=\"text-align:left\" title=\"\"></td></tr><tr><td style=\"text-align:left\" title=\"2576\">2576</td><td style=\"text-align:left\" title=\"Ching's Secret\">Ching's Secret</td><td style=\"text-align:left\" title=\"Singapore Curry\">Singapore Curry</td><td style=\"text-align:left\" title=\"Pack\">Pack</td><td style=\"text-align:left\" title=\"India\">India</td><td style=\"text-align:left\" title=\"3.75\">3.75</td><td style=\"text-align:left\" title=\"\"></td></tr><tr><td style=\"text-align:left\" title=\"2575\">2575</td><td style=\"text-align:left\" title=\"Samyang Foods\">Samyang Foods</td><td style=\"text-align:left\" title=\"Kimchi song Song Ramen\">Kimchi song Song Ramen</td><td style=\"text-align:left\" title=\"Pack\">Pack</td><td style=\"text-align:left\" title=\"South Korea\">South Korea</td><td style=\"text-align:left\" title=\"4.75\">4.75</td><td style=\"text-align:left\" title=\"\"></td></tr></table><p>... with 2574 more rows. Shape: 2580 x 7. \n",
       "</p></body></html>"
      ]
     },
     "execution_count": 19,
     "metadata": {},
     "output_type": "execute_result"
    }
   ],
   "source": [
    "// Read data-frame from disk\n",
    "val ramens = DataFrame.readCSV(\"ramen-ratings.csv\")\n",
    "ramens"
   ]
  },
  {
   "cell_type": "code",
   "execution_count": null,
   "id": "40b74941",
   "metadata": {
    "scrolled": true
   },
   "outputs": [],
   "source": [
    "ramens.select(\"Variety\", \"Stars\")"
   ]
  },
  {
   "cell_type": "code",
   "execution_count": 93,
   "id": "e91da80f",
   "metadata": {},
   "outputs": [
    {
     "data": {
      "text/html": [
       "<html><body><table><tr><th style=\"text-align:left\">Review #</th><th style=\"text-align:left\">Brand</th><th style=\"text-align:left\">Variety</th><th style=\"text-align:left\">Style</th><th style=\"text-align:left\">Country</th><th style=\"text-align:left\">Stars</th><th style=\"text-align:left\">Top Ten</th></tr><tr><td style=\"text-align:left\" title=\"2548\">2548</td><td style=\"text-align:left\" title=\"Ottogi\">Ottogi</td><td style=\"text-align:left\" title=\"Plain Instant Noodle No Soup Included\">Plain Instant Noodle No Soup Included</td><td style=\"text-align:left\" title=\"Pack\">Pack</td><td style=\"text-align:left\" title=\"South Korea\">South Korea</td><td style=\"text-align:left\" title=\"Unrated\">Unrated</td><td style=\"text-align:left\" title=\"\"></td></tr><tr><td style=\"text-align:left\" title=\"2458\">2458</td><td style=\"text-align:left\" title=\"Samyang Foods\">Samyang Foods</td><td style=\"text-align:left\" title=\"Sari Ramen\">Sari Ramen</td><td style=\"text-align:left\" title=\"Pack\">Pack</td><td style=\"text-align:left\" title=\"South Korea\">South Korea</td><td style=\"text-align:left\" title=\"Unrated\">Unrated</td><td style=\"text-align:left\" title=\"\"></td></tr><tr><td style=\"text-align:left\" title=\"1587\">1587</td><td style=\"text-align:left\" title=\"Mi E-Zee\">Mi E-Zee</td><td style=\"text-align:left\" title=\"Plain Noodles\">Plain Noodles</td><td style=\"text-align:left\" title=\"Pack\">Pack</td><td style=\"text-align:left\" title=\"Malaysia\">Malaysia</td><td style=\"text-align:left\" title=\"Unrated\">Unrated</td><td style=\"text-align:left\" title=\"\"></td></tr></table><p>Shape: 3 x 7. \n",
       "</p></body></html>"
      ]
     },
     "execution_count": 93,
     "metadata": {},
     "output_type": "execute_result"
    }
   ],
   "source": [
    "ramens.filterByRow { it[\"Stars\"] == \"Unrated\" }"
   ]
  },
  {
   "cell_type": "code",
   "execution_count": 103,
   "id": "0f1ee4a8",
   "metadata": {},
   "outputs": [
    {
     "data": {
      "text/html": [
       "<html><body><table><tr><th style=\"text-align:left\">Variety</th><th style=\"text-align:left\">Stars</th></tr><tr><td style=\"text-align:left\" title=\"Pho Ga\">Pho Ga</td><td style=\"text-align:left\" title=\"3.1\">3.1</td></tr><tr><td style=\"text-align:left\" title=\"Pad Thai\">Pad Thai</td><td style=\"text-align:left\" title=\"3.1\">3.1</td></tr><tr><td style=\"text-align:left\" title=\"Bowl Noodle Spicy Artificial Chicken\">Bowl Noodle Spicy Artificial Chicken</td><td style=\"text-align:left\" title=\"3.125\">3.125</td></tr><tr><td style=\"text-align:left\" title=\"100 Artificial Stewed Pork Chop\">100 Artificial Stewed Pork Chop</td><td style=\"text-align:left\" title=\"3.2\">3.2</td></tr><tr><td style=\"text-align:left\" title=\"GGE Noodle Snack Wheat Crackers Mexican Spicy\">GGE Noodle Snack Wheat Crackers Mexican Spicy</td><td style=\"text-align:left\" title=\"3.25\">3.25</td></tr><tr><td style=\"text-align:left\" title=\"Gekikara Ramen Rasa Pedas\">Gekikara Ramen Rasa Pedas</td><td style=\"text-align:left\" title=\"3.25\">3.25</td></tr></table><p>... with 1988 more rows. Shape: 1994 x 2. \n",
       "</p></body></html>"
      ]
     },
     "execution_count": 103,
     "metadata": {},
     "output_type": "execute_result"
    }
   ],
   "source": [
    "ramens\n",
    "    .select(\"Variety\", \"Stars\")\n",
    "    .filterByRow { it[\"Stars\"] != \"Unrated\" && it[\"Stars\"].toString().toFloat() > 3.0 }\n",
    "    .sortedBy(\"Stars\")"
   ]
  }
 ],
 "metadata": {
  "kernelspec": {
   "display_name": "Kotlin",
   "language": "kotlin",
   "name": "kotlin"
  },
  "language_info": {
   "codemirror_mode": "text/x-kotlin",
   "file_extension": ".kt",
   "mimetype": "text/x-kotlin",
   "name": "kotlin",
   "nbconvert_exporter": "",
   "pygments_lexer": "kotlin",
   "version": "1.6.20-dev-6372"
  }
 },
 "nbformat": 4,
 "nbformat_minor": 5
}
