{
 "cells": [
  {
   "cell_type": "markdown",
   "id": "382d8090",
   "metadata": {},
   "source": [
    "## Data Types & Variable"
   ]
  },
  {
   "cell_type": "markdown",
   "id": "c83cf96a",
   "metadata": {},
   "source": [
    "### Syntax [ var/val identifier: Type = initialization ]"
   ]
  },
  {
   "cell_type": "code",
   "execution_count": 4,
   "id": "cbc65ede",
   "metadata": {},
   "outputs": [
    {
     "data": {
      "text/plain": [
       "PT Mahkota"
      ]
     },
     "execution_count": 4,
     "metadata": {},
     "output_type": "execute_result"
    }
   ],
   "source": [
    "var company: String = \"PT Company\"\n",
    "company = \"PT Mahkota\"\n",
    "\n",
    "company"
   ]
  },
  {
   "cell_type": "code",
   "execution_count": 6,
   "id": "bd79552c",
   "metadata": {},
   "outputs": [
    {
     "name": "stderr",
     "output_type": "stream",
     "text": [
      "Line_55.jupyter-kts (2:1 - 8) Val cannot be reassigned"
     ]
    }
   ],
   "source": [
    "val company: String = \"PT Company\"\n",
    "company = \"PT Mahkota\"\n",
    "\n",
    "company"
   ]
  },
  {
   "cell_type": "code",
   "execution_count": 10,
   "id": "dd3a2078",
   "metadata": {},
   "outputs": [
    {
     "data": {
      "text/plain": [
       "PT Mahkota"
      ]
     },
     "execution_count": 10,
     "metadata": {},
     "output_type": "execute_result"
    }
   ],
   "source": [
    "val firstWord = \"PT \"\n",
    "val lastWord = \"Mahkota\"\n",
    "\n",
    "firstWord + lastWord"
   ]
  },
  {
   "cell_type": "code",
   "execution_count": 12,
   "id": "490f2fe7",
   "metadata": {},
   "outputs": [
    {
     "data": {
      "text/plain": [
       "30"
      ]
     },
     "execution_count": 12,
     "metadata": {},
     "output_type": "execute_result"
    }
   ],
   "source": [
    "val valueA: Int = 10\n",
    "val valueB = 20\n",
    "\n",
    "valueA + valueB"
   ]
  },
  {
   "cell_type": "markdown",
   "id": "74cfa9fd",
   "metadata": {},
   "source": [
    "### Char"
   ]
  },
  {
   "cell_type": "code",
   "execution_count": 14,
   "id": "87fec3db",
   "metadata": {},
   "outputs": [
    {
     "data": {
      "text/plain": [
       "A"
      ]
     },
     "execution_count": 14,
     "metadata": {},
     "output_type": "execute_result"
    }
   ],
   "source": [
    "val character = 'A'\n",
    "character"
   ]
  },
  {
   "cell_type": "code",
   "execution_count": 26,
   "id": "ba55a7c5",
   "metadata": {},
   "outputs": [
    {
     "name": "stderr",
     "output_type": "stream",
     "text": [
      "Line_161.jupyter-kts (1:17 - 22) Too many characters in a character literal ''ABC''"
     ]
    }
   ],
   "source": [
    "val character = 'ABC' // Incorrect character literal"
   ]
  },
  {
   "cell_type": "code",
   "execution_count": 19,
   "id": "56182b4d",
   "metadata": {},
   "outputs": [
    {
     "name": "stdout",
     "output_type": "stream",
     "text": [
      "Vocal A\r\n",
      "Vocal B\r\n",
      "Vocal C\r\n",
      "Vocal D\r\n",
      "Vocal C\r\n",
      "Vocal B\r\n",
      "Vocal A\r\n"
     ]
    }
   ],
   "source": [
    "var vocal = 'A'\n",
    " \n",
    "println(\"Vocal \" + vocal++)\n",
    "println(\"Vocal \" + vocal++)\n",
    "println(\"Vocal \" + vocal++)\n",
    "println(\"Vocal \" + vocal--)\n",
    "println(\"Vocal \" + vocal--)\n",
    "println(\"Vocal \" + vocal--)\n",
    "println(\"Vocal \" + vocal--)"
   ]
  },
  {
   "cell_type": "markdown",
   "id": "76f18c76",
   "metadata": {},
   "source": [
    "### String"
   ]
  },
  {
   "cell_type": "code",
   "execution_count": 21,
   "id": "438dfa07",
   "metadata": {},
   "outputs": [
    {
     "data": {
      "text/plain": [
       "Kotlin"
      ]
     },
     "execution_count": 21,
     "metadata": {},
     "output_type": "execute_result"
    }
   ],
   "source": [
    "val textString  = \"Kotlin\"\n",
    "textString"
   ]
  },
  {
   "cell_type": "code",
   "execution_count": 23,
   "id": "d42691f8",
   "metadata": {},
   "outputs": [
    {
     "name": "stdout",
     "output_type": "stream",
     "text": [
      "First character of Kotlin is K"
     ]
    }
   ],
   "source": [
    "val text  = \"Kotlin\"\n",
    "val firstChar = text[0]\n",
    "\n",
    "print(\"First character of $text is $firstChar\")"
   ]
  },
  {
   "cell_type": "code",
   "execution_count": 25,
   "id": "2708550e",
   "metadata": {},
   "outputs": [
    {
     "name": "stdout",
     "output_type": "stream",
     "text": [
      "K o t l i n "
     ]
    }
   ],
   "source": [
    "val text  = \"Kotlin\"\n",
    "\n",
    "for (char in text){\n",
    "    print(\"$char \")\n",
    "}"
   ]
  },
  {
   "cell_type": "markdown",
   "id": "6557404d",
   "metadata": {},
   "source": [
    "### Escaped String"
   ]
  },
  {
   "cell_type": "code",
   "execution_count": 36,
   "id": "c43ca612",
   "metadata": {},
   "outputs": [
    {
     "name": "stderr",
     "output_type": "stream",
     "text": [
      "Line_187.jupyter-kts (1:29 - 36) Unresolved reference: Awesome\n",
      "Line_187.jupyter-kts (1:29 - 36) Unsupported [literal prefixes and suffixes]\n",
      "Line_187.jupyter-kts (1:36 - 37) Unresolved reference: !"
     ]
    }
   ],
   "source": [
    "val statement = \"Kotlin is \"Awesome!\"\"\n",
    "statement"
   ]
  },
  {
   "cell_type": "markdown",
   "id": "c08f0bfb",
   "metadata": {},
   "source": [
    "\\t: menambah tab ke dalam teks.\n",
    "\n",
    "\\n: membuat baris baru di dalam teks.\n",
    "\n",
    "\\’: menambah karakter single quote kedalam teks.\n",
    "\n",
    "\\”: menambah karakter double quote kedalam teks.\n",
    "\n",
    "\\\\: menambah karakter backslash kedalam teks."
   ]
  },
  {
   "cell_type": "code",
   "execution_count": 37,
   "id": "3c08a394",
   "metadata": {},
   "outputs": [
    {
     "data": {
      "text/plain": [
       "Kotlin is \"Awesome!\""
      ]
     },
     "execution_count": 37,
     "metadata": {},
     "output_type": "execute_result"
    }
   ],
   "source": [
    "val statement = \"Kotlin is \\\"Awesome!\\\"\"\n",
    "statement"
   ]
  },
  {
   "cell_type": "markdown",
   "id": "fa1f910d",
   "metadata": {},
   "source": [
    "### Unicode"
   ]
  },
  {
   "cell_type": "code",
   "execution_count": 34,
   "id": "42b7f05e",
   "metadata": {},
   "outputs": [
    {
     "name": "stdout",
     "output_type": "stream",
     "text": [
      "Unicode test: ©"
     ]
    }
   ],
   "source": [
    "val name = \"Unicode test: \\u00A9\"\n",
    "print(name)"
   ]
  },
  {
   "cell_type": "markdown",
   "id": "66c81599",
   "metadata": {},
   "source": [
    "### Raw String"
   ]
  },
  {
   "cell_type": "code",
   "execution_count": 38,
   "id": "a8b4d88d",
   "metadata": {},
   "outputs": [
    {
     "name": "stdout",
     "output_type": "stream",
     "text": [
      "Line 1\n",
      "Line 2\n",
      "Line 3\n",
      "Line 4"
     ]
    }
   ],
   "source": [
    "val line = \"\"\"\n",
    "        Line 1\n",
    "        Line 2\n",
    "        Line 3\n",
    "        Line 4\n",
    "    \"\"\".trimIndent()\n",
    " \n",
    "print(line)"
   ]
  },
  {
   "cell_type": "markdown",
   "id": "4f407a76",
   "metadata": {},
   "source": [
    "### Boolean"
   ]
  },
  {
   "cell_type": "markdown",
   "id": "a0123e25",
   "metadata": {},
   "source": [
    "#### Conjunction atau AND (&&)"
   ]
  },
  {
   "cell_type": "code",
   "execution_count": 41,
   "id": "4de5bbe3",
   "metadata": {},
   "outputs": [
    {
     "name": "stdout",
     "output_type": "stream",
     "text": [
      "Office is open : false"
     ]
    }
   ],
   "source": [
    "val officeOpen = 7\n",
    "val officeClosed = 16\n",
    "val now = 20\n",
    "\n",
    "val isOpen = now >= officeOpen && now <= officeClosed\n",
    "\n",
    "print(\"Office is open : $isOpen\")"
   ]
  },
  {
   "cell_type": "markdown",
   "id": "ccd4b72b",
   "metadata": {},
   "source": [
    "#### Disjunction atau OR (||)"
   ]
  },
  {
   "cell_type": "code",
   "execution_count": 40,
   "id": "9b99ef69",
   "metadata": {},
   "outputs": [
    {
     "name": "stdout",
     "output_type": "stream",
     "text": [
      "Office is closed : true"
     ]
    }
   ],
   "source": [
    "val officeOpen = 7\n",
    "val officeClosed = 16\n",
    "val now = 20\n",
    "\n",
    "val isClose = now < officeOpen || now > officeClosed\n",
    "\n",
    "print(\"Office is closed : $isClose\")"
   ]
  },
  {
   "cell_type": "markdown",
   "id": "3d2b3ed9",
   "metadata": {},
   "source": [
    "#### Negation atau NOT (!) "
   ]
  },
  {
   "cell_type": "code",
   "execution_count": 42,
   "id": "94ce84a6",
   "metadata": {},
   "outputs": [
    {
     "name": "stdout",
     "output_type": "stream",
     "text": [
      "Office is open"
     ]
    }
   ],
   "source": [
    "val officeOpen = 7\n",
    "val now = 10\n",
    "val isOpen = now > officeOpen\n",
    "\n",
    "if (!isOpen) {\n",
    "    print(\"Office is closed\")\n",
    "} else {\n",
    "    print(\"Office is open\")\n",
    "}"
   ]
  },
  {
   "cell_type": "markdown",
   "id": "51fd46dc",
   "metadata": {},
   "source": [
    "### Number (Integer)"
   ]
  },
  {
   "cell_type": "markdown",
   "id": "4e17e67a",
   "metadata": {},
   "source": [
    "#### Byte (8 Bit)"
   ]
  },
  {
   "cell_type": "code",
   "execution_count": 63,
   "id": "6cba5e6c",
   "metadata": {},
   "outputs": [
    {
     "name": "stdout",
     "output_type": "stream",
     "text": [
      "127\r\n",
      "-128\r\n"
     ]
    }
   ],
   "source": [
    "val maxByte = Byte.MAX_VALUE\n",
    "val minByte = Byte.MIN_VALUE\n",
    "\n",
    "println(maxByte)\n",
    "println(minByte)"
   ]
  },
  {
   "cell_type": "code",
   "execution_count": 50,
   "id": "b4c82d76",
   "metadata": {},
   "outputs": [
    {
     "data": {
      "text/plain": [
       "210"
      ]
     },
     "execution_count": 50,
     "metadata": {},
     "output_type": "execute_result"
    }
   ],
   "source": [
    "val byteNumber = 0b11010010\n",
    "byteNumber"
   ]
  },
  {
   "cell_type": "markdown",
   "id": "70710f5e",
   "metadata": {},
   "source": [
    "#### Short (16 Bit)"
   ]
  },
  {
   "cell_type": "code",
   "execution_count": 64,
   "id": "5d5785bf",
   "metadata": {},
   "outputs": [
    {
     "name": "stdout",
     "output_type": "stream",
     "text": [
      "32767\r\n",
      "-32768\r\n"
     ]
    }
   ],
   "source": [
    "val maxShort = Short.MAX_VALUE\n",
    "val minShort = Short.MIN_VALUE\n",
    "\n",
    "println(maxShort)\n",
    "println(minShort)"
   ]
  },
  {
   "cell_type": "code",
   "execution_count": 51,
   "id": "4bb8d6f8",
   "metadata": {},
   "outputs": [
    {
     "data": {
      "text/plain": [
       "10"
      ]
     },
     "execution_count": 51,
     "metadata": {},
     "output_type": "execute_result"
    }
   ],
   "source": [
    "val shortNumber: Short = 10\n",
    "shortNumber"
   ]
  },
  {
   "cell_type": "markdown",
   "id": "7a0cb01e",
   "metadata": {},
   "source": [
    "#### Int (32 Bit) range -2^31 sampai +2^31-1"
   ]
  },
  {
   "cell_type": "code",
   "execution_count": 60,
   "id": "440213f0",
   "metadata": {},
   "outputs": [
    {
     "name": "stdout",
     "output_type": "stream",
     "text": [
      "2147483647\r\n",
      "-2147483648\r\n"
     ]
    }
   ],
   "source": [
    "val maxInt = Int.MAX_VALUE\n",
    "val minInt = Int.MIN_VALUE\n",
    "\n",
    "println(maxInt)\n",
    "println(minInt)"
   ]
  },
  {
   "cell_type": "code",
   "execution_count": 71,
   "id": "a9d3afee",
   "metadata": {},
   "outputs": [
    {
     "data": {
      "text/plain": [
       "100"
      ]
     },
     "execution_count": 71,
     "metadata": {},
     "output_type": "execute_result"
    }
   ],
   "source": [
    "val intNumber = 100\n",
    "intNumber"
   ]
  },
  {
   "cell_type": "code",
   "execution_count": 73,
   "id": "23d3e297",
   "metadata": {},
   "outputs": [
    {
     "name": "stderr",
     "output_type": "stream",
     "text": [
      "Line_352.jupyter-kts (2:22 - 32) Type mismatch: inferred type is Byte but Int was expected"
     ]
    }
   ],
   "source": [
    "val byteNumber: Byte = 1\n",
    "val intNumber: Int = byteNumber // compile error"
   ]
  },
  {
   "cell_type": "code",
   "execution_count": 77,
   "id": "56ac791e",
   "metadata": {},
   "outputs": [
    {
     "data": {
      "text/plain": [
       "10"
      ]
     },
     "execution_count": 77,
     "metadata": {},
     "output_type": "execute_result"
    }
   ],
   "source": [
    "val byteNumber: Byte = 10\n",
    "val intNumber: Int = byteNumber.toInt() // ready to go\n",
    "intNumber"
   ]
  },
  {
   "cell_type": "markdown",
   "id": "86a6ebad",
   "metadata": {},
   "source": [
    "#### Long (64 Bit) range -2^63 sampai +2^63-1"
   ]
  },
  {
   "cell_type": "code",
   "execution_count": 66,
   "id": "735a0c5e",
   "metadata": {},
   "outputs": [
    {
     "name": "stdout",
     "output_type": "stream",
     "text": [
      "9223372036854775807\r\n",
      "-9223372036854775808\r\n"
     ]
    }
   ],
   "source": [
    "val maxLong = Long.MAX_VALUE\n",
    "val minLong = Long.MIN_VALUE\n",
    "\n",
    "println(maxLong)\n",
    "println(minLong)"
   ]
  },
  {
   "cell_type": "code",
   "execution_count": 47,
   "id": "ad1d022d",
   "metadata": {},
   "outputs": [
    {
     "data": {
      "text/plain": [
       "100"
      ]
     },
     "execution_count": 47,
     "metadata": {},
     "output_type": "execute_result"
    }
   ],
   "source": [
    "val longNumber: Long = 100\n",
    "longNumber"
   ]
  },
  {
   "cell_type": "code",
   "execution_count": 52,
   "id": "ae1cf693",
   "metadata": {},
   "outputs": [
    {
     "data": {
      "text/plain": [
       "100"
      ]
     },
     "execution_count": 52,
     "metadata": {},
     "output_type": "execute_result"
    }
   ],
   "source": [
    "val longNumber = 100L\n",
    "longNumber"
   ]
  },
  {
   "cell_type": "markdown",
   "id": "c0fc4938",
   "metadata": {},
   "source": [
    "### Number (Floating Point)"
   ]
  },
  {
   "cell_type": "markdown",
   "id": "8a3dce08",
   "metadata": {},
   "source": [
    "### Float (32 Bit)"
   ]
  },
  {
   "cell_type": "code",
   "execution_count": 67,
   "id": "67828e77",
   "metadata": {},
   "outputs": [
    {
     "name": "stdout",
     "output_type": "stream",
     "text": [
      "3.4028235E38\r\n",
      "1.4E-45\r\n"
     ]
    }
   ],
   "source": [
    "val maxFloat = Float.MAX_VALUE\n",
    "val minFloat = Float.MIN_VALUE\n",
    "\n",
    "println(maxFloat)\n",
    "println(minFloat)"
   ]
  },
  {
   "cell_type": "code",
   "execution_count": 55,
   "id": "1d62b38d",
   "metadata": {},
   "outputs": [
    {
     "data": {
      "text/plain": [
       "0.12345679"
      ]
     },
     "execution_count": 55,
     "metadata": {},
     "output_type": "execute_result"
    }
   ],
   "source": [
    "val floatNumber: Float = 0.123456789f\n",
    "floatNumber"
   ]
  },
  {
   "cell_type": "markdown",
   "id": "8528687b",
   "metadata": {},
   "source": [
    "### Double (64 Bit)"
   ]
  },
  {
   "cell_type": "code",
   "execution_count": 70,
   "id": "7ab76e61",
   "metadata": {},
   "outputs": [
    {
     "name": "stdout",
     "output_type": "stream",
     "text": [
      "1.7976931348623157E308\r\n",
      "4.9E-324\r\n"
     ]
    }
   ],
   "source": [
    "val maxDouble = Double.MAX_VALUE\n",
    "val minDouble = Double.MIN_VALUE\n",
    "\n",
    "println(maxDouble)\n",
    "println(minDouble)"
   ]
  },
  {
   "cell_type": "code",
   "execution_count": 81,
   "id": "d095df05",
   "metadata": {},
   "outputs": [
    {
     "data": {
      "text/plain": [
       "1.3"
      ]
     },
     "execution_count": 81,
     "metadata": {},
     "output_type": "execute_result"
    }
   ],
   "source": [
    "val doubleNumber: Double = 1.3\n",
    "doubleNumber"
   ]
  },
  {
   "cell_type": "markdown",
   "id": "7e9a17d0",
   "metadata": {},
   "source": [
    "### Arrays"
   ]
  },
  {
   "cell_type": "code",
   "execution_count": 91,
   "id": "f7435c60",
   "metadata": {},
   "outputs": [
    {
     "data": {
      "text/plain": [
       "[1, 3, 5, 7]"
      ]
     },
     "execution_count": 91,
     "metadata": {},
     "output_type": "execute_result"
    }
   ],
   "source": [
    "val array = arrayOf(1, 3, 5, 7)\n",
    "array.contentToString()"
   ]
  },
  {
   "cell_type": "code",
   "execution_count": 92,
   "id": "cee0c171",
   "metadata": {},
   "outputs": [
    {
     "data": {
      "text/plain": [
       "[1, 3, 5, 7, Indra, true]"
      ]
     },
     "execution_count": 92,
     "metadata": {},
     "output_type": "execute_result"
    }
   ],
   "source": [
    "val mixArray = arrayOf(1, 3, 5, 7 , \"Indra\" , true)\n",
    "mixArray.contentDeepToString()"
   ]
  },
  {
   "cell_type": "code",
   "execution_count": 93,
   "id": "87cc7ce8",
   "metadata": {},
   "outputs": [
    {
     "data": {
      "text/plain": [
       "[0, 1, 4, 9]"
      ]
     },
     "execution_count": 93,
     "metadata": {},
     "output_type": "execute_result"
    }
   ],
   "source": [
    "val intArray = Array(4, { i -> i * i }) // [0, 1, 4, 9]\n",
    "intArray.contentToString()"
   ]
  }
 ],
 "metadata": {
  "kernelspec": {
   "display_name": "Kotlin",
   "language": "kotlin",
   "name": "kotlin"
  },
  "language_info": {
   "codemirror_mode": "text/x-kotlin",
   "file_extension": ".kt",
   "mimetype": "text/x-kotlin",
   "name": "kotlin",
   "nbconvert_exporter": "",
   "pygments_lexer": "kotlin",
   "version": "1.6.20-dev-6372"
  }
 },
 "nbformat": 4,
 "nbformat_minor": 5
}
