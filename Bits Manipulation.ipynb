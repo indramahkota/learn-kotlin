{
 "cells": [
  {
   "cell_type": "code",
   "execution_count": 41,
   "id": "fcb7dc05",
   "metadata": {},
   "outputs": [],
   "source": [
    "%use coroutines"
   ]
  },
  {
   "cell_type": "code",
   "execution_count": 42,
   "id": "560079e5",
   "metadata": {},
   "outputs": [],
   "source": [
    "// Suspend function with return type\n",
    "suspend fun doCalc(num: Int): Int = withContext(Dispatchers.IO) {\n",
    "    val nBits = (ln(num.toDouble()) / ln(2.0)).toInt() + 1\n",
    "    val mask = (1 shl nBits) - 1\n",
    "    num.inv() and mask\n",
    "}"
   ]
  },
  {
   "cell_type": "code",
   "execution_count": 43,
   "id": "999f3004",
   "metadata": {},
   "outputs": [
    {
     "name": "stdout",
     "output_type": "stream",
     "text": [
      "2\r\n",
      "Done 2 ms\r\n"
     ]
    }
   ],
   "source": [
    "import java.time.Instant\n",
    "\n",
    "inline fun time(action: () -> Unit): Long {\n",
    "    val start = Instant.now().toEpochMilli()\n",
    "    action()\n",
    "    return Instant.now().toEpochMilli() - start\n",
    "}\n",
    "\n",
    "fun main() = runBlocking {\n",
    "    val t = time {\n",
    "        println(doCalc(5))\n",
    "    }\n",
    "    println(\"Done $t ms\")\n",
    "}\n",
    "\n",
    "main()"
   ]
  }
 ],
 "metadata": {
  "kernelspec": {
   "display_name": "Kotlin",
   "language": "kotlin",
   "name": "kotlin"
  },
  "language_info": {
   "codemirror_mode": "text/x-kotlin",
   "file_extension": ".kt",
   "mimetype": "text/x-kotlin",
   "name": "kotlin",
   "nbconvert_exporter": "",
   "pygments_lexer": "kotlin",
   "version": "1.6.20-dev-6372"
  }
 },
 "nbformat": 4,
 "nbformat_minor": 5
}
