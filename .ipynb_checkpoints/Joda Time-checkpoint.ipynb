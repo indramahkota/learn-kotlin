{
 "cells": [
  {
   "cell_type": "markdown",
   "id": "7cf00f38",
   "metadata": {},
   "source": [
    "### Reference\n",
    "#### https://stackoverflow.com/questions/35858608/how-to-convert-time-to-time-ago-in-android\n",
    "#### https://stackoverflow.com/questions/2201925/converting-iso-8601-compliant-string-to-java-util-date\n",
    "#### https://stackoverflow.com/questions/43212229/how-do-i-convert-iso8601-to-utc-using-joda-time-in-java"
   ]
  },
  {
   "cell_type": "code",
   "execution_count": 26,
   "id": "7e45720b",
   "metadata": {},
   "outputs": [],
   "source": [
    "%use @joda.json\n",
    "%use @pretty_time.json\n",
    "\n",
    "import java.util.Locale"
   ]
  },
  {
   "cell_type": "code",
   "execution_count": 27,
   "id": "951455e4",
   "metadata": {},
   "outputs": [
    {
     "data": {
      "text/plain": [
       "Wed Dec 15 15:33:09 ICT 2021"
      ]
     },
     "execution_count": 27,
     "metadata": {},
     "output_type": "execute_result"
    }
   ],
   "source": [
    "val dateTime = DateTime(\"2021-12-15T08:33:09Z\", DateTimeZone.UTC)\n",
    "val date = dateTime.toDate()\n",
    "date"
   ]
  },
  {
   "cell_type": "code",
   "execution_count": 28,
   "id": "5505e642",
   "metadata": {},
   "outputs": [
    {
     "data": {
      "text/plain": [
       "PrettyTime [reference=null, locale=en_ID]"
      ]
     },
     "execution_count": 28,
     "metadata": {},
     "output_type": "execute_result"
    }
   ],
   "source": [
    "val prettyTime = PrettyTime(Locale.getDefault())\n",
    "prettyTime"
   ]
  },
  {
   "cell_type": "code",
   "execution_count": 30,
   "id": "95cd3679",
   "metadata": {},
   "outputs": [
    {
     "data": {
      "text/plain": [
       "Updated 1 month ago"
      ]
     },
     "execution_count": 30,
     "metadata": {},
     "output_type": "execute_result"
    }
   ],
   "source": [
    "val ago = prettyTime.format(date)\n",
    "\"Updated \" + ago"
   ]
  }
 ],
 "metadata": {
  "kernelspec": {
   "display_name": "Kotlin",
   "language": "kotlin",
   "name": "kotlin"
  },
  "language_info": {
   "codemirror_mode": "text/x-kotlin",
   "file_extension": ".kt",
   "mimetype": "text/x-kotlin",
   "name": "kotlin",
   "nbconvert_exporter": "",
   "pygments_lexer": "kotlin",
   "version": "1.6.20-dev-6372"
  }
 },
 "nbformat": 4,
 "nbformat_minor": 5
}
