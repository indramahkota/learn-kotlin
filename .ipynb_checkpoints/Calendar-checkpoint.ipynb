{
 "cells": [
  {
   "cell_type": "code",
   "execution_count": 9,
   "id": "c9cc5fe7",
   "metadata": {},
   "outputs": [
    {
     "data": {
      "text/plain": [
       "2012-01-31"
      ]
     },
     "execution_count": 9,
     "metadata": {},
     "output_type": "execute_result"
    }
   ],
   "source": [
    "import java.time.format.DateTimeFormatter\n",
    "import java.time.LocalDate\n",
    "import java.util.Calendar\n",
    "\n",
    "val date = \"1/13/2012\"\n",
    "var convertedDate = LocalDate.parse(date, DateTimeFormatter.ofPattern(\"M/d/yyyy\"))\n",
    "convertedDate = convertedDate.withDayOfMonth(convertedDate.getMonth().length(convertedDate.isLeapYear()))\n",
    "\n",
    "convertedDate"
   ]
  },
  {
   "cell_type": "code",
   "execution_count": 10,
   "id": "b9601780",
   "metadata": {},
   "outputs": [],
   "source": [
    "val calendar = Calendar.getInstance()\n",
    "calendar.set"
   ]
  }
 ],
 "metadata": {
  "kernelspec": {
   "display_name": "Kotlin",
   "language": "kotlin",
   "name": "kotlin"
  },
  "language_info": {
   "codemirror_mode": "text/x-kotlin",
   "file_extension": ".kt",
   "mimetype": "text/x-kotlin",
   "name": "kotlin",
   "nbconvert_exporter": "",
   "pygments_lexer": "kotlin",
   "version": "1.6.20-dev-6372"
  }
 },
 "nbformat": 4,
 "nbformat_minor": 5
}
