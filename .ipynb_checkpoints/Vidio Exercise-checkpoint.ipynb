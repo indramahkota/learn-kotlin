{
 "cells": [
  {
   "cell_type": "code",
   "execution_count": 3,
   "id": "adadebf0",
   "metadata": {},
   "outputs": [
    {
     "name": "stdout",
     "output_type": "stream",
     "text": [
      "stdin:1\n"
     ]
    }
   ],
   "source": [
    "import java.util.Scanner\n",
    "\n",
    "val scan = Scanner(System.`in`)\n",
    "val a = scan.next().trim().toInt()"
   ]
  },
  {
   "cell_type": "code",
   "execution_count": 40,
   "id": "8cd1a1de",
   "metadata": {
    "scrolled": true
   },
   "outputs": [
    {
     "name": "stdout",
     "output_type": "stream",
     "text": [
      "*****\r\n",
      " *****\r\n",
      "  *****\r\n",
      "   *****\r\n",
      "    *****\r\n"
     ]
    }
   ],
   "source": [
    "fun solution(input: Int) {\n",
    "    val sb = StringBuilder()\n",
    "    repeat(input) { index ->\n",
    "        when (index) {\n",
    "            0 -> sb.append(\"*\".repeat(input))\n",
    "            else -> sb.insert(0, \" \")\n",
    "        }\n",
    "        println(sb)\n",
    "    }\n",
    "}\n",
    "\n",
    "solution(5)"
   ]
  },
  {
   "cell_type": "code",
   "execution_count": 37,
   "id": "a8e9b8cc",
   "metadata": {},
   "outputs": [
    {
     "data": {
      "text/plain": [
       "StandaloneCoroutine{Active}@57ce634f"
      ]
     },
     "execution_count": 37,
     "metadata": {},
     "output_type": "execute_result"
    }
   ],
   "source": [
    "val scope = CoroutineScope(Job() + Dispatchers.IO)\n",
    "\n",
    "scope.launch {\n",
    "    delay(100L)\n",
    "    println(\"World!\")\n",
    "}"
   ]
  },
  {
   "cell_type": "code",
   "execution_count": 38,
   "id": "d1dfe4c4",
   "metadata": {},
   "outputs": [
    {
     "name": "stdout",
     "output_type": "stream",
     "text": [
      "                     \n",
      "                    * \n",
      "                   * * \n",
      "                  * * * \n",
      "                 * * * * \n",
      "                * * * * * \n",
      "               * * * * * * \n",
      "              * * * * * * * \n",
      "             * * * * * * * * \n",
      "            * * * * * * * * * \n",
      "           * * * * * * * * * * \n",
      "          * * * * * * * * * * * \n",
      "         * * * * * * * * * * * * \n",
      "        * * * * * * * * * * * * * \n",
      "       * * * * * * * * * * * * * * \n",
      "      * * * * * * * * * * * * * * * \n",
      "     * * * * * * * * * * * * * * * * \n",
      "    * * * * * * * * * * * * * * * * * \n",
      "   * * * * * * * * * * * * * * * * * * \n",
      "  * * * * * * * * * * * * * * * * * * * \n",
      " * * * * * * * * * * * * * * * * * * * * \n"
     ]
    }
   ],
   "source": [
    "fun solution(input: Int) { \n",
    "    for(i in 0 until  input){\n",
    "        for(j in 0 until input-i){\n",
    "            print(\" \")\n",
    "        }\n",
    "        for(k in 0 until i){\n",
    "            print(\"* \")\n",
    "        }\n",
    "        println(\"\")\n",
    "    }\n",
    "}\n",
    "\n",
    "solution(21)"
   ]
  }
 ],
 "metadata": {
  "kernelspec": {
   "display_name": "Kotlin",
   "language": "kotlin",
   "name": "kotlin"
  },
  "language_info": {
   "codemirror_mode": "text/x-kotlin",
   "file_extension": ".kt",
   "mimetype": "text/x-kotlin",
   "name": "kotlin",
   "nbconvert_exporter": "",
   "pygments_lexer": "kotlin",
   "version": "1.6.20-dev-6372"
  }
 },
 "nbformat": 4,
 "nbformat_minor": 5
}
