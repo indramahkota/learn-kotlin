{
 "cells": [
  {
   "cell_type": "code",
   "execution_count": 1,
   "id": "5ae70a60",
   "metadata": {},
   "outputs": [],
   "source": [
    "fun Long.decreaseNumber(by: Long = 1, min: Long = 0): Long {\n",
    "    return (this - by).coerceAtLeast(min)\n",
    "}"
   ]
  },
  {
   "cell_type": "code",
   "execution_count": 2,
   "id": "d2ba3395",
   "metadata": {},
   "outputs": [],
   "source": [
    "val number: Long = 10\n",
    "\n",
    "number.decreaseNumber()"
   ]
  }
 ],
 "metadata": {
  "kernelspec": {
   "display_name": "Kotlin",
   "language": "kotlin",
   "name": "kotlin"
  },
  "language_info": {
   "codemirror_mode": "text/x-kotlin",
   "file_extension": ".kt",
   "mimetype": "text/x-kotlin",
   "name": "kotlin",
   "nbconvert_exporter": "",
   "pygments_lexer": "kotlin",
   "version": "1.6.20-dev-6372"
  }
 },
 "nbformat": 4,
 "nbformat_minor": 5
}
