{
 "cells": [
  {
   "cell_type": "markdown",
   "id": "7cf00f38",
   "metadata": {},
   "source": [
    "### Reference\n",
    "#### https://stackoverflow.com/questions/35858608/how-to-convert-time-to-time-ago-in-android\n",
    "#### https://stackoverflow.com/questions/2201925/converting-iso-8601-compliant-string-to-java-util-date\n",
    "#### https://stackoverflow.com/questions/43212229/how-do-i-convert-iso8601-to-utc-using-joda-time-in-java"
   ]
  },
  {
   "cell_type": "code",
   "execution_count": 4,
   "id": "7e45720b",
   "metadata": {},
   "outputs": [],
   "source": [
    "%use @joda.json\n",
    "%use @pretty_time.json\n",
    "\n",
    "import java.util.*"
   ]
  },
  {
   "cell_type": "code",
   "execution_count": 27,
   "id": "951455e4",
   "metadata": {},
   "outputs": [
    {
     "data": {
      "text/plain": [
       "Wed Dec 15 15:33:09 ICT 2021"
      ]
     },
     "execution_count": 27,
     "metadata": {},
     "output_type": "execute_result"
    }
   ],
   "source": [
    "val dateTime = DateTime(\"2021-12-15T08:33:09Z\", DateTimeZone.UTC)\n",
    "val date = dateTime.toDate()\n",
    "date"
   ]
  },
  {
   "cell_type": "code",
   "execution_count": 28,
   "id": "5505e642",
   "metadata": {},
   "outputs": [
    {
     "data": {
      "text/plain": [
       "PrettyTime [reference=null, locale=en_ID]"
      ]
     },
     "execution_count": 28,
     "metadata": {},
     "output_type": "execute_result"
    }
   ],
   "source": [
    "val prettyTime = PrettyTime(Locale.getDefault())\n",
    "prettyTime"
   ]
  },
  {
   "cell_type": "code",
   "execution_count": 30,
   "id": "95cd3679",
   "metadata": {},
   "outputs": [
    {
     "data": {
      "text/plain": [
       "Updated 1 month ago"
      ]
     },
     "execution_count": 30,
     "metadata": {},
     "output_type": "execute_result"
    }
   ],
   "source": [
    "val ago = prettyTime.format(date)\n",
    "\"Updated \" + ago"
   ]
  },
  {
   "cell_type": "code",
   "execution_count": 13,
   "id": "2f57a2e8",
   "metadata": {},
   "outputs": [],
   "source": [
    "fun String.asTimeAgo(): String? {\n",
    "    return try {\n",
    "        val dateTime = DateTime(this, DateTimeZone.UTC)\n",
    "        val prettyTime = PrettyTime(Locale.getDefault())\n",
    "        val ago = prettyTime.format(dateTime.toDate())\n",
    "        \"Updated $ago\"\n",
    "    } catch (e: IllegalArgumentException) {\n",
    "        null\n",
    "    }\n",
    "}"
   ]
  },
  {
   "cell_type": "code",
   "execution_count": 11,
   "id": "46a3524e",
   "metadata": {},
   "outputs": [
    {
     "data": {
      "text/plain": [
       "2022-01-24T18:07:13.749Z"
      ]
     },
     "execution_count": 11,
     "metadata": {},
     "output_type": "execute_result"
    }
   ],
   "source": [
    "val momentsAgo = DateTime(Date(), DateTimeZone.UTC)\n",
    "momentsAgo"
   ]
  },
  {
   "cell_type": "code",
   "execution_count": 32,
   "id": "d420668a",
   "metadata": {},
   "outputs": [
    {
     "name": "stdout",
     "output_type": "stream",
     "text": [
      "2022-01-24T18:15:16.783\n",
      "Updated moments ago\n",
      "\n",
      "2022-01-24T17:51:06.784\n",
      "Updated 25 minutes ago\n",
      "\n",
      "2022-01-24T13:16:06.785\n",
      "Updated 5 hours ago\n"
     ]
    }
   ],
   "source": [
    "val secondsAgo = LocalDateTime(DateTimeZone.UTC).minusSeconds(50)\n",
    "println(secondsAgo)\n",
    "println(secondsAgo.toString().asTimeAgo())\n",
    "\n",
    "println()\n",
    "\n",
    "val minutesAgo = LocalDateTime(DateTimeZone.UTC).minusMinutes(25)\n",
    "println(minutesAgo)\n",
    "println(minutesAgo.toString().asTimeAgo())\n",
    "\n",
    "println()\n",
    "\n",
    "val hoursAgo = LocalDateTime(DateTimeZone.UTC).minusHours(5)\n",
    "println(hoursAgo)\n",
    "println(hoursAgo.toString().asTimeAgo())\n",
    "\n",
    "println()\n",
    "\n",
    "val dayssAgo = LocalDateTime(DateTimeZone.UTC).minusDays(15)\n",
    "println(dayssAgo)\n",
    "println(dayssAgo.toString().asTimeAgo())"
   ]
  }
 ],
 "metadata": {
  "kernelspec": {
   "display_name": "Kotlin",
   "language": "kotlin",
   "name": "kotlin"
  },
  "language_info": {
   "codemirror_mode": "text/x-kotlin",
   "file_extension": ".kt",
   "mimetype": "text/x-kotlin",
   "name": "kotlin",
   "nbconvert_exporter": "",
   "pygments_lexer": "kotlin",
   "version": "1.6.20-dev-6372"
  }
 },
 "nbformat": 4,
 "nbformat_minor": 5
}
