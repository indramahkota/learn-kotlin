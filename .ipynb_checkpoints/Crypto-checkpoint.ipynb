{
 "cells": [
  {
   "cell_type": "code",
   "execution_count": 146,
   "id": "636b7077",
   "metadata": {},
   "outputs": [],
   "source": [
    "%use coroutines"
   ]
  },
  {
   "cell_type": "code",
   "execution_count": 9,
   "id": "c6b12e3b",
   "metadata": {},
   "outputs": [],
   "source": [
    "// Java\n",
    "import java.util.Base64\n",
    "import javax.crypto.Cipher\n",
    "import javax.crypto.SecretKeyFactory\n",
    "import javax.crypto.spec.PBEKeySpec\n",
    "import javax.crypto.spec.PBEParameterSpec\n",
    "\n",
    "// Kotlin\n",
    "import kotlin.random.Random\n",
    "import kotlin.properties.Delegates"
   ]
  },
  {
   "cell_type": "code",
   "execution_count": 42,
   "id": "d958356d",
   "metadata": {},
   "outputs": [
    {
     "name": "stdout",
     "output_type": "stream",
     "text": [
      "Hello world 1233  \r\n"
     ]
    }
   ],
   "source": [
    "var str = \"Hello !!!😎world @1233*@@():)👌👌👌 ] [\"\n",
    "\n",
    "// [^ ... ]  Match any character that is not in the set.\n",
    "// Matches a character in the range \"A\" to \"Z\" (char code 65 to 90). Case sensitive.\n",
    "// Matches a character in the range \"a\" to \"z\" (char code 97 to 122). Case sensitive.\n",
    "// Matches a character in the range \"0\" to \"9\" (char code 48 to 57). Case sensitive.\n",
    "// Matches a SPACE character (char code 32). \n",
    "\n",
    "val re = \"[^A-Za-z0-9 ]\".toRegex()\n",
    "str = re.replace(str, \"\")\n",
    "\n",
    "println(str)"
   ]
  },
  {
   "cell_type": "code",
   "execution_count": 38,
   "id": "3039a93c",
   "metadata": {},
   "outputs": [
    {
     "name": "stdout",
     "output_type": "stream",
     "text": [
      "A B C D E F G H I J K L M N O P Q R S T U V W X Y Z [ \\ ] ^ _ ` a b c d e f g h i j k l m n o p q r s t u v w x y z "
     ]
    }
   ],
   "source": [
    "var c: Char\n",
    "\n",
    "c = 'A'\n",
    "while (c <= 'z') {\n",
    "    print(\"$c \")\n",
    "    ++c\n",
    "}"
   ]
  },
  {
   "cell_type": "code",
   "execution_count": 67,
   "id": "0edbd871",
   "metadata": {},
   "outputs": [
    {
     "name": "stdout",
     "output_type": "stream",
     "text": [
      "Kotlin\r\n"
     ]
    }
   ],
   "source": [
    "val bytes = byteArrayOf(75, 111, 116, 108, 105, 110)\n",
    "\n",
    "val string = String(bytes)\n",
    "\n",
    "println(string)"
   ]
  },
  {
   "cell_type": "code",
   "execution_count": 141,
   "id": "0e53e8e7",
   "metadata": {},
   "outputs": [
    {
     "name": "stdout",
     "output_type": "stream",
     "text": [
      "[a, b, c, d, e, f, g, h, i, j, k, l, m, n, o, p, q, r, s, t, u, v, w, x, y, z, A, B, C, D, E, F, G, H, I, J, K, L, M, N, O, P, Q, R, S, T, U, V, W, X, Y, Z, 0, 1, 2, 3, 4, 5, 6, 7, 8, 9]\n",
      "DoV8A5lP9DbJ8sQif36VKcKRbB9xlMfm9dXC2JoAW7xEcSXyCPTfsD8hBhz7RFwB\n"
     ]
    }
   ],
   "source": [
    "val chars = ('a'..'z') + ('A'..'Z') + ('0'..'9')\n",
    "fun randomID(length: Int = 64): String = List(length) { chars.random() }.joinToString(\"\")\n",
    "\n",
    "println(chars);\n",
    "println(randomID())"
   ]
  },
  {
   "cell_type": "code",
   "execution_count": 144,
   "id": "6cbc99d2",
   "metadata": {
    "scrolled": true
   },
   "outputs": [
    {
     "name": "stdout",
     "output_type": "stream",
     "text": [
      "initial value: mWYgynCAijSmi0RN9ZIjNuLwA1KaNgs4QwkbCRDtfhg8XrHVNVObE5YYfdrQkPrc\n",
      "\n",
      "salt: RrUu3tj6\n",
      "secret code: uOkN2znQ2cN28PFR5xHl6c22pwEcq76S4zWQvYbhfLM4Jl3VgLWt1dsQEzB3kZci\n",
      "\n",
      "encrypted: PftzkjUE41Ae55gvAq2u4hXe1F6YersTwg5UwlbinkUjVLbkUQfDC4XcRhsPmknK+VcQXJCS6huXhNMbZ5ujmQOCS+1eiu2r\n",
      "\n",
      "decrypted: mWYgynCAijSmi0RN9ZIjNuLwA1KaNgs4QwkbCRDtfhg8XrHVNVObE5YYfdrQkPrc\n",
      "\n",
      "is value equal: true\n"
     ]
    }
   ],
   "source": [
    "// https://stackoverflow.com/questions/54143361/what-is-pbewithmd5anddes\n",
    "// https://gist.github.com/rohitshampur/da5f79c34260150aafc1\n",
    "// https://www.bezkoder.com/kotlin-base64/\n",
    "\n",
    "val secretCode = randomID().toCharArray()\n",
    "val salt = List(8) { chars.random() }.joinToString(\"\").toByteArray() // Salt must be 8 bytes long\n",
    "\n",
    "fun encrypt(value: String?): String {\n",
    "    val strBytes = value?.toByteArray()\n",
    "    val keyFactory = SecretKeyFactory.getInstance(\"PBEWithMD5AndDES\")\n",
    "    val key = keyFactory.generateSecret(PBEKeySpec(secretCode))\n",
    "    val cipher = Cipher.getInstance(\"PBEWithMD5AndDES\").also {\n",
    "        it.init(\n",
    "            Cipher.ENCRYPT_MODE, key,\n",
    "            PBEParameterSpec(\n",
    "                salt, 20\n",
    "            )\n",
    "        )\n",
    "    }\n",
    "    // println(String(cipher.doFinal(strBytes)))\n",
    "    // println()\n",
    "    return Base64.getEncoder().withoutPadding().encodeToString(cipher.doFinal(strBytes))\n",
    "}\n",
    "\n",
    "fun decode(value: String?): ByteArray {\n",
    "    val decodedBytes = Base64.getDecoder().decode(value)\n",
    "    return decodedBytes\n",
    "}\n",
    "\n",
    "fun decrypt(value: String?): String {\n",
    "    val strBytes = decode(value)\n",
    "    val keyFactory = SecretKeyFactory.getInstance(\"PBEWithMD5AndDES\")\n",
    "    val key = keyFactory.generateSecret(PBEKeySpec(secretCode))\n",
    "    val cipher = Cipher.getInstance(\"PBEWithMD5AndDES\")\n",
    "    cipher.init(\n",
    "        Cipher.DECRYPT_MODE, key,\n",
    "        PBEParameterSpec(\n",
    "            salt, 20\n",
    "        )\n",
    "    )\n",
    "    return String(cipher.doFinal(strBytes), Charsets.UTF_8)\n",
    "}\n",
    "\n",
    "val stringToEncode = randomID()\n",
    "val encryptedString = encrypt(stringToEncode)\n",
    "val decryptedString = decrypt(encryptedString)\n",
    "\n",
    "println(\"initial value: $stringToEncode\")\n",
    "println()\n",
    "println(\"salt: ${String(salt)}\")\n",
    "println(\"secret code: ${String(secretCode)}\")\n",
    "println()\n",
    "println(\"encrypted: $encryptedString\")\n",
    "// println(String(decode(encryptedString)))\n",
    "println()\n",
    "println(\"decrypted: $decryptedString\")\n",
    "println()\n",
    "println(\"is value equal: ${stringToEncode == decryptedString}\")"
   ]
  },
  {
   "cell_type": "code",
   "execution_count": 166,
   "id": "8ca053c8",
   "metadata": {},
   "outputs": [
    {
     "name": "stdout",
     "output_type": "stream",
     "text": [
      "encrypted: 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\n",
      "\n",
      "decrypted: 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\n",
      "Done 95 ms\n"
     ]
    }
   ],
   "source": [
    "import java.time.Instant\n",
    "\n",
    "inline fun time(action: () -> Unit): Long {\n",
    "    val start = Instant.now().toEpochMilli()\n",
    "    action()\n",
    "    return Instant.now().toEpochMilli() - start\n",
    "}\n",
    "\n",
    "suspend fun doWork() = coroutineScope {\n",
    "    launch {\n",
    "        val stringToEncode = randomID(64)\n",
    "        val encryptedString = encrypt(stringToEncode)\n",
    "        val decryptedString = decrypt(encryptedString)\n",
    "        \n",
    "        println(\"encrypted: $encryptedString\")\n",
    "        println()\n",
    "        println(\"decrypted: $decryptedString\")\n",
    "    }\n",
    "}\n",
    "\n",
    "fun main() = runBlocking {\n",
    "    val t = time {\n",
    "        doWork()\n",
    "    }\n",
    "    println(\"Done $t ms\")\n",
    "}\n",
    "\n",
    "main()"
   ]
  }
 ],
 "metadata": {
  "kernelspec": {
   "display_name": "Kotlin",
   "language": "kotlin",
   "name": "kotlin"
  },
  "language_info": {
   "codemirror_mode": "text/x-kotlin",
   "file_extension": ".kt",
   "mimetype": "text/x-kotlin",
   "name": "kotlin",
   "nbconvert_exporter": "",
   "pygments_lexer": "kotlin",
   "version": "1.6.20-dev-6372"
  }
 },
 "nbformat": 4,
 "nbformat_minor": 5
}
