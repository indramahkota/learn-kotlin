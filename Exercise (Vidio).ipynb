{
 "cells": [
  {
   "cell_type": "markdown",
   "id": "e346f406",
   "metadata": {},
   "source": [
    "# Vidio Exercise"
   ]
  },
  {
   "cell_type": "code",
   "execution_count": 2,
   "id": "bab1125b",
   "metadata": {},
   "outputs": [],
   "source": [
    "import java.util.Scanner"
   ]
  },
  {
   "cell_type": "code",
   "execution_count": 4,
   "id": "adadebf0",
   "metadata": {
    "scrolled": true
   },
   "outputs": [
    {
     "name": "stdout",
     "output_type": "stream",
     "text": [
      "stdin:3\n",
      "Heres the input: 3\n"
     ]
    }
   ],
   "source": [
    "val scan = Scanner(System.`in`)\n",
    "val input = scan.next().trim().toInt()\n",
    "println(\"Heres the input: $input\")"
   ]
  },
  {
   "cell_type": "code",
   "execution_count": 42,
   "id": "1f88ae7a",
   "metadata": {
    "scrolled": true
   },
   "outputs": [
    {
     "name": "stdout",
     "output_type": "stream",
     "text": [
      "*****\r\n",
      " *****\r\n",
      "  *****\r\n",
      "   *****\r\n",
      "    *****\r\n"
     ]
    }
   ],
   "source": [
    "fun solution(input: Int) {\n",
    "    val sb = StringBuilder()\n",
    "    repeat(input) { index ->\n",
    "        when (index) {\n",
    "            0 -> sb.append(\"*\".repeat(input))\n",
    "            else -> sb.insert(0, \" \")\n",
    "        }\n",
    "        println(sb)\n",
    "    }\n",
    "}\n",
    "\n",
    "solution(5)"
   ]
  },
  {
   "cell_type": "code",
   "execution_count": 43,
   "id": "ccb587fa",
   "metadata": {},
   "outputs": [
    {
     "data": {
      "text/plain": [
       "StandaloneCoroutine{Active}@621f89b8"
      ]
     },
     "execution_count": 43,
     "metadata": {},
     "output_type": "execute_result"
    }
   ],
   "source": [
    "val scope = CoroutineScope(Job() + Dispatchers.IO)\n",
    "\n",
    "scope.launch {\n",
    "    delay(100L)\n",
    "    println(\"World!\")\n",
    "}"
   ]
  },
  {
   "cell_type": "code",
   "execution_count": 44,
   "id": "d1dfe4c4",
   "metadata": {},
   "outputs": [
    {
     "name": "stdout",
     "output_type": "stream",
     "text": [
      "                     \n",
      "                    * \n",
      "                   * * \n",
      "                  * * * \n",
      "                 * * * * \n",
      "                * * * * * \n",
      "               * * * * * * \n",
      "              * * * * * * * \n",
      "             * * * * * * * * \n",
      "            * * * * * * * * * \n",
      "           * * * * * * * * * * \n",
      "          * * * * * * * * * * * \n",
      "         * * * * * * * * * * * * \n",
      "        * * * * * * * * * * * * * \n",
      "       * * * * * * * * * * * * * * \n",
      "      * * * * * * * * * * * * * * * \n",
      "     * * * * * * * * * * * * * * * * \n",
      "    * * * * * * * * * * * * * * * * * \n",
      "   * * * * * * * * * * * * * * * * * * \n",
      "  * * * * * * * * * * * * * * * * * * * \n",
      " * * * * * * * * * * * * * * * * * * * * \n"
     ]
    }
   ],
   "source": [
    "fun solution(input: Int) { \n",
    "    for(i in 0 until  input){\n",
    "        for(j in 0 until input-i){\n",
    "            print(\" \")\n",
    "        }\n",
    "        for(k in 0 until i){\n",
    "            print(\"* \")\n",
    "        }\n",
    "        println(\"\")\n",
    "    }\n",
    "}\n",
    "\n",
    "solution(21)"
   ]
  }
 ],
 "metadata": {
  "kernelspec": {
   "display_name": "Kotlin",
   "language": "kotlin",
   "name": "kotlin"
  },
  "language_info": {
   "codemirror_mode": "text/x-kotlin",
   "file_extension": ".kt",
   "mimetype": "text/x-kotlin",
   "name": "kotlin",
   "nbconvert_exporter": "",
   "pygments_lexer": "kotlin",
   "version": "1.6.20-dev-6372"
  }
 },
 "nbformat": 4,
 "nbformat_minor": 5
}
