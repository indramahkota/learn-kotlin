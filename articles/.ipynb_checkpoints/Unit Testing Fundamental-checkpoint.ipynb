{
 "cells": [
  {
   "cell_type": "markdown",
   "id": "6bc9d533",
   "metadata": {},
   "source": [
    "# Unit Testing Fundamental"
   ]
  },
  {
   "cell_type": "markdown",
   "id": "9ec1b7eb",
   "metadata": {},
   "source": [
    "## What is unit testing?\n",
    "\n",
    "## Why unit tests are important?\n",
    "\n",
    "## When to use unit testing? \n"
   ]
  }
 ],
 "metadata": {
  "kernelspec": {
   "display_name": "Kotlin",
   "language": "kotlin",
   "name": "kotlin"
  },
  "language_info": {
   "codemirror_mode": "text/x-kotlin",
   "file_extension": ".kt",
   "mimetype": "text/x-kotlin",
   "name": "kotlin",
   "nbconvert_exporter": "",
   "pygments_lexer": "kotlin",
   "version": "1.6.20-dev-6372"
  }
 },
 "nbformat": 4,
 "nbformat_minor": 5
}
