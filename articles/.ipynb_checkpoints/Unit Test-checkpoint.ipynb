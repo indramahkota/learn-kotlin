{
 "cells": [
  {
   "cell_type": "markdown",
   "id": "7b451805",
   "metadata": {},
   "source": [
    "### Definition"
   ]
  },
  {
   "cell_type": "markdown",
   "id": "bc0f84a4",
   "metadata": {},
   "source": [
    "At Ajaib quality is a top priority. Code quality can mean lots of different things.\n",
    "\n",
    "* It means we adhere to code standards and style guides. These mean that our code appears consistent and uses a simpler or better approach.\n",
    "\n",
    "* It means all our code is subjected to a code review. This encourages accountability and enables us to collaborate on finding the best solution.\n",
    "\n",
    "* It means running lint checkers on our code. These help spot inefficiencies and enforce code styles.\n",
    "\n",
    "It also means we write tests for our code.\n",
    "\n",
    "Unit Test is a type of software testing where individual units or components of a software are tested. The purpose is to validate that each unit of the software code performs as expected. Unit Testing is done during the development (coding phase) of an application by the developers. Unit Tests isolate a section of code and verify its correctness. A unit may be an individual function, method, procedure, module, or object."
   ]
  },
  {
   "cell_type": "markdown",
   "id": "8afbbc58",
   "metadata": {},
   "source": [
    "### Why Unit Testing?"
   ]
  },
  {
   "cell_type": "markdown",
   "id": "9435eb19",
   "metadata": {},
   "source": [
    "<!-- ![Unit Testing](https://i.ibb.co/C9LqgjK/Unit-Testing.png) -->\n",
    "<img src=\"https://i.ibb.co/C9LqgjK/Unit-Testing.png\" alt=\"Unit Testing\" width=\"300\"/>\n",
    "\n",
    "Unit Testing is important because software developers sometimes try saving time doing minimal unit testing and this is myth because inappropriate unit testing leads to high cost defect fixing during System Testing, Integration Testing and even Beta Testing after application is built. If proper unit testing is done in early development, then it saves time and money in the end.\n",
    "\n",
    "Here, are the key reasons to perform unit testing in software engineering:\n",
    "\n",
    "1. Unit tests help to fix bugs early in the development cycle and save costs.\n",
    "\n",
    "2. It helps the developers to understand the testing code base and enables them to make changes quickly.\n",
    "\n",
    "3. Good unit tests serve as project documentation.\n",
    "\n",
    "4. Unit tests help with code re-use. Migrate both your code and your tests to your new project. Tweak the code until the tests run again."
   ]
  },
  {
   "cell_type": "markdown",
   "id": "836b7da4",
   "metadata": {},
   "source": [
    "### How to do Unit Testing?"
   ]
  },
  {
   "cell_type": "markdown",
   "id": "a53894fc",
   "metadata": {},
   "source": [
    "### Preparation\n",
    "\n",
    "Before starting, you must add the dependency to ```build.gradle``` in the app module if it is not already added, add the following libraries:\n",
    "\n",
    "```groovy\n",
    "testImplementation Dependencies.Testing.JUnit.jUnit\n",
    "testImplementation Dependencies.Testing.truth\n",
    "testImplementation Dependencies.Testing.Mockk.mockk\n",
    "testImplementation Dependencies.Testing.Mockk.mockkAgentJvm\n",
    "testImplementation Dependencies.Testing.Mockk.mockkCommon\n",
    "```\n",
    "\n",
    "**JUnit**\n",
    "\n",
    "A JUnit test is a method contained in a class which is only used for testing. This is called a Test class. To define that a certain method is a test method, annotate it with the ```@Test``` annotation.\n",
    "\n",
    "**MockK**\n",
    "\n",
    "MockK is a powerful library. It uses the best of Kotlin to let us define mocks and verification blocks clearly and expressively. It also allows us mock elements typical to Kotlin, like top-level functions and properties, object declarations, or suspending functions.\n",
    "\n",
    "**Google.Truth**\n",
    "\n",
    "Truth makes your test assertions and failure messages more readable."
   ]
  },
  {
   "cell_type": "markdown",
   "id": "8b577bb5",
   "metadata": {},
   "source": [
    "### Annotation"
   ]
  },
  {
   "cell_type": "markdown",
   "id": "ba0bfbc8",
   "metadata": {},
   "source": [
    "**@Before**\n",
    "\n",
    "Many testing frameworks, like JUnit, enable you to add setup code to your test class. This code gets run before the start of every test. Due to the nature of it, this is inherently implied to be part of your given.\n",
    "\n",
    "Common sense, and applying good practice is needed to decide what goes in the ```@Before```. Since anything within your ```@Before```, may not be immediately obvious to the reader of your test.\n",
    "\n",
    "We generally only initialize mocks within our ```@Before```. We outline mock behaviors within the test body. We also create the class under test within ```@Before```.\n",
    "\n",
    "**@Test**\n",
    "\n",
    "This annotation executes the code under test. You use an assert method, provided by JUnit or another assert framework, to check an expected result versus the actual result. These method calls are typically called asserts or assert statements.\n",
    "\n",
    "You should provide meaningful messages in assert statements. That makes it easier for the user to identify and fix the problem. This is especially true if someone looks at the problem, who did not write the code under test or the test code.\n",
    "\n",
    "**Unit Test Naming Conventions**\n",
    "\n",
    "```MethodName_StateUnderTest_ExpectedBehavior```\n",
    "\n",
    "There are arguments against this strategy that if method names change as part of code refactoring than test name like this should also change or it becomes difficult to comprehend at a later stage. Following are some of the example:\n",
    "\n",
    "* **setCoinCode_SetData_ShouldInvalid**\n",
    "\n",
    "* **onReady_CallGetCoinDetails_ShouldCallSetupPage**\n",
    "\n",
    "* **getCoinOrderOpenList_GetLoading_ShouldValid**\n",
    "\n",
    "**Given When Then (GWT) Pattern**\n",
    "\n",
    "Given When Then (GWT) is an approach adopted by many teams. It’s a style of writing tests which lays out a framework for what a test should look like.\n",
    "\n",
    "```Given``` — This is where you define the state of your application up to this point. You provide any data or context. Usually, this involves setting up mocks or stubbing methods.\n",
    "\n",
    "```When``` — This is the part of your application you are testing. Usually, this is a method call.\n",
    "\n",
    "```Then``` — This is where you verify a particular behavior or outcome. What did you expect to happen?\n",
    "\n",
    "**Mocking**\n",
    "\n",
    "**Annotation**\n",
    "\n",
    "The library supports annotations ```@MockK```, ```@SpyK``` and ```@RelxedMockK```, which can be used as a simpler way to create mocks, spies, and relaxed mocks correspondingly.\n",
    "\n",
    "```java\n",
    "@MockK(relaxUnitFun = true)\n",
    "private lateinit var navigator: Navigator\n",
    "```\n",
    "\n",
    "A relaxed mock is the mock that returns some simple value for all functions. This allows you to skip specifying behavior for each case, while still stubbing things you need. For reference types, chained mocks are returned.\n",
    "\n",
    "Don't forget to call ```MockKAnnotations.init(this)``` in ```@Before``` setup code.\n",
    "\n",
    "\n",
    "**Object mocking**\n",
    "\n",
    "For mocking objects, MockK has a simple method, which is mockkObject. It just takes the object as an argument, and it becomes a spy. With this method, we can use it as original works and can also stub and verify statements.\n",
    "\n",
    "```mockkObject(Navigator)```\n",
    "\n",
    "To revert, use ```unmockkAll``` or ```nmockkObject```\n",
    "\n",
    "**Stubbing block**\n",
    "\n",
    "```groovy\n",
    "every { navigator.currentLocation } returns \"Home\"\n",
    "every { navigator.navigateTo(\"Park\") } throws IllegalStateException(\"Can't reach the park\")\n",
    "```\n",
    "\n",
    "Inside the stubbing block (between the opening curly bracket ```{``` and closing curly bracket ```}```), you write the method you want to provide a canned answer for. ```{ navigator.currentLocation }``` tells MockK to make a canned answer for the ```currentLocation``` getter on the ```navigator``` object.\n",
    "\n",
    "To define what happens when the stubbed method is called, an answer function such as ```returns``` is used. ```returns \"Home\"``` tells MockK to always return the string ```\"Home\"``` when the ```currentLocation``` getter is called.\n",
    "\n",
    "Instead to returning successful values, stubbed methods can ```throw``` errors. throws indicates that the following value should be an exception to throw, rather than a value to return. When the stubbed method is called in your tests, it will always throw the given exception instance.\n",
    "\n",
    "**Mock response from JSON**\n",
    "\n",
    "Here is how you get your response as object you needed:\n",
    "\n",
    "```\n",
    "JsonToPojoConverter.convertJson<BaseClass, Object>(\n",
    "  \"filename.json\"\n",
    ")\n",
    "```\n",
    "We need to parse our JSON, that means to grab the expected response and turn into objects.\n",
    "\n",
    "**@After**\n",
    "\n",
    "Like ```@Before```, ```@After```, or similar, allows you to add code which runs after every test. This is generally the place you do any cleanup, which if not done, would affect the result of the following test. This sits outside the GWT pattern."
   ]
  }
 ],
 "metadata": {
  "kernelspec": {
   "display_name": "Kotlin",
   "language": "kotlin",
   "name": "kotlin"
  },
  "language_info": {
   "codemirror_mode": "text/x-kotlin",
   "file_extension": ".kt",
   "mimetype": "text/x-kotlin",
   "name": "kotlin",
   "nbconvert_exporter": "",
   "pygments_lexer": "kotlin",
   "version": "1.6.20-dev-6372"
  }
 },
 "nbformat": 4,
 "nbformat_minor": 5
}
