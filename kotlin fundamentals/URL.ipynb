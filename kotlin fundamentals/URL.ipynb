{
 "cells": [
  {
   "cell_type": "code",
   "execution_count": null,
   "id": "d50df112",
   "metadata": {},
   "outputs": [],
   "source": [
    "import java.net.URL"
   ]
  },
  {
   "cell_type": "code",
   "execution_count": 2,
   "id": "417dd24a",
   "metadata": {},
   "outputs": [
    {
     "name": "stdout",
     "output_type": "stream",
     "text": [
      "Failed\r\n"
     ]
    },
    {
     "data": {
      "text/plain": [
       "null"
      ]
     },
     "execution_count": 2,
     "metadata": {},
     "output_type": "execute_result"
    }
   ],
   "source": [
    "var url: URL? = null\n",
    "\n",
    "try {\n",
    "    url = URL(\"www.google.com\")\n",
    "    println(\"Created\")\n",
    "} catch (e: Exception) {\n",
    "    println(\"Failed\")\n",
    "}\n",
    "\n",
    "url"
   ]
  }
 ],
 "metadata": {
  "kernelspec": {
   "display_name": "Kotlin",
   "language": "kotlin",
   "name": "kotlin"
  },
  "language_info": {
   "codemirror_mode": "text/x-kotlin",
   "file_extension": ".kt",
   "mimetype": "text/x-kotlin",
   "name": "kotlin",
   "nbconvert_exporter": "",
   "pygments_lexer": "kotlin",
   "version": "1.6.20-dev-6372"
  }
 },
 "nbformat": 4,
 "nbformat_minor": 5
}
