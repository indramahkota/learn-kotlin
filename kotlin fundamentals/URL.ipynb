{
 "cells": [
  {
   "cell_type": "code",
   "execution_count": 1,
   "id": "d50df112",
   "metadata": {},
   "outputs": [],
   "source": [
    "import java.net.URL\n",
    "import java.net.MalformedURLException"
   ]
  },
  {
   "cell_type": "code",
   "execution_count": 2,
   "id": "70059d7f",
   "metadata": {},
   "outputs": [
    {
     "data": {
      "text/plain": []
     },
     "execution_count": 2,
     "metadata": {},
     "output_type": "execute_result"
    }
   ],
   "source": [
    "fun String?.isValidUrlOrNull(): URL? = try {\n",
    "    URL(this)\n",
    "} catch (e: MalformedURLException) {\n",
    "    null\n",
    "}\n",
    "\n",
    "null.isValidUrlOrNull()?.host.orEmpty()"
   ]
  },
  {
   "cell_type": "code",
   "execution_count": 10,
   "id": "417dd24a",
   "metadata": {
    "scrolled": true
   },
   "outputs": [
    {
     "name": "stdout",
     "output_type": "stream",
     "text": [
      "Failed\r\n"
     ]
    },
    {
     "data": {
      "text/plain": [
       "null"
      ]
     },
     "execution_count": 10,
     "metadata": {},
     "output_type": "execute_result"
    }
   ],
   "source": [
    "var url: URL? = null\n",
    "\n",
    "try {\n",
    "    url = URL(\"https%3A%2F%2Ffile-ap-5.sendbird.com%2F81ac7c9b0fff47c78c874c760bfb9720.jpg%3Fauth%3DfnReJI4jAjfXjB_aT-gC_c9XfEE7DyITuMNUGN3kLwjyW_JRSl7gwomGm03qf5jM_e6bySJ5RBVtY_g2Vx7K2Q\")\n",
    "    url.toString().split(\",\").toTypedArray()\n",
    "    \n",
    "    println(\"Created\")\n",
    "} catch (e: Exception) {\n",
    "    println(\"Failed\")\n",
    "}\n",
    "\n",
    "url.toString()"
   ]
  },
  {
   "cell_type": "code",
   "execution_count": null,
   "id": "49d4b243",
   "metadata": {},
   "outputs": [],
   "source": []
  },
  {
   "cell_type": "code",
   "execution_count": 4,
   "id": "b30ba289",
   "metadata": {},
   "outputs": [
    {
     "data": {
      "text/plain": [
       "false"
      ]
     },
     "execution_count": 4,
     "metadata": {},
     "output_type": "execute_result"
    }
   ],
   "source": [
    "fun String?.containsUrl(): Boolean = this != null && this.toLowerCase().contains(Regex(\"((http://|https://)?(www.)?(([a-zA-Z0-9-]){2,}\\\\.){1,4}([a-zA-Z]){2,6}(/([a-zA-Z-_/.0-9#:?=&;,]*)?)?)\"))\n",
    "\n",
    "\"google\".containsUrl()"
   ]
  },
  {
   "cell_type": "code",
   "execution_count": 5,
   "id": "beed7413",
   "metadata": {},
   "outputs": [
    {
     "name": "stderr",
     "output_type": "stream",
     "text": [
      "Line_6.jupyter-kts (1:36 - 44) Unresolved reference: Patterns"
     ]
    }
   ],
   "source": [
    "fun String.isValidUrl(): Boolean = Patterns.WEB_URL.matcher(this).matches()"
   ]
  }
 ],
 "metadata": {
  "kernelspec": {
   "display_name": "Kotlin",
   "language": "kotlin",
   "name": "kotlin"
  },
  "language_info": {
   "codemirror_mode": "text/x-kotlin",
   "file_extension": ".kt",
   "mimetype": "text/x-kotlin",
   "name": "kotlin",
   "nbconvert_exporter": "",
   "pygments_lexer": "kotlin",
   "version": "1.6.20-dev-6372"
  }
 },
 "nbformat": 4,
 "nbformat_minor": 5
}
