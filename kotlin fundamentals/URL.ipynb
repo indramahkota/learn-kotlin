{
 "cells": [
  {
   "cell_type": "code",
   "execution_count": 5,
   "id": "d50df112",
   "metadata": {},
   "outputs": [],
   "source": [
    "import java.net.URL\n",
    "import java.net.MalformedURLException"
   ]
  },
  {
   "cell_type": "code",
   "execution_count": 13,
   "id": "70059d7f",
   "metadata": {},
   "outputs": [
    {
     "data": {
      "text/plain": []
     },
     "execution_count": 13,
     "metadata": {},
     "output_type": "execute_result"
    }
   ],
   "source": [
    "fun String?.isValidUrlOrNull(): URL? = try {\n",
    "    URL(this)\n",
    "} catch (e: MalformedURLException) {\n",
    "    null\n",
    "}\n",
    "\n",
    "null.isValidUrlOrNull()?.host.orEmpty()"
   ]
  },
  {
   "cell_type": "code",
   "execution_count": 16,
   "id": "417dd24a",
   "metadata": {
    "scrolled": true
   },
   "outputs": [
    {
     "name": "stdout",
     "output_type": "stream",
     "text": [
      "Created\r\n"
     ]
    },
    {
     "data": {
      "text/plain": [
       "https://www.google.com"
      ]
     },
     "execution_count": 16,
     "metadata": {},
     "output_type": "execute_result"
    }
   ],
   "source": [
    "var url: URL? = null\n",
    "\n",
    "try {\n",
    "    url = URL(\"https://www.google.com\")\n",
    "    println(\"Created\")\n",
    "} catch (e: Exception) {\n",
    "    println(\"Failed\")\n",
    "}\n",
    "\n",
    "url.toString()"
   ]
  },
  {
   "cell_type": "code",
   "execution_count": 4,
   "id": "b30ba289",
   "metadata": {},
   "outputs": [
    {
     "data": {
      "text/plain": [
       "false"
      ]
     },
     "execution_count": 4,
     "metadata": {},
     "output_type": "execute_result"
    }
   ],
   "source": [
    "fun String?.containsUrl(): Boolean = this != null && this.toLowerCase().contains(Regex(\"((http://|https://)?(www.)?(([a-zA-Z0-9-]){2,}\\\\.){1,4}([a-zA-Z]){2,6}(/([a-zA-Z-_/.0-9#:?=&;,]*)?)?)\"))\n",
    "\n",
    "\"google\".containsUrl()"
   ]
  },
  {
   "cell_type": "code",
   "execution_count": null,
   "id": "beed7413",
   "metadata": {},
   "outputs": [],
   "source": [
    "fun String.isValidUrl(): Boolean = Patterns.WEB_URL.matcher(this).matches()"
   ]
  }
 ],
 "metadata": {
  "kernelspec": {
   "display_name": "Kotlin",
   "language": "kotlin",
   "name": "kotlin"
  },
  "language_info": {
   "codemirror_mode": "text/x-kotlin",
   "file_extension": ".kt",
   "mimetype": "text/x-kotlin",
   "name": "kotlin",
   "nbconvert_exporter": "",
   "pygments_lexer": "kotlin",
   "version": "1.6.20-dev-6372"
  }
 },
 "nbformat": 4,
 "nbformat_minor": 5
}
