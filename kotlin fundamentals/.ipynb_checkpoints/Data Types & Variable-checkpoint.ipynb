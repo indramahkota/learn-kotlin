{
 "cells": [
  {
   "cell_type": "markdown",
   "id": "382d8090",
   "metadata": {
    "pycharm": {
     "name": "#%% md\n"
    }
   },
   "source": [
    "## Data Types & Variable"
   ]
  },
  {
   "cell_type": "markdown",
   "id": "c83cf96a",
   "metadata": {
    "pycharm": {
     "name": "#%% md\n"
    }
   },
   "source": [
    "### Syntax [ var/val identifier: Type = initialization ]"
   ]
  },
  {
   "cell_type": "code",
   "execution_count": 36,
   "id": "cbc65ede",
   "metadata": {
    "pycharm": {
     "name": "#%%\n"
    }
   },
   "outputs": [
    {
     "data": {
      "text/plain": [
       "PT Mahkota"
      ]
     },
     "execution_count": 36,
     "metadata": {},
     "output_type": "execute_result"
    }
   ],
   "source": [
    "var company: String = \"PT Company\"\n",
    "company = \"PT Mahkota\"\n",
    "\n",
    "company"
   ]
  },
  {
   "cell_type": "code",
   "execution_count": 37,
   "id": "bd79552c",
   "metadata": {
    "pycharm": {
     "name": "#%%\n"
    }
   },
   "outputs": [
    {
     "name": "stderr",
     "output_type": "stream",
     "text": [
      "Line_36.jupyter-kts (2:1 - 8) Val cannot be reassigned"
     ]
    }
   ],
   "source": [
    "val company: String = \"PT Company\"\n",
    "company = \"PT Mahkota\"\n",
    "\n",
    "company"
   ]
  },
  {
   "cell_type": "code",
   "execution_count": 38,
   "id": "dd3a2078",
   "metadata": {
    "pycharm": {
     "name": "#%%\n"
    }
   },
   "outputs": [
    {
     "data": {
      "text/plain": [
       "PT Mahkota"
      ]
     },
     "execution_count": 38,
     "metadata": {},
     "output_type": "execute_result"
    }
   ],
   "source": [
    "val firstWord = \"PT \"\n",
    "val lastWord = \"Mahkota\"\n",
    "\n",
    "firstWord + lastWord"
   ]
  },
  {
   "cell_type": "code",
   "execution_count": 39,
   "id": "490f2fe7",
   "metadata": {
    "pycharm": {
     "name": "#%%\n"
    }
   },
   "outputs": [
    {
     "data": {
      "text/plain": [
       "30"
      ]
     },
     "execution_count": 39,
     "metadata": {},
     "output_type": "execute_result"
    }
   ],
   "source": [
    "val valueA: Int = 10\n",
    "val valueB = 20\n",
    "\n",
    "valueA + valueB"
   ]
  },
  {
   "cell_type": "markdown",
   "id": "74cfa9fd",
   "metadata": {
    "pycharm": {
     "name": "#%% md\n"
    }
   },
   "source": [
    "### Char"
   ]
  },
  {
   "cell_type": "code",
   "execution_count": 40,
   "id": "87fec3db",
   "metadata": {
    "pycharm": {
     "name": "#%%\n"
    }
   },
   "outputs": [
    {
     "data": {
      "text/plain": [
       "A"
      ]
     },
     "execution_count": 40,
     "metadata": {},
     "output_type": "execute_result"
    }
   ],
   "source": [
    "val character = 'A'\n",
    "character"
   ]
  },
  {
   "cell_type": "code",
   "execution_count": 41,
   "id": "ba55a7c5",
   "metadata": {
    "pycharm": {
     "name": "#%%\n"
    }
   },
   "outputs": [
    {
     "name": "stderr",
     "output_type": "stream",
     "text": [
      "Line_40.jupyter-kts (1:17 - 22) Too many characters in a character literal ''ABC''"
     ]
    }
   ],
   "source": [
    "val character = 'ABC' // Incorrect character literal"
   ]
  },
  {
   "cell_type": "code",
   "execution_count": 42,
   "id": "56182b4d",
   "metadata": {
    "pycharm": {
     "name": "#%%\n"
    }
   },
   "outputs": [
    {
     "name": "stdout",
     "output_type": "stream",
     "text": [
      "Vocal A\r\n",
      "Vocal B\r\n",
      "Vocal C\r\n",
      "Vocal D\r\n",
      "Vocal C\r\n",
      "Vocal B\r\n",
      "Vocal A\r\n"
     ]
    }
   ],
   "source": [
    "var vocal = 'A'\n",
    " \n",
    "println(\"Vocal \" + vocal++)\n",
    "println(\"Vocal \" + vocal++)\n",
    "println(\"Vocal \" + vocal++)\n",
    "println(\"Vocal \" + vocal--)\n",
    "println(\"Vocal \" + vocal--)\n",
    "println(\"Vocal \" + vocal--)\n",
    "println(\"Vocal \" + vocal--)"
   ]
  },
  {
   "cell_type": "markdown",
   "id": "76f18c76",
   "metadata": {
    "pycharm": {
     "name": "#%% md\n"
    }
   },
   "source": [
    "### String"
   ]
  },
  {
   "cell_type": "code",
   "execution_count": 43,
   "id": "438dfa07",
   "metadata": {
    "pycharm": {
     "name": "#%%\n"
    }
   },
   "outputs": [
    {
     "data": {
      "text/plain": [
       "Kotlin"
      ]
     },
     "execution_count": 43,
     "metadata": {},
     "output_type": "execute_result"
    }
   ],
   "source": [
    "val textString  = \"Kotlin\"\n",
    "textString"
   ]
  },
  {
   "cell_type": "code",
   "execution_count": 44,
   "id": "d42691f8",
   "metadata": {
    "pycharm": {
     "name": "#%%\n"
    }
   },
   "outputs": [
    {
     "name": "stdout",
     "output_type": "stream",
     "text": [
      "First character of Kotlin is K"
     ]
    }
   ],
   "source": [
    "val text  = \"Kotlin\"\n",
    "val firstChar = text[0]\n",
    "\n",
    "print(\"First character of $text is $firstChar\")"
   ]
  },
  {
   "cell_type": "code",
   "execution_count": 45,
   "id": "2708550e",
   "metadata": {
    "pycharm": {
     "name": "#%%\n"
    }
   },
   "outputs": [
    {
     "name": "stdout",
     "output_type": "stream",
     "text": [
      "K o t l i n "
     ]
    }
   ],
   "source": [
    "val text  = \"Kotlin\"\n",
    "\n",
    "for (char in text){\n",
    "    print(\"$char \")\n",
    "}"
   ]
  },
  {
   "cell_type": "markdown",
   "id": "6557404d",
   "metadata": {
    "pycharm": {
     "name": "#%% md\n"
    }
   },
   "source": [
    "### Escaped String"
   ]
  },
  {
   "cell_type": "code",
   "execution_count": 46,
   "id": "c43ca612",
   "metadata": {
    "pycharm": {
     "name": "#%%\n"
    }
   },
   "outputs": [
    {
     "name": "stderr",
     "output_type": "stream",
     "text": [
      "Line_45.jupyter-kts (1:29 - 36) Unresolved reference: Awesome\n",
      "Line_45.jupyter-kts (1:29 - 36) Unsupported [literal prefixes and suffixes]\n",
      "Line_45.jupyter-kts (1:36 - 37) Unresolved reference: !"
     ]
    }
   ],
   "source": [
    "val statement = \"Kotlin is \"Awesome!\"\"\n",
    "statement"
   ]
  },
  {
   "cell_type": "markdown",
   "id": "c08f0bfb",
   "metadata": {
    "pycharm": {
     "name": "#%% md\n"
    }
   },
   "source": [
    "\\t: menambah tab ke dalam teks.\n",
    "\n",
    "\\n: membuat baris baru di dalam teks.\n",
    "\n",
    "\\’: menambah karakter single quote kedalam teks.\n",
    "\n",
    "\\”: menambah karakter double quote kedalam teks.\n",
    "\n",
    "\\\\: menambah karakter backslash kedalam teks."
   ]
  },
  {
   "cell_type": "code",
   "execution_count": 47,
   "id": "3c08a394",
   "metadata": {
    "pycharm": {
     "name": "#%%\n"
    }
   },
   "outputs": [
    {
     "data": {
      "text/plain": [
       "Kotlin is \"Awesome!\""
      ]
     },
     "execution_count": 47,
     "metadata": {},
     "output_type": "execute_result"
    }
   ],
   "source": [
    "val statement = \"Kotlin is \\\"Awesome!\\\"\"\n",
    "statement"
   ]
  },
  {
   "cell_type": "markdown",
   "id": "fa1f910d",
   "metadata": {
    "pycharm": {
     "name": "#%% md\n"
    }
   },
   "source": [
    "### Unicode"
   ]
  },
  {
   "cell_type": "code",
   "execution_count": 48,
   "id": "42b7f05e",
   "metadata": {
    "pycharm": {
     "name": "#%%\n"
    }
   },
   "outputs": [
    {
     "name": "stdout",
     "output_type": "stream",
     "text": [
      "Unicode test: ©"
     ]
    }
   ],
   "source": [
    "val name = \"Unicode test: \\u00A9\"\n",
    "print(name)"
   ]
  },
  {
   "cell_type": "markdown",
   "id": "66c81599",
   "metadata": {
    "pycharm": {
     "name": "#%% md\n"
    }
   },
   "source": [
    "### Raw String"
   ]
  },
  {
   "cell_type": "code",
   "execution_count": 49,
   "id": "a8b4d88d",
   "metadata": {
    "pycharm": {
     "name": "#%%\n"
    }
   },
   "outputs": [
    {
     "name": "stdout",
     "output_type": "stream",
     "text": [
      "Line 1\n",
      "Line 2\n",
      "Line 3\n",
      "Line 4"
     ]
    }
   ],
   "source": [
    "val line = \"\"\"\n",
    "        Line 1\n",
    "        Line 2\n",
    "        Line 3\n",
    "        Line 4\n",
    "    \"\"\".trimIndent()\n",
    " \n",
    "print(line)"
   ]
  },
  {
   "cell_type": "markdown",
   "id": "4f407a76",
   "metadata": {
    "pycharm": {
     "name": "#%% md\n"
    }
   },
   "source": [
    "### Boolean"
   ]
  },
  {
   "cell_type": "markdown",
   "id": "a0123e25",
   "metadata": {
    "pycharm": {
     "name": "#%% md\n"
    }
   },
   "source": [
    "#### Conjunction atau AND (&&)"
   ]
  },
  {
   "cell_type": "code",
   "execution_count": 50,
   "id": "4de5bbe3",
   "metadata": {
    "pycharm": {
     "name": "#%%\n"
    }
   },
   "outputs": [
    {
     "name": "stdout",
     "output_type": "stream",
     "text": [
      "Office is open : false"
     ]
    }
   ],
   "source": [
    "val officeOpen = 7\n",
    "val officeClosed = 16\n",
    "val now = 20\n",
    "\n",
    "val isOpen = now >= officeOpen && now <= officeClosed\n",
    "\n",
    "print(\"Office is open : $isOpen\")"
   ]
  },
  {
   "cell_type": "markdown",
   "id": "ccd4b72b",
   "metadata": {
    "pycharm": {
     "name": "#%% md\n"
    }
   },
   "source": [
    "#### Disjunction atau OR (||)"
   ]
  },
  {
   "cell_type": "code",
   "execution_count": 51,
   "id": "9b99ef69",
   "metadata": {
    "pycharm": {
     "name": "#%%\n"
    }
   },
   "outputs": [
    {
     "name": "stdout",
     "output_type": "stream",
     "text": [
      "Office is closed : true"
     ]
    }
   ],
   "source": [
    "val officeOpen = 7\n",
    "val officeClosed = 16\n",
    "val now = 20\n",
    "\n",
    "val isClose = now < officeOpen || now > officeClosed\n",
    "\n",
    "print(\"Office is closed : $isClose\")"
   ]
  },
  {
   "cell_type": "markdown",
   "id": "3d2b3ed9",
   "metadata": {
    "pycharm": {
     "name": "#%% md\n"
    }
   },
   "source": [
    "#### Negation atau NOT (!) "
   ]
  },
  {
   "cell_type": "code",
   "execution_count": 52,
   "id": "94ce84a6",
   "metadata": {
    "pycharm": {
     "name": "#%%\n"
    }
   },
   "outputs": [
    {
     "name": "stdout",
     "output_type": "stream",
     "text": [
      "Office is open"
     ]
    }
   ],
   "source": [
    "val officeOpen = 7\n",
    "val now = 10\n",
    "val isOpen = now > officeOpen\n",
    "\n",
    "if (!isOpen) {\n",
    "    print(\"Office is closed\")\n",
    "} else {\n",
    "    print(\"Office is open\")\n",
    "}"
   ]
  },
  {
   "cell_type": "markdown",
   "id": "51fd46dc",
   "metadata": {
    "pycharm": {
     "name": "#%% md\n"
    }
   },
   "source": [
    "### Number (Integer)"
   ]
  },
  {
   "cell_type": "markdown",
   "id": "4e17e67a",
   "metadata": {
    "pycharm": {
     "name": "#%% md\n"
    }
   },
   "source": [
    "#### Byte (8 Bit)"
   ]
  },
  {
   "cell_type": "code",
   "execution_count": 53,
   "id": "6cba5e6c",
   "metadata": {
    "pycharm": {
     "name": "#%%\n"
    }
   },
   "outputs": [
    {
     "name": "stdout",
     "output_type": "stream",
     "text": [
      "127\r\n",
      "-128\r\n"
     ]
    }
   ],
   "source": [
    "val maxByte = Byte.MAX_VALUE\n",
    "val minByte = Byte.MIN_VALUE\n",
    "\n",
    "println(maxByte)\n",
    "println(minByte)"
   ]
  },
  {
   "cell_type": "code",
   "execution_count": 54,
   "id": "b4c82d76",
   "metadata": {
    "pycharm": {
     "name": "#%%\n"
    }
   },
   "outputs": [
    {
     "data": {
      "text/plain": [
       "210"
      ]
     },
     "execution_count": 54,
     "metadata": {},
     "output_type": "execute_result"
    }
   ],
   "source": [
    "val byteNumber = 0b11010010\n",
    "byteNumber"
   ]
  },
  {
   "cell_type": "markdown",
   "id": "70710f5e",
   "metadata": {
    "pycharm": {
     "name": "#%% md\n"
    }
   },
   "source": [
    "#### Short (16 Bit)"
   ]
  },
  {
   "cell_type": "code",
   "execution_count": 55,
   "id": "5d5785bf",
   "metadata": {
    "pycharm": {
     "name": "#%%\n"
    }
   },
   "outputs": [
    {
     "name": "stdout",
     "output_type": "stream",
     "text": [
      "32767\r\n",
      "-32768\r\n"
     ]
    }
   ],
   "source": [
    "val maxShort = Short.MAX_VALUE\n",
    "val minShort = Short.MIN_VALUE\n",
    "\n",
    "println(maxShort)\n",
    "println(minShort)"
   ]
  },
  {
   "cell_type": "code",
   "execution_count": 56,
   "id": "4bb8d6f8",
   "metadata": {
    "pycharm": {
     "name": "#%%\n"
    }
   },
   "outputs": [
    {
     "data": {
      "text/plain": [
       "10"
      ]
     },
     "execution_count": 56,
     "metadata": {},
     "output_type": "execute_result"
    }
   ],
   "source": [
    "val shortNumber: Short = 10\n",
    "shortNumber"
   ]
  },
  {
   "cell_type": "markdown",
   "id": "7a0cb01e",
   "metadata": {
    "pycharm": {
     "name": "#%% md\n"
    }
   },
   "source": [
    "#### Int (32 Bit) range -2^31 sampai +2^31-1"
   ]
  },
  {
   "cell_type": "code",
   "execution_count": 57,
   "id": "440213f0",
   "metadata": {
    "pycharm": {
     "name": "#%%\n"
    }
   },
   "outputs": [
    {
     "name": "stdout",
     "output_type": "stream",
     "text": [
      "2147483647\r\n",
      "-2147483648\r\n"
     ]
    }
   ],
   "source": [
    "val maxInt = Int.MAX_VALUE\n",
    "val minInt = Int.MIN_VALUE\n",
    "\n",
    "println(maxInt)\n",
    "println(minInt)"
   ]
  },
  {
   "cell_type": "code",
   "execution_count": 58,
   "id": "a9d3afee",
   "metadata": {
    "pycharm": {
     "name": "#%%\n"
    }
   },
   "outputs": [
    {
     "data": {
      "text/plain": [
       "100"
      ]
     },
     "execution_count": 58,
     "metadata": {},
     "output_type": "execute_result"
    }
   ],
   "source": [
    "val intNumber = 100\n",
    "intNumber"
   ]
  },
  {
   "cell_type": "code",
   "execution_count": 59,
   "id": "23d3e297",
   "metadata": {
    "pycharm": {
     "name": "#%%\n"
    }
   },
   "outputs": [
    {
     "name": "stderr",
     "output_type": "stream",
     "text": [
      "Line_58.jupyter-kts (2:22 - 32) Type mismatch: inferred type is Byte but Int was expected"
     ]
    }
   ],
   "source": [
    "val byteNumber: Byte = 1\n",
    "val intNumber: Int = byteNumber // compile error"
   ]
  },
  {
   "cell_type": "code",
   "execution_count": 60,
   "id": "56ac791e",
   "metadata": {
    "pycharm": {
     "name": "#%%\n"
    }
   },
   "outputs": [
    {
     "data": {
      "text/plain": [
       "10"
      ]
     },
     "execution_count": 60,
     "metadata": {},
     "output_type": "execute_result"
    }
   ],
   "source": [
    "val byteNumber: Byte = 10\n",
    "val intNumber: Int = byteNumber.toInt() // ready to go\n",
    "intNumber"
   ]
  },
  {
   "cell_type": "markdown",
   "id": "86a6ebad",
   "metadata": {
    "pycharm": {
     "name": "#%% md\n"
    }
   },
   "source": [
    "#### Long (64 Bit) range -2^63 sampai +2^63-1"
   ]
  },
  {
   "cell_type": "code",
   "execution_count": 61,
   "id": "735a0c5e",
   "metadata": {
    "pycharm": {
     "name": "#%%\n"
    }
   },
   "outputs": [
    {
     "name": "stdout",
     "output_type": "stream",
     "text": [
      "9223372036854775807\r\n",
      "-9223372036854775808\r\n"
     ]
    }
   ],
   "source": [
    "val maxLong = Long.MAX_VALUE\n",
    "val minLong = Long.MIN_VALUE\n",
    "\n",
    "println(maxLong)\n",
    "println(minLong)"
   ]
  },
  {
   "cell_type": "code",
   "execution_count": 62,
   "id": "ad1d022d",
   "metadata": {
    "pycharm": {
     "name": "#%%\n"
    }
   },
   "outputs": [
    {
     "data": {
      "text/plain": [
       "100"
      ]
     },
     "execution_count": 62,
     "metadata": {},
     "output_type": "execute_result"
    }
   ],
   "source": [
    "val longNumber: Long = 100\n",
    "longNumber"
   ]
  },
  {
   "cell_type": "code",
   "execution_count": 63,
   "id": "ae1cf693",
   "metadata": {
    "pycharm": {
     "name": "#%%\n"
    }
   },
   "outputs": [
    {
     "data": {
      "text/plain": [
       "100"
      ]
     },
     "execution_count": 63,
     "metadata": {},
     "output_type": "execute_result"
    }
   ],
   "source": [
    "val longNumber = 100L\n",
    "longNumber"
   ]
  },
  {
   "cell_type": "markdown",
   "id": "c0fc4938",
   "metadata": {
    "pycharm": {
     "name": "#%% md\n"
    }
   },
   "source": [
    "### Number (Floating Point)"
   ]
  },
  {
   "cell_type": "markdown",
   "id": "8a3dce08",
   "metadata": {
    "pycharm": {
     "name": "#%% md\n"
    }
   },
   "source": [
    "### Float (32 Bit)"
   ]
  },
  {
   "cell_type": "code",
   "execution_count": 64,
   "id": "67828e77",
   "metadata": {
    "pycharm": {
     "name": "#%%\n"
    }
   },
   "outputs": [
    {
     "name": "stdout",
     "output_type": "stream",
     "text": [
      "3.4028235E38\r\n",
      "1.4E-45\r\n"
     ]
    }
   ],
   "source": [
    "val maxFloat = Float.MAX_VALUE\n",
    "val minFloat = Float.MIN_VALUE\n",
    "\n",
    "println(maxFloat)\n",
    "println(minFloat)"
   ]
  },
  {
   "cell_type": "code",
   "execution_count": 65,
   "id": "1d62b38d",
   "metadata": {
    "pycharm": {
     "name": "#%%\n"
    }
   },
   "outputs": [
    {
     "data": {
      "text/plain": [
       "0.12345679"
      ]
     },
     "execution_count": 65,
     "metadata": {},
     "output_type": "execute_result"
    }
   ],
   "source": [
    "val floatNumber: Float = 0.123456789f\n",
    "floatNumber"
   ]
  },
  {
   "cell_type": "markdown",
   "id": "8528687b",
   "metadata": {
    "pycharm": {
     "name": "#%% md\n"
    }
   },
   "source": [
    "### Double (64 Bit)"
   ]
  },
  {
   "cell_type": "code",
   "execution_count": 66,
   "id": "7ab76e61",
   "metadata": {
    "pycharm": {
     "name": "#%%\n"
    }
   },
   "outputs": [
    {
     "name": "stdout",
     "output_type": "stream",
     "text": [
      "1.7976931348623157E308\r\n",
      "4.9E-324\r\n"
     ]
    }
   ],
   "source": [
    "val maxDouble = Double.MAX_VALUE\n",
    "val minDouble = Double.MIN_VALUE\n",
    "\n",
    "println(maxDouble)\n",
    "println(minDouble)"
   ]
  },
  {
   "cell_type": "code",
   "execution_count": 67,
   "id": "d095df05",
   "metadata": {
    "pycharm": {
     "name": "#%%\n"
    }
   },
   "outputs": [
    {
     "data": {
      "text/plain": [
       "1.3"
      ]
     },
     "execution_count": 67,
     "metadata": {},
     "output_type": "execute_result"
    }
   ],
   "source": [
    "val doubleNumber: Double = 1.3\n",
    "doubleNumber"
   ]
  },
  {
   "cell_type": "markdown",
   "id": "7e9a17d0",
   "metadata": {
    "pycharm": {
     "name": "#%% md\n"
    }
   },
   "source": [
    "### Arrays"
   ]
  },
  {
   "cell_type": "code",
   "execution_count": 68,
   "id": "f7435c60",
   "metadata": {
    "pycharm": {
     "name": "#%%\n"
    }
   },
   "outputs": [
    {
     "data": {
      "text/plain": [
       "[1, 3, 5, 7]"
      ]
     },
     "execution_count": 68,
     "metadata": {},
     "output_type": "execute_result"
    }
   ],
   "source": [
    "val array = arrayOf(1, 3, 5, 7)\n",
    "array.contentToString()"
   ]
  },
  {
   "cell_type": "code",
   "execution_count": 69,
   "id": "cee0c171",
   "metadata": {
    "pycharm": {
     "name": "#%%\n"
    }
   },
   "outputs": [
    {
     "data": {
      "text/plain": [
       "[1, 3, 5, 7, Indra, true]"
      ]
     },
     "execution_count": 69,
     "metadata": {},
     "output_type": "execute_result"
    }
   ],
   "source": [
    "val mixArray = arrayOf(1, 3, 5, 7 , \"Indra\" , true)\n",
    "mixArray.contentDeepToString()"
   ]
  },
  {
   "cell_type": "code",
   "execution_count": 70,
   "id": "87cc7ce8",
   "metadata": {
    "pycharm": {
     "name": "#%%\n"
    }
   },
   "outputs": [
    {
     "data": {
      "text/plain": [
       "[0, 1, 4, 9]"
      ]
     },
     "execution_count": 70,
     "metadata": {},
     "output_type": "execute_result"
    }
   ],
   "source": [
    "val intArray = Array(4, { i -> i * i }) // [0, 1, 4, 9]\n",
    "intArray.contentToString()"
   ]
  }
 ],
 "metadata": {
  "kernelspec": {
   "display_name": "Kotlin",
   "language": "kotlin",
   "name": "kotlin"
  },
  "language_info": {
   "codemirror_mode": "text/x-kotlin",
   "file_extension": ".kt",
   "mimetype": "text/x-kotlin",
   "name": "kotlin",
   "nbconvert_exporter": "",
   "pygments_lexer": "kotlin",
   "version": "1.6.20-dev-6372"
  }
 },
 "nbformat": 4,
 "nbformat_minor": 5
}
