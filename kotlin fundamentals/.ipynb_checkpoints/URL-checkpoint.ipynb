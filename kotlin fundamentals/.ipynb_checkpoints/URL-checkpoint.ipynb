{
 "cells": [
  {
   "cell_type": "code",
   "execution_count": 5,
   "id": "d50df112",
   "metadata": {},
   "outputs": [],
   "source": [
    "import java.net.URL\n",
    "import java.net.MalformedURLException"
   ]
  },
  {
   "cell_type": "code",
   "execution_count": 6,
   "id": "d46c114c",
   "metadata": {},
   "outputs": [
    {
     "data": {
      "text/plain": [
       "null"
      ]
     },
     "execution_count": 6,
     "metadata": {},
     "output_type": "execute_result"
    }
   ],
   "source": [
    "fun String?.isValidUrlOrNull(): URL? = try {\n",
    "    URL(this)\n",
    "} catch (e: MalformedURLException) {\n",
    "    null\n",
    "}\n",
    "\n",
    "\"www.google.com\".isValidUrlOrNull()?.host.orEmpty()\n"
   ]
  },
  {
   "cell_type": "code",
   "execution_count": 2,
   "id": "417dd24a",
   "metadata": {
    "scrolled": true
   },
   "outputs": [
    {
     "name": "stdout",
     "output_type": "stream",
     "text": [
      "Failed\r\n"
     ]
    },
    {
     "data": {
      "text/plain": [
       "null"
      ]
     },
     "execution_count": 2,
     "metadata": {},
     "output_type": "execute_result"
    }
   ],
   "source": [
    "var url: URL? = null\n",
    "\n",
    "try {\n",
    "    url = URL(\"www.google.com\")\n",
    "    println(\"Created\")\n",
    "} catch (e: Exception) {\n",
    "    println(\"Failed\")\n",
    "}\n",
    "\n",
    "url"
   ]
  },
  {
   "cell_type": "code",
   "execution_count": 4,
   "id": "b202dee1",
   "metadata": {},
   "outputs": [
    {
     "data": {
      "text/plain": [
       "false"
      ]
     },
     "execution_count": 4,
     "metadata": {},
     "output_type": "execute_result"
    }
   ],
   "source": [
    "fun String?.containsUrl(): Boolean = this != null && this.toLowerCase().contains(Regex(\"((http://|https://)?(www.)?(([a-zA-Z0-9-]){2,}\\\\.){1,4}([a-zA-Z]){2,6}(/([a-zA-Z-_/.0-9#:?=&;,]*)?)?)\"))\n",
    "\n",
    "\"google\".containsUrl()"
   ]
  },
  {
   "cell_type": "code",
   "execution_count": null,
   "id": "d4a2bb75",
   "metadata": {},
   "outputs": [],
   "source": [
    "fun String.isValidUrl(): Boolean = Patterns.WEB_URL.matcher(this).matches()"
   ]
  }
 ],
 "metadata": {
  "kernelspec": {
   "display_name": "Kotlin",
   "language": "kotlin",
   "name": "kotlin"
  },
  "language_info": {
   "codemirror_mode": "text/x-kotlin",
   "file_extension": ".kt",
   "mimetype": "text/x-kotlin",
   "name": "kotlin",
   "nbconvert_exporter": "",
   "pygments_lexer": "kotlin",
   "version": "1.6.20-dev-6372"
  }
 },
 "nbformat": 4,
 "nbformat_minor": 5
}
