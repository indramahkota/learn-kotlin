{
 "cells": [
  {
   "cell_type": "code",
   "execution_count": 1,
   "id": "b2bc85fe",
   "metadata": {},
   "outputs": [],
   "source": [
    "inline fun <reified T : Enum<T>> safeValueOf(type: String?): T? {\n",
    "    if (type == null || type.isEmpty()) return null\n",
    "    return try {\n",
    "        java.lang.Enum.valueOf(T::class.java, type)\n",
    "    } catch (e: IllegalArgumentException) {\n",
    "        null\n",
    "    }\n",
    "}\n",
    "\n",
    "inline fun <reified T : Enum<T>> safeValueOf(type: String?, default: T): T {\n",
    "    if (type == null || type.isEmpty()) return default\n",
    "    return try {\n",
    "        java.lang.Enum.valueOf(T::class.java, type)\n",
    "    } catch (e: IllegalArgumentException) {\n",
    "        default\n",
    "    }\n",
    "}"
   ]
  },
  {
   "cell_type": "code",
   "execution_count": 2,
   "id": "0e485308",
   "metadata": {},
   "outputs": [],
   "source": [
    "enum class NotificationType(val icon: Int) {\n",
    "    AKUN(1),\n",
    "    BANK(2),\n",
    "    INVESTASI(3),\n",
    "    PROMO(4),\n",
    "}"
   ]
  },
  {
   "cell_type": "code",
   "execution_count": 3,
   "id": "8f715f16",
   "metadata": {
    "scrolled": true
   },
   "outputs": [
    {
     "data": {
      "text/plain": [
       "null"
      ]
     },
     "execution_count": 3,
     "metadata": {},
     "output_type": "execute_result"
    }
   ],
   "source": [
    "val test = safeValueOf<NotificationType>(\"\")\n",
    "test?.icon"
   ]
  },
  {
   "cell_type": "code",
   "execution_count": 6,
   "id": "bccd8783",
   "metadata": {},
   "outputs": [
    {
     "data": {
      "text/plain": [
       "[DISCOVERY_CALENDAR, DISCOVERY_IPO, DISCOVERY_PICK, DISCOVERY_TREND, DISCOVERY_CATEGORY, DISCOVERY_ETF, DISCOVERY_SECTOR]"
      ]
     },
     "execution_count": 6,
     "metadata": {},
     "output_type": "execute_result"
    }
   ],
   "source": [
    "enum class Features {\n",
    "    DISCOVERY_CALENDAR, DISCOVERY_IPO, DISCOVERY_PICK,\n",
    "    DISCOVERY_TREND, DISCOVERY_CATEGORY, DISCOVERY_ETF, DISCOVERY_SECTOR\n",
    "}\n",
    "\n",
    "Features.values().toList().map { feature -> feature.toString() }"
   ]
  },
  {
   "cell_type": "code",
   "execution_count": null,
   "id": "3fe5b8a9",
   "metadata": {},
   "outputs": [],
   "source": []
  }
 ],
 "metadata": {
  "kernelspec": {
   "display_name": "Kotlin",
   "language": "kotlin",
   "name": "kotlin"
  },
  "language_info": {
   "codemirror_mode": "text/x-kotlin",
   "file_extension": ".kt",
   "mimetype": "text/x-kotlin",
   "name": "kotlin",
   "nbconvert_exporter": "",
   "pygments_lexer": "kotlin",
   "version": "1.6.20-dev-6372"
  }
 },
 "nbformat": 4,
 "nbformat_minor": 5
}
