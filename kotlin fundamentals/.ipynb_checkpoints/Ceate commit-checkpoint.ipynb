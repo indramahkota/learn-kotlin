{
 "cells": [
  {
   "cell_type": "code",
   "execution_count": 3,
   "id": "6b4b8cac",
   "metadata": {},
   "outputs": [],
   "source": [
    "import java.time.LocalTime;\n",
    "import java.time.LocalDateTime;\n",
    "import java.text.SimpleDateFormat;\n",
    "import java.util.Calendar;"
   ]
  },
  {
   "cell_type": "code",
   "execution_count": 4,
   "id": "b33a048e",
   "metadata": {},
   "outputs": [],
   "source": [
    "fun createCommit(cal: Calendar, message: String): String {\n",
    "    val sdf = SimpleDateFormat(\"yyyy-MM-dd HH:mm:ss\")\n",
    "    val time = sdf.format(cal.getTime())\n",
    "    return \"git commit --date='$time' -m \\\"$message\\\"\"\n",
    "}"
   ]
  },
  {
   "cell_type": "code",
   "execution_count": 14,
   "id": "fe5cadc6",
   "metadata": {},
   "outputs": [
    {
     "data": {
      "text/plain": [
       "git commit --date='2022-01-31 19:48:07' -m \"Clean docs\""
      ]
     },
     "execution_count": 14,
     "metadata": {},
     "output_type": "execute_result"
    }
   ],
   "source": [
    "val message = \"Clean docs\"\n",
    "\n",
    "val YEAR    = 2022\n",
    "val MONTH   = Calendar.JANUARY\n",
    "val DAY     = 31\n",
    "\n",
    "\n",
    "val calendar = Calendar.getInstance().also { it.set(YEAR, MONTH, DAY) }\n",
    "createCommit(calendar, message)"
   ]
  },
  {
   "cell_type": "code",
   "execution_count": null,
   "id": "d5b59c11",
   "metadata": {},
   "outputs": [],
   "source": []
  }
 ],
 "metadata": {
  "kernelspec": {
   "display_name": "Kotlin",
   "language": "kotlin",
   "name": "kotlin"
  },
  "language_info": {
   "codemirror_mode": "text/x-kotlin",
   "file_extension": ".kt",
   "mimetype": "text/x-kotlin",
   "name": "kotlin",
   "nbconvert_exporter": "",
   "pygments_lexer": "kotlin",
   "version": "1.6.20-dev-6372"
  }
 },
 "nbformat": 4,
 "nbformat_minor": 5
}
