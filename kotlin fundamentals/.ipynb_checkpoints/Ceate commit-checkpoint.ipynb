{
 "cells": [
  {
   "cell_type": "code",
   "execution_count": 1,
   "id": "6b4b8cac",
   "metadata": {},
   "outputs": [],
   "source": [
    "import java.time.LocalTime;\n",
    "import java.time.LocalDateTime;\n",
    "import java.text.SimpleDateFormat;\n",
    "import java.util.Calendar;"
   ]
  },
  {
   "cell_type": "code",
   "execution_count": 2,
   "id": "b33a048e",
   "metadata": {},
   "outputs": [],
   "source": [
    "fun createCommit(cal: Calendar, message: String): String {\n",
    "    val sdf = SimpleDateFormat(\"yyyy-MM-dd HH:mm:ss\")\n",
    "    val time = sdf.format(cal.getTime())\n",
    "    return \"git commit --date='$time' -m \\\"$message\\\"\"\n",
    "}"
   ]
  },
  {
   "cell_type": "code",
   "execution_count": 12,
   "id": "fe5cadc6",
   "metadata": {},
   "outputs": [
    {
     "data": {
      "text/plain": [
       "git commit --date='2022-01-06 19:28:19' -m \"rebuild github pages\""
      ]
     },
     "execution_count": 12,
     "metadata": {},
     "output_type": "execute_result"
    }
   ],
   "source": [
    "val message = \"rebuild github pages\"\n",
    "\n",
    "val YEAR    = 2022\n",
    "val MONTH   = Calendar.JUNE\n",
    "val DAY     = 9\n",
    "\n",
    "val calendar = Calendar.getInstance().also { it.set(YEAR, MONTH, DAY) }\n",
    "createCommit(calendar, message)"
   ]
  }
 ],
 "metadata": {
  "kernelspec": {
   "display_name": "Kotlin",
   "language": "kotlin",
   "name": "kotlin"
  },
  "language_info": {
   "codemirror_mode": "text/x-kotlin",
   "file_extension": ".kt",
   "mimetype": "text/x-kotlin",
   "name": "kotlin",
   "nbconvert_exporter": "",
   "pygments_lexer": "kotlin",
   "version": "1.6.20-dev-6372"
  }
 },
 "nbformat": 4,
 "nbformat_minor": 5
}
