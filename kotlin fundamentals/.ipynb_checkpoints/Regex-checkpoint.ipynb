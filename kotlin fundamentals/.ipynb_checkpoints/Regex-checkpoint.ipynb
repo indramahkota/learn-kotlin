{
 "cells": [
  {
   "cell_type": "code",
   "execution_count": 19,
   "id": "b14308a2",
   "metadata": {},
   "outputs": [],
   "source": [
    "import java.math.BigDecimal\n",
    "import java.math.RoundingMode\n",
    "\n",
    "fun formatNumberBasedOnTier(number: Long): String {\n",
    "    val symbols = arrayOf(\"\", \"K\", \"M\", \"B\", \"T\")\n",
    "    val tier = (log10(abs(number).toDouble()) / 3).toInt()\n",
    "    if (number == 0L || tier == 0) return number.toString()\n",
    "    val scaled = number / (10.0.pow((tier * 3)))\n",
    "    return round(scaled, 2).toString() + symbols[tier]\n",
    "}\n",
    "\n",
    "fun round(value: Double, places: Int): Double {\n",
    "    require(places >= 0)\n",
    "    var bd: BigDecimal = BigDecimal.valueOf(value)\n",
    "    bd = bd.setScale(places, RoundingMode.FLOOR)\n",
    "    return bd.toDouble()\n",
    "}"
   ]
  },
  {
   "cell_type": "code",
   "execution_count": 20,
   "id": "d4d6c8da",
   "metadata": {},
   "outputs": [
    {
     "data": {
      "text/plain": [
       "1.0B"
      ]
     },
     "execution_count": 20,
     "metadata": {},
     "output_type": "execute_result"
    }
   ],
   "source": [
    "formatNumberBasedOnTier(1276_070_000L)"
   ]
  }
 ],
 "metadata": {
  "kernelspec": {
   "display_name": "Kotlin",
   "language": "kotlin",
   "name": "kotlin"
  },
  "language_info": {
   "codemirror_mode": "text/x-kotlin",
   "file_extension": ".kt",
   "mimetype": "text/x-kotlin",
   "name": "kotlin",
   "nbconvert_exporter": "",
   "pygments_lexer": "kotlin",
   "version": "1.8.0-RC"
  }
 },
 "nbformat": 4,
 "nbformat_minor": 5
}
