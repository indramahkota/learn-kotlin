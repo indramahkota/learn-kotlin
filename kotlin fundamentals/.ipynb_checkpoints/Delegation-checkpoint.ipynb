{
 "cells": [
  {
   "cell_type": "markdown",
   "id": "b949029f",
   "metadata": {},
   "source": [
    "[REFERENCE](https://kotlinlang.org/docs/delegation.html)\n",
    "\n",
    "A class Derived can implement an interface Base by delegating all of its public members to a specified object:"
   ]
  },
  {
   "cell_type": "code",
   "execution_count": 6,
   "id": "53d43639",
   "metadata": {},
   "outputs": [
    {
     "name": "stdout",
     "output_type": "stream",
     "text": [
      "10"
     ]
    }
   ],
   "source": [
    "interface Base {\n",
    "    fun print()\n",
    "}\n",
    "\n",
    "class BaseImpl(val x: Int) : Base {\n",
    "    override fun print() { print(x) }\n",
    "}\n",
    "\n",
    "class Derived(b: Base) : Base by b\n",
    "\n",
    "val b = BaseImpl(10)\n",
    "\n",
    "val c = Derived(b)\n",
    "c.print()"
   ]
  },
  {
   "cell_type": "markdown",
   "id": "b868a083",
   "metadata": {},
   "source": [
    "Delegated properties"
   ]
  },
  {
   "cell_type": "code",
   "execution_count": 7,
   "id": "9e9459fd",
   "metadata": {},
   "outputs": [
    {
     "name": "stdout",
     "output_type": "stream",
     "text": [
      "computed!\r\n",
      "Hello\r\n",
      "Hello\r\n"
     ]
    }
   ],
   "source": [
    "val lazyValue: String by lazy {\n",
    "    println(\"computed!\")\n",
    "    \"Hello\"\n",
    "}\n",
    "\n",
    "println(lazyValue)\n",
    "println(lazyValue)"
   ]
  }
 ],
 "metadata": {
  "kernelspec": {
   "display_name": "Kotlin",
   "language": "kotlin",
   "name": "kotlin"
  },
  "language_info": {
   "codemirror_mode": "text/x-kotlin",
   "file_extension": ".kt",
   "mimetype": "text/x-kotlin",
   "name": "kotlin",
   "nbconvert_exporter": "",
   "pygments_lexer": "kotlin",
   "version": "1.6.20-dev-6372"
  }
 },
 "nbformat": 4,
 "nbformat_minor": 5
}
