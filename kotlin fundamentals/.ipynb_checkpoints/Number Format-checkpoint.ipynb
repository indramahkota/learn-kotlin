{
 "cells": [
  {
   "cell_type": "code",
   "execution_count": 2,
   "id": "4736524c",
   "metadata": {},
   "outputs": [],
   "source": [
    "import java.math.BigDecimal\n",
    "import java.net.MalformedURLException\n",
    "import java.net.URL\n",
    "import java.text.DecimalFormat\n",
    "import java.text.DecimalFormatSymbols\n",
    "import java.text.ParseException\n",
    "import java.text.SimpleDateFormat\n",
    "import java.util.Date\n",
    "import java.util.Locale\n",
    "import java.util.TimeZone\n",
    "import java.util.regex.Pattern\n",
    "import kotlin.math.abs\n",
    "import kotlin.math.floor\n",
    "import kotlin.math.log\n",
    "import kotlin.math.pow\n",
    "import kotlin.math.roundToInt"
   ]
  },
  {
   "cell_type": "code",
   "execution_count": 10,
   "id": "a43073f7",
   "metadata": {},
   "outputs": [],
   "source": [
    "val LOCALE_ID = Locale(\"id\", \"ID\")\n",
    "\n",
    "fun Double?.orZero(): Double {\n",
    "    return this ?: 0.0\n",
    "}"
   ]
  },
  {
   "cell_type": "code",
   "execution_count": 11,
   "id": "18be1b25",
   "metadata": {},
   "outputs": [],
   "source": [
    "fun Double?.formatUS(maxDigit: Int = 0, minDigit: Int? = null, usePrefix: Boolean = false): String {\n",
    "    val number = DecimalFormat.getInstance(LOCALE_ID) as DecimalFormat\n",
    "    val format = DecimalFormatSymbols(Locale.US)\n",
    "    format.decimalSeparator = '.'\n",
    "    format.groupingSeparator = ','\n",
    "    number.decimalFormatSymbols = format\n",
    "    number.maximumFractionDigits = maxDigit\n",
    "    minDigit?.let { number.minimumFractionDigits = it }\n",
    "    if (usePrefix) {\n",
    "        number.positivePrefix = if (this.orZero() == 0.0) \"\" else \"+\"\n",
    "        number.negativePrefix = \"-\"\n",
    "    }\n",
    "    return number.format(this ?: 0.0)\n",
    "}"
   ]
  },
  {
   "cell_type": "code",
   "execution_count": 14,
   "id": "fc55172a",
   "metadata": {},
   "outputs": [
    {
     "data": {
      "text/plain": [
       "1"
      ]
     },
     "execution_count": 14,
     "metadata": {},
     "output_type": "execute_result"
    }
   ],
   "source": [
    "val dbl = 1.0\n",
    "dbl.formatUS(1)"
   ]
  }
 ],
 "metadata": {
  "kernelspec": {
   "display_name": "Kotlin",
   "language": "kotlin",
   "name": "kotlin"
  },
  "language_info": {
   "codemirror_mode": "text/x-kotlin",
   "file_extension": ".kt",
   "mimetype": "text/x-kotlin",
   "name": "kotlin",
   "nbconvert_exporter": "",
   "pygments_lexer": "kotlin",
   "version": "1.6.20-dev-6372"
  }
 },
 "nbformat": 4,
 "nbformat_minor": 5
}
