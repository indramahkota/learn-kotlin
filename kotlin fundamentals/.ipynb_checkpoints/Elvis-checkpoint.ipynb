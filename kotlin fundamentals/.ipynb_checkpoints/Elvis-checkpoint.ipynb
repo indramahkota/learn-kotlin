{
 "cells": [
  {
   "cell_type": "code",
   "execution_count": 40,
   "id": "5b6e732f",
   "metadata": {},
   "outputs": [],
   "source": [
    "%use @file[D:/Programming/Kotlin/learn-kotlin/dependencies/joda.json]\n",
    "%use @file[D:/Programming/Kotlin/learn-kotlin/dependencies/pretty_time.json]\n",
    "\n",
    "%use @file[D:/Programming/Kotlin/learn-kotlin/dependencies/gson.json]\n",
    "%use @file[D:/Programming/Kotlin/learn-kotlin/dependencies/kasechange.json]"
   ]
  },
  {
   "cell_type": "code",
   "execution_count": 1,
   "id": "2bbe2296",
   "metadata": {},
   "outputs": [
    {
     "data": {
      "text/plain": [
       "asak"
      ]
     },
     "execution_count": 1,
     "metadata": {},
     "output_type": "execute_result"
    }
   ],
   "source": [
    "val thumbnail = \"asak?sjas?mak-=asas\"\n",
    "thumbnail?.run {\n",
    "    split(\"?\").toTypedArray().toList().firstOrNull()\n",
    "}"
   ]
  },
  {
   "cell_type": "code",
   "execution_count": 12,
   "id": "5824617f",
   "metadata": {},
   "outputs": [
    {
     "name": "stdout",
     "output_type": "stream",
     "text": [
      "null oy\r\n"
     ]
    }
   ],
   "source": [
    "val varA = null\n",
    "\n",
    "varA?.let { println(\"not null\") } ?: println(\"null oy\")\n"
   ]
  },
  {
   "cell_type": "code",
   "execution_count": 16,
   "id": "f1e0648d",
   "metadata": {},
   "outputs": [],
   "source": [
    "fun Double?.orZero(): Double {\n",
    "    return this ?: 0.0\n",
    "}"
   ]
  },
  {
   "cell_type": "code",
   "execution_count": 38,
   "id": "611be626",
   "metadata": {},
   "outputs": [],
   "source": [
    "data class CoreODTMultiplierResponse(\n",
    "    var date: DateTime? = null,\n",
    "    var multiplier: Map<String, Double> = mapOf()\n",
    ")\n",
    "\n",
    "fun CoreODTMultiplierResponse.getMultiplier(code: String?): Double {\n",
    "    return code?.let { multiplier[code].orZero() } ?: 0.0\n",
    "}"
   ]
  },
  {
   "cell_type": "code",
   "execution_count": 41,
   "id": "b5f8d860",
   "metadata": {},
   "outputs": [
    {
     "data": {
      "text/plain": [
       "{\"date\":{\"iMillis\":1673823600000,\"iChronology\":{\"iBase\":{\"iBase\":{\"iBase\":{\"iMinDaysInFirstWeek\":4}},\"iParam\":{\"iTransitions\":[-9223372036854775808,-2840164924000,-1570084924000],\"iWallOffsets\":[24124000,24124000,25200000],\"iStandardOffsets\":[24124000,24124000,25200000],\"iNameKeys\":[\"LMT\",\"BMT\",\"+07\"],\"iID\":\"Asia/Bangkok\"}}}},\"multiplier\":{\"a\":1.0}}"
      ]
     },
     "execution_count": 41,
     "metadata": {},
     "output_type": "execute_result"
    }
   ],
   "source": [
    "val data = CoreODTMultiplierResponse(\n",
    "    date = DateTime().withTime(6, 0, 0, 0),\n",
    "    multiplier = mapOf(\"a\" to 1.0)\n",
    ")\n",
    "\n",
    "Gson().toJson(data)"
   ]
  },
  {
   "cell_type": "code",
   "execution_count": 42,
   "id": "0b40de2b",
   "metadata": {},
   "outputs": [
    {
     "name": "stderr",
     "output_type": "stream",
     "text": [
      "Failed to invoke public org.joda.time.Chronology() with no args\n",
      "java.lang.RuntimeException: Failed to invoke public org.joda.time.Chronology() with no args\n",
      "org.jetbrains.kotlinx.jupyter.ReplEvalRuntimeException: Failed to invoke public org.joda.time.Chronology() with no args\r\n",
      "\tat org.jetbrains.kotlinx.jupyter.repl.impl.InternalEvaluatorImpl.eval(InternalEvaluatorImpl.kt:106)\r\n",
      "\tat org.jetbrains.kotlinx.jupyter.repl.impl.CellExecutorImpl$execute$1$result$1.invoke(CellExecutorImpl.kt:64)\r\n",
      "\tat org.jetbrains.kotlinx.jupyter.repl.impl.CellExecutorImpl$execute$1$result$1.invoke(CellExecutorImpl.kt:63)\r\n",
      "\tat org.jetbrains.kotlinx.jupyter.ReplForJupyterImpl.withHost(repl.kt:604)\r\n",
      "\tat org.jetbrains.kotlinx.jupyter.repl.impl.CellExecutorImpl.execute(CellExecutorImpl.kt:63)\r\n",
      "\tat org.jetbrains.kotlinx.jupyter.repl.CellExecutor$DefaultImpls.execute$default(CellExecutor.kt:13)\r\n",
      "\tat org.jetbrains.kotlinx.jupyter.ReplForJupyterImpl$evalEx$1.invoke(repl.kt:423)\r\n",
      "\tat org.jetbrains.kotlinx.jupyter.ReplForJupyterImpl$evalEx$1.invoke(repl.kt:412)\r\n",
      "\tat org.jetbrains.kotlinx.jupyter.ReplForJupyterImpl.withEvalContext(repl.kt:376)\r\n",
      "\tat org.jetbrains.kotlinx.jupyter.ReplForJupyterImpl.evalEx(repl.kt:412)\r\n",
      "\tat org.jetbrains.kotlinx.jupyter.ReplForJupyterImpl.eval(repl.kt:460)\r\n",
      "\tat org.jetbrains.kotlinx.jupyter.ProtocolKt$shellMessagesHandler$res$1.invoke(protocol.kt:290)\r\n",
      "\tat org.jetbrains.kotlinx.jupyter.ProtocolKt$shellMessagesHandler$res$1.invoke(protocol.kt:289)\r\n",
      "\tat org.jetbrains.kotlinx.jupyter.JupyterConnection$runExecution$execThread$1.invoke(connection.kt:166)\r\n",
      "\tat org.jetbrains.kotlinx.jupyter.JupyterConnection$runExecution$execThread$1.invoke(connection.kt:164)\r\n",
      "\tat kotlin.concurrent.ThreadsKt$thread$thread$1.run(Thread.kt:30)\r\n",
      "Caused by: java.lang.RuntimeException: Failed to invoke public org.joda.time.Chronology() with no args\r\n",
      "\tat com.google.gson.internal.ConstructorConstructor$3.construct(ConstructorConstructor.java:113)\r\n",
      "\tat com.google.gson.internal.bind.ReflectiveTypeAdapterFactory$Adapter.read(ReflectiveTypeAdapterFactory.java:212)\r\n",
      "\tat com.google.gson.internal.bind.ReflectiveTypeAdapterFactory$1.read(ReflectiveTypeAdapterFactory.java:131)\r\n",
      "\tat com.google.gson.internal.bind.ReflectiveTypeAdapterFactory$Adapter.read(ReflectiveTypeAdapterFactory.java:222)\r\n",
      "\tat com.google.gson.internal.bind.ReflectiveTypeAdapterFactory$1.read(ReflectiveTypeAdapterFactory.java:131)\r\n",
      "\tat com.google.gson.internal.bind.ReflectiveTypeAdapterFactory$Adapter.read(ReflectiveTypeAdapterFactory.java:222)\r\n",
      "\tat com.google.gson.Gson.fromJson(Gson.java:963)\r\n",
      "\tat com.google.gson.Gson.fromJson(Gson.java:928)\r\n",
      "\tat com.google.gson.Gson.fromJson(Gson.java:877)\r\n",
      "\tat com.google.gson.Gson.fromJson(Gson.java:848)\r\n",
      "\tat Line_419.<init>(Line_419.jupyter-kts:1)\r\n",
      "\tat java.base/jdk.internal.reflect.NativeConstructorAccessorImpl.newInstance0(Native Method)\r\n",
      "\tat java.base/jdk.internal.reflect.NativeConstructorAccessorImpl.newInstance(NativeConstructorAccessorImpl.java:62)\r\n",
      "\tat java.base/jdk.internal.reflect.DelegatingConstructorAccessorImpl.newInstance(DelegatingConstructorAccessorImpl.java:45)\r\n",
      "\tat java.base/java.lang.reflect.Constructor.newInstance(Constructor.java:490)\r\n",
      "\tat kotlin.script.experimental.jvm.BasicJvmScriptEvaluator.evalWithConfigAndOtherScriptsResults(BasicJvmScriptEvaluator.kt:100)\r\n",
      "\tat kotlin.script.experimental.jvm.BasicJvmScriptEvaluator.invoke$suspendImpl(BasicJvmScriptEvaluator.kt:47)\r\n",
      "\tat kotlin.script.experimental.jvm.BasicJvmScriptEvaluator.invoke(BasicJvmScriptEvaluator.kt)\r\n",
      "\tat kotlin.script.experimental.jvm.BasicJvmReplEvaluator.eval(BasicJvmReplEvaluator.kt:49)\r\n",
      "\tat org.jetbrains.kotlinx.jupyter.repl.impl.InternalEvaluatorImpl$eval$resultWithDiagnostics$1.invokeSuspend(InternalEvaluatorImpl.kt:99)\r\n",
      "\tat kotlin.coroutines.jvm.internal.BaseContinuationImpl.resumeWith(ContinuationImpl.kt:33)\r\n",
      "\tat kotlinx.coroutines.DispatchedTask.run(DispatchedTask.kt:106)\r\n",
      "\tat kotlinx.coroutines.EventLoopImplBase.processNextEvent(EventLoop.common.kt:274)\r\n",
      "\tat kotlinx.coroutines.BlockingCoroutine.joinBlocking(Builders.kt:85)\r\n",
      "\tat kotlinx.coroutines.BuildersKt__BuildersKt.runBlocking(Builders.kt:59)\r\n",
      "\tat kotlinx.coroutines.BuildersKt.runBlocking(Unknown Source)\r\n",
      "\tat kotlinx.coroutines.BuildersKt__BuildersKt.runBlocking$default(Builders.kt:38)\r\n",
      "\tat kotlinx.coroutines.BuildersKt.runBlocking$default(Unknown Source)\r\n",
      "\tat org.jetbrains.kotlinx.jupyter.repl.impl.InternalEvaluatorImpl.eval(InternalEvaluatorImpl.kt:99)\r\n",
      "\t... 15 more\r\n",
      "Caused by: java.lang.InstantiationException\r\n",
      "\tat java.base/jdk.internal.reflect.InstantiationExceptionConstructorAccessorImpl.newInstance(InstantiationExceptionConstructorAccessorImpl.java:48)\r\n",
      "\tat java.base/java.lang.reflect.Constructor.newInstance(Constructor.java:490)\r\n",
      "\tat com.google.gson.internal.ConstructorConstructor$3.construct(ConstructorConstructor.java:110)\r\n",
      "\t... 43 more\r\n",
      "\n"
     ]
    }
   ],
   "source": [
    "Gson().fromJson(\"{\\\"date\\\":{\\\"iMillis\\\":1673823600000,\\\"iChronology\\\":{\\\"iBase\\\":{\\\"iBase\\\":{\\\"iBase\\\":{\\\"iMinDaysInFirstWeek\\\":4}},\\\"iParam\\\":{\\\"iTransitions\\\":[-9223372036854775808,-2840164924000,-1570084924000],\\\"iWallOffsets\\\":[24124000,24124000,25200000],\\\"iStandardOffsets\\\":[24124000,24124000,25200000],\\\"iNameKeys\\\":[\\\"LMT\\\",\\\"BMT\\\",\\\"+07\\\"],\\\"iID\\\":\\\"Asia/Bangkok\\\"}}}},\\\"multiplier\\\":{\\\"a\\\":1.0}}\", CoreODTMultiplierResponse::class.java)"
   ]
  }
 ],
 "metadata": {
  "kernelspec": {
   "display_name": "Kotlin",
   "language": "kotlin",
   "name": "kotlin"
  },
  "language_info": {
   "codemirror_mode": "text/x-kotlin",
   "file_extension": ".kt",
   "mimetype": "text/x-kotlin",
   "name": "kotlin",
   "nbconvert_exporter": "",
   "pygments_lexer": "kotlin",
   "version": "1.6.20-dev-6372"
  }
 },
 "nbformat": 4,
 "nbformat_minor": 5
}
