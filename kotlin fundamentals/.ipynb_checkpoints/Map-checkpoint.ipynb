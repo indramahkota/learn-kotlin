{
 "cells": [
  {
   "cell_type": "code",
   "execution_count": 4,
   "id": "61841c77",
   "metadata": {},
   "outputs": [
    {
     "data": {
      "text/plain": [
       "{asas=1}"
      ]
     },
     "execution_count": 4,
     "metadata": {},
     "output_type": "execute_result"
    }
   ],
   "source": [
    "val mandatory: MutableMap<String, Any> = mutableMapOf()\n",
    "\n",
    "mandatory[\"asas\"] = 1\n",
    "\n",
    "mandatory"
   ]
  },
  {
   "cell_type": "code",
   "execution_count": 14,
   "id": "d8c1f273",
   "metadata": {},
   "outputs": [],
   "source": [
    "val list = listOf<Int?>(null, null)\n",
    "try {\n",
    "    val first = list.first { it == 1 }\n",
    "    first\n",
    "    \n",
    "} catch (e: NoSuchElementException) {}\n"
   ]
  },
  {
   "cell_type": "code",
   "execution_count": 30,
   "id": "dc974309",
   "metadata": {},
   "outputs": [
    {
     "data": {
      "text/plain": [
       "[1]"
      ]
     },
     "execution_count": 30,
     "metadata": {},
     "output_type": "execute_result"
    }
   ],
   "source": [
    "// val list: List<Int?>? = null\n",
    "val list: List<Int?> = listOf(null, null, 1)\n",
    "list.orEmpty().mapNotNull { it?.toString() }"
   ]
  },
  {
   "cell_type": "code",
   "execution_count": 31,
   "id": "8e2bf45c",
   "metadata": {},
   "outputs": [],
   "source": [
    "val list = listOf<Int>()\n",
    "list[0]"
   ]
  }
 ],
 "metadata": {
  "kernelspec": {
   "display_name": "Kotlin",
   "language": "kotlin",
   "name": "kotlin"
  },
  "language_info": {
   "codemirror_mode": "text/x-kotlin",
   "file_extension": ".kt",
   "mimetype": "text/x-kotlin",
   "name": "kotlin",
   "nbconvert_exporter": "",
   "pygments_lexer": "kotlin",
   "version": "1.6.20-dev-6372"
  }
 },
 "nbformat": 4,
 "nbformat_minor": 5
}
