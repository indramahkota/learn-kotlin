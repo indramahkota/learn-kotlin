{
 "cells": [
  {
   "cell_type": "code",
   "execution_count": 44,
   "id": "906b477e",
   "metadata": {},
   "outputs": [],
   "source": [
    "// Using Library\n",
    "// println(java.nio.file.Paths.get(\"\").toAbsolutePath().toString())\n",
    "// %use @file[[DIR_PATH]/[LIB_NAME].json]"
   ]
  },
  {
   "cell_type": "code",
   "execution_count": 45,
   "id": "f8307f2b",
   "metadata": {},
   "outputs": [],
   "source": [
    "%use krangl\n",
    "%use coroutines\n",
    "\n",
    "%use @file[D:/Programming/Kotlin/learn-kotlin/dependencies/gson.json]\n",
    "%use @file[D:/Programming/Kotlin/learn-kotlin/dependencies/org_json.json]\n",
    "%use @file[D:/Programming/Kotlin/learn-kotlin/dependencies/retrofit.json]\n",
    "%use @file[D:/Programming/Kotlin/learn-kotlin/dependencies/retrofit_gson_converter.json]"
   ]
  },
  {
   "cell_type": "code",
   "execution_count": 46,
   "id": "33b71f44",
   "metadata": {},
   "outputs": [],
   "source": [
    "import kotlinx.coroutines.flow.Flow\n",
    "import kotlinx.coroutines.flow.flow\n",
    "import kotlinx.coroutines.flow.MutableStateFlow\n",
    "import kotlinx.coroutines.flow.StateFlow\n",
    "import kotlinx.coroutines.flow.collect\n",
    "import kotlinx.coroutines.GlobalScope\n",
    "import kotlinx.coroutines.launch"
   ]
  },
  {
   "cell_type": "code",
   "execution_count": 47,
   "id": "9186df3e",
   "metadata": {},
   "outputs": [],
   "source": [
    "data class UserResponse(\n",
    "    @SerializedName(\"incomplete_results\")\n",
    "    val incompleteResults: Boolean?,\n",
    "    @SerializedName(\"items\")\n",
    "    val items: List<UserDto>,\n",
    "    @SerializedName(\"total_count\")\n",
    "    val totalCount: Long?\n",
    ")\n",
    "\n",
    "data class UserDto(\n",
    "    @SerializedName(\"id\")\n",
    "    val id: Long,\n",
    "    @SerializedName(\"avatar_url\")\n",
    "    val avatarUrl: String?,\n",
    "    @SerializedName(\"name\")\n",
    "    val name: String?,\n",
    "    @SerializedName(\"login\")\n",
    "    val login: String?,\n",
    "    @SerializedName(\"bio\")\n",
    "    val bio: String?,\n",
    "    @SerializedName(\"followers\")\n",
    "    val followers: Int?,\n",
    "    @SerializedName(\"following\")\n",
    "    val following: Int?,\n",
    "    @SerializedName(\"location\")\n",
    "    val location: String?,\n",
    "    @SerializedName(\"email\")\n",
    "    val email: String?\n",
    ")\n",
    "\n",
    "data class User(\n",
    "    val id: Long,\n",
    "    val avatarUrl: String,\n",
    "    val name: String,\n",
    "    val login: String,\n",
    "    val bio: String,\n",
    "    val followers: Int,\n",
    "    val following: Int,\n",
    "    val location: String,\n",
    "    val email: String\n",
    ")"
   ]
  },
  {
   "cell_type": "code",
   "execution_count": 48,
   "id": "a1181ee7",
   "metadata": {},
   "outputs": [],
   "source": [
    "fun UserDto.toUser() = User(\n",
    "    id = id,\n",
    "    avatarUrl = avatarUrl ?: \"\",\n",
    "    name = name ?: \"N/A\",\n",
    "    login = login ?: \"N/A\",\n",
    "    bio = bio ?: \"Biography not available\",\n",
    "    followers = followers ?: 0,\n",
    "    following = following ?: 0,\n",
    "    location = location ?: \"N/A\",\n",
    "    email = email ?: \"N/A\"\n",
    ")\n",
    "\n",
    "fun List<UserDto>.toListUser() =\n",
    "    this.map {\n",
    "        it.toUser()\n",
    "    }"
   ]
  },
  {
   "cell_type": "code",
   "execution_count": 49,
   "id": "d73a4fb1",
   "metadata": {},
   "outputs": [],
   "source": [
    "interface GithubService {\n",
    "    @JvmSuppressWildcards\n",
    "    @GET(\"search/users\")\n",
    "    suspend fun searchUsers(\n",
    "        @QueryMap params: Map<String, Any>\n",
    "    ): Response<UserResponse>\n",
    "\n",
    "    @GET(\"users/{id}\")\n",
    "    suspend fun getUser(\n",
    "        @Path(\"id\") username: String\n",
    "    ): Response<UserDto>\n",
    "}"
   ]
  },
  {
   "cell_type": "code",
   "execution_count": 50,
   "id": "e3b33ba9",
   "metadata": {},
   "outputs": [],
   "source": [
    "val retrofit = Retrofit\n",
    "        .Builder().apply {\n",
    "            baseUrl(\"https://api.github.com/\")\n",
    "            addConverterFactory(GsonConverterFactory.create(GsonBuilder().create()))\n",
    "        }.build()\n",
    "        \n",
    "val service = retrofit.create(GithubService::class.java)"
   ]
  },
  {
   "cell_type": "code",
   "execution_count": 51,
   "id": "99e8ee48",
   "metadata": {},
   "outputs": [],
   "source": [
    "val indramahkota = \"{\\\"login\\\":\\\"indramahkota\\\",\\\"id\\\":34052126,\\\"node_id\\\":\\\"MDQ6VXNlcjM0MDUyMTI2\\\",\\\"avatar_url\\\":\\\"https://avatars.githubusercontent.com/u/34052126?v=4\\\",\\\"gravatar_id\\\":\\\"\\\",\\\"url\\\":\\\"https://api.github.com/users/indramahkota\\\",\\\"html_url\\\":\\\"https://github.com/indramahkota\\\",\\\"followers_url\\\":\\\"https://api.github.com/users/indramahkota/followers\\\",\\\"following_url\\\":\\\"https://api.github.com/users/indramahkota/following{/other_user}\\\",\\\"gists_url\\\":\\\"https://api.github.com/users/indramahkota/gists{/gist_id}\\\",\\\"starred_url\\\":\\\"https://api.github.com/users/indramahkota/starred{/owner}{/repo}\\\",\\\"subscriptions_url\\\":\\\"https://api.github.com/users/indramahkota/subscriptions\\\",\\\"organizations_url\\\":\\\"https://api.github.com/users/indramahkota/orgs\\\",\\\"repos_url\\\":\\\"https://api.github.com/users/indramahkota/repos\\\",\\\"events_url\\\":\\\"https://api.github.com/users/indramahkota/events{/privacy}\\\",\\\"received_events_url\\\":\\\"https://api.github.com/users/indramahkota/received_events\\\",\\\"type\\\":\\\"User\\\",\\\"site_admin\\\":false,\\\"name\\\":\\\"Indra Mahkota\\\",\\\"company\\\":null,\\\"blog\\\":\\\"indramahkota.info\\\",\\\"location\\\":\\\"Pontianak, Indonesia\\\",\\\"email\\\":null,\\\"hireable\\\":true,\\\"bio\\\":\\\"Focus on developing android applications and having some knowledge of web frontend technologies.\\uD83D\\uDE0A.\\\",\\\"twitter_username\\\":null,\\\"public_repos\\\":54,\\\"public_gists\\\":9,\\\"followers\\\":20,\\\"following\\\":19,\\\"created_at\\\":\\\"2017-11-28T05:26:02Z\\\",\\\"updated_at\\\":\\\"2022-01-13T07:58:02Z\\\"}\""
   ]
  },
  {
   "cell_type": "code",
   "execution_count": 52,
   "id": "7f5303f7",
   "metadata": {},
   "outputs": [
    {
     "data": {
      "text/plain": [
       "User(id=34052126, avatarUrl=https://avatars.githubusercontent.com/u/34052126?v=4, name=Indra Mahkota, login=indramahkota, bio=Focus on developing android applications and having some knowledge of web frontend technologies.😊., followers=20, following=19, location=Pontianak, Indonesia, email=N/A)"
      ]
     },
     "execution_count": 52,
     "metadata": {},
     "output_type": "execute_result"
    }
   ],
   "source": [
    "val inDto = Gson().fromJson(indramahkota, UserDto::class.java)\n",
    "val inU = inDto.toUser()\n",
    "inU"
   ]
  },
  {
   "cell_type": "code",
   "execution_count": 58,
   "id": "575c70c7",
   "metadata": {},
   "outputs": [
    {
     "data": {
      "text/plain": [
       "[User(id=137, avatarUrl=https://avatars.githubusercontent.com/u/137?v=4, name=Joshua Peek, login=josh, bio=Biography not available, followers=2353, following=186, location=San Francisco, CA, email=N/A), User(id=54473, avatarUrl=https://avatars.githubusercontent.com/u/54473?v=4, name=Josh Long, login=joshlong, bio=Josh (@starbuxman) is the Spring Developer Advocate at VMware, an open-source hacker, book/video author and speaker, followers=7991, following=65, location=San Francisco, CA, email=N/A), User(id=6692932, avatarUrl=https://avatars.githubusercontent.com/u/6692932?v=4, name=Joshua Comeau, login=joshwcomeau, bio=Software developer.\r\n",
       "Makes stuff., followers=3683, following=25, location=Montreal, QC, email=N/A), User(id=13760, avatarUrl=https://avatars.githubusercontent.com/u/13760?v=4, name=Josh Abernathy, login=joshaber, bio=Biography not available, followers=2078, following=39, location=The Gem City, email=N/A), User(id=10632, avatarUrl=https://avatars.githubusercontent.com/u/10632?v=4, name=Josh Perez, login=goatslacker, bio=Biography not available, followers=797, following=127, location=Florida, email=N/A), User(id=3272748, avatarUrl=https://avatars.githubusercontent.com/u/3272748?v=4, name=Captain Pangyo, login=joshua1988, bio=Biography not available, followers=1233, following=125, location=South Korea, email=N/A), User(id=3231, avatarUrl=https://avatars.githubusercontent.com/u/3231?v=4, name=josh rotenberg, login=joshrotenberg, bio=hi, i'm josh., followers=45, following=83, location=albany, ca, email=N/A), User(id=3335181, avatarUrl=https://avatars.githubusercontent.com/u/3335181?v=4, name=Josh Goldberg, login=JoshuaKGoldberg, bio=staff web platform @Codecademy 💖✨ prev @microsoft  ✨ open source things ✨ @typescript contributor, @typescript-eslint maintainer, side of accessibility, followers=963, following=174, location=Brooklyn, NYC, email=N/A), User(id=162737, avatarUrl=https://avatars.githubusercontent.com/u/162737?v=4, name=Josh Triplett, login=joshtriplett, bio=Free and Open Source Software developer. @rust-lang developer and language team lead. he/him or they/them., followers=590, following=0, location=N/A, email=N/A), User(id=17594101, avatarUrl=https://avatars.githubusercontent.com/u/17594101?v=4, name=Josh, login=8ctopotamus, bio=Biography not available, followers=133, following=610, location=~, email=N/A)]"
      ]
     },
     "execution_count": 58,
     "metadata": {},
     "output_type": "execute_result"
    }
   ],
   "source": [
    "suspend fun searchUsers(params: Map<String, Any>): UserResponse? {\n",
    "    return try {\n",
    "        val response = service.searchUsers(params)\n",
    "        if(response.isSuccessful)\n",
    "            response.body()\n",
    "        else null\n",
    "    } catch (e: Exception) {\n",
    "        println(e.message ?: \"Unknown error\")\n",
    "        null\n",
    "    }\n",
    "}\n",
    "\n",
    "suspend fun getUser(username: String): UserDto? {\n",
    "    return try {\n",
    "        val response = service.getUser(username)\n",
    "        if(response.isSuccessful)\n",
    "            response.body()\n",
    "        else null\n",
    "    } catch (e: Exception) {\n",
    "        println(e.message ?: \"Unknown error\")\n",
    "        null\n",
    "    }\n",
    "}\n",
    "\n",
    "val listOfUser = mutableListOf<User>()\n",
    "val listUserDto = mutableListOf<UserDto>()\n",
    "\n",
    "fun searchUsersFunction() = runBlocking {\n",
    "    val response = searchUsers(mapOf(\"q\" to \"josh\", \"per_page\" to 10))\n",
    "    response?.items?.forEach {\n",
    "        val userDtoResponse = it.login?.let { username ->\n",
    "            getUser(username)\n",
    "        }\n",
    "        if (userDtoResponse != null) {\n",
    "            listUserDto.add(userDtoResponse)\n",
    "        }\n",
    "    }\n",
    "    listOfUser.addAll(listUserDto.toListUser())\n",
    "}\n",
    "\n",
    "searchUsersFunction()\n",
    "\n",
    "listOfUser"
   ]
  },
  {
   "cell_type": "code",
   "execution_count": 56,
   "id": "2b3af896",
   "metadata": {},
   "outputs": [
    {
     "name": "stdout",
     "output_type": "stream",
     "text": [
      "I(name=Saya)\r\n",
      "I(name=Gue)\r\n"
     ]
    }
   ],
   "source": [
    "// copy and override value\n",
    "\n",
    "data class I(\n",
    "    val name: String\n",
    ")\n",
    "\n",
    "val i = I(\"Saya\")\n",
    "val ii = i.copy(name = \"Gue\")\n",
    "\n",
    "println(i.toString())\n",
    "println(ii.toString())"
   ]
  }
 ],
 "metadata": {
  "kernelspec": {
   "display_name": "Kotlin",
   "language": "kotlin",
   "name": "kotlin"
  },
  "language_info": {
   "codemirror_mode": "text/x-kotlin",
   "file_extension": ".kt",
   "mimetype": "text/x-kotlin",
   "name": "kotlin",
   "nbconvert_exporter": "",
   "pygments_lexer": "kotlin",
   "version": "1.6.20-dev-6372"
  }
 },
 "nbformat": 4,
 "nbformat_minor": 5
}
