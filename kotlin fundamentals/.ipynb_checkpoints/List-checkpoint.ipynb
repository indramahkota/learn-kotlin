{
 "cells": [
  {
   "cell_type": "code",
   "execution_count": 60,
   "id": "89f85ee0",
   "metadata": {},
   "outputs": [
    {
     "data": {
      "text/plain": [
       "[Andi, Ani]"
      ]
     },
     "execution_count": 60,
     "metadata": {},
     "output_type": "execute_result"
    }
   ],
   "source": [
    "var users = listOf(\"Andi\", \"Ani\")\n",
    "users"
   ]
  },
  {
   "cell_type": "code",
   "execution_count": 63,
   "id": "702772a3",
   "metadata": {},
   "outputs": [],
   "source": [
    "users += \"Safwany\""
   ]
  },
  {
   "cell_type": "code",
   "execution_count": 62,
   "id": "47b3bc6e",
   "metadata": {},
   "outputs": [
    {
     "data": {
      "text/plain": [
       "[Andi, Ani, Safwany, Safwany]"
      ]
     },
     "execution_count": 62,
     "metadata": {},
     "output_type": "execute_result"
    }
   ],
   "source": [
    "// Returns a list containing all elements of the original collection and then the given element.\n",
    "users.plus(\"Safwany\")"
   ]
  }
 ],
 "metadata": {
  "kernelspec": {
   "display_name": "Kotlin",
   "language": "kotlin",
   "name": "kotlin"
  },
  "language_info": {
   "codemirror_mode": "text/x-kotlin",
   "file_extension": ".kt",
   "mimetype": "text/x-kotlin",
   "name": "kotlin",
   "nbconvert_exporter": "",
   "pygments_lexer": "kotlin",
   "version": "1.6.20-dev-6372"
  }
 },
 "nbformat": 4,
 "nbformat_minor": 5
}
