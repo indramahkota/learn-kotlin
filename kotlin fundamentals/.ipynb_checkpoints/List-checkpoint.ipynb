{
 "cells": [
  {
   "cell_type": "code",
   "execution_count": 70,
   "id": "89f85ee0",
   "metadata": {},
   "outputs": [
    {
     "data": {
      "text/plain": [
       "[Andi, Ani]"
      ]
     },
     "execution_count": 70,
     "metadata": {},
     "output_type": "execute_result"
    }
   ],
   "source": [
    "var users = listOf(\"Andi\", \"Ani\")\n",
    "users"
   ]
  },
  {
   "cell_type": "code",
   "execution_count": 68,
   "id": "702772a3",
   "metadata": {},
   "outputs": [],
   "source": [
    "users += \"Safwany\""
   ]
  },
  {
   "cell_type": "code",
   "execution_count": 71,
   "id": "47b3bc6e",
   "metadata": {},
   "outputs": [
    {
     "data": {
      "text/plain": [
       "[Andi, Ani, Safwany]"
      ]
     },
     "execution_count": 71,
     "metadata": {},
     "output_type": "execute_result"
    }
   ],
   "source": [
    "// Returns a list containing all elements of the original collection and then the given element.\n",
    "users.plus(\"Safwany\")"
   ]
  },
  {
   "cell_type": "code",
   "execution_count": 4,
   "id": "ef649ab9",
   "metadata": {},
   "outputs": [
    {
     "name": "stdout",
     "output_type": "stream",
     "text": [
      "Andi : false\r\n",
      "Safwany : true\r\n",
      "Ani : false\r\n"
     ]
    }
   ],
   "source": [
    "var users = listOf(\"Andi\", \"Safwany\", \"Ani\")\n",
    "var otherUsers = listOf(\"Raka\", \"Ana\", \"Safwany\")\n",
    "\n",
    "users.forEachIndexed { i, item ->\n",
    "    println(\"$item : \" + otherUsers.any { item == it })\n",
    "}"
   ]
  },
  {
   "cell_type": "code",
   "execution_count": 6,
   "id": "dfa925a6",
   "metadata": {},
   "outputs": [
    {
     "data": {
      "text/plain": [
       "true, true, false, true, true"
      ]
     },
     "execution_count": 6,
     "metadata": {},
     "output_type": "execute_result"
    }
   ],
   "source": [
    "val lis = listOf(\"1\", 2, null, 3, \"4\")\n",
    "lis.filter{it != null}.joinToString()"
   ]
  }
 ],
 "metadata": {
  "kernelspec": {
   "display_name": "Kotlin",
   "language": "kotlin",
   "name": "kotlin"
  },
  "language_info": {
   "codemirror_mode": "text/x-kotlin",
   "file_extension": ".kt",
   "mimetype": "text/x-kotlin",
   "name": "kotlin",
   "nbconvert_exporter": "",
   "pygments_lexer": "kotlin",
   "version": "1.6.20-dev-6372"
  }
 },
 "nbformat": 4,
 "nbformat_minor": 5
}
