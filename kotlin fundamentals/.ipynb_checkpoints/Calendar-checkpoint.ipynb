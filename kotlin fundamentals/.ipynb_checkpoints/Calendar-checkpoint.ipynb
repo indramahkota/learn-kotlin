{
 "cells": [
  {
   "cell_type": "code",
   "execution_count": 4,
   "id": "f87479d0",
   "metadata": {},
   "outputs": [],
   "source": [
    "import java.time.format.DateTimeFormatter\n",
    "import java.time.LocalDate\n",
    "import java.util.Calendar"
   ]
  },
  {
   "cell_type": "code",
   "execution_count": 5,
   "id": "8c48bbde",
   "metadata": {},
   "outputs": [
    {
     "data": {
      "text/plain": [
       "2012-01-31"
      ]
     },
     "execution_count": 5,
     "metadata": {},
     "output_type": "execute_result"
    }
   ],
   "source": [
    "val date = \"1/13/2012\"\n",
    "var convertedDate = LocalDate.parse(date, DateTimeFormatter.ofPattern(\"M/d/yyyy\"))\n",
    "convertedDate.withDayOfMonth(convertedDate.getMonth().length(convertedDate.isLeapYear()))"
   ]
  },
  {
   "cell_type": "code",
   "execution_count": 6,
   "id": "56f318eb",
   "metadata": {},
   "outputs": [
    {
     "data": {
      "text/plain": [
       "Tue Mar 03 12:29:54 ICT 2020"
      ]
     },
     "execution_count": 6,
     "metadata": {},
     "output_type": "execute_result"
    }
   ],
   "source": [
    "val calendar = Calendar.getInstance()\n",
    "calendar.set(2020, Calendar.FEBRUARY, 32)\n",
    "calendar.getTime()"
   ]
  },
  {
   "cell_type": "code",
   "execution_count": 7,
   "id": "77a983c7",
   "metadata": {},
   "outputs": [
    {
     "data": {
      "text/plain": [
       "30"
      ]
     },
     "execution_count": 7,
     "metadata": {},
     "output_type": "execute_result"
    }
   ],
   "source": [
    "val calendar = Calendar.getInstance()\n",
    "calendar.getActualMaximum(Calendar.DAY_OF_MONTH)"
   ]
  },
  {
   "cell_type": "code",
   "execution_count": 8,
   "id": "5f6c18e3",
   "metadata": {},
   "outputs": [
    {
     "data": {
      "text/plain": [
       "Mon Feb 28 12:29:54 ICT 2022"
      ]
     },
     "execution_count": 8,
     "metadata": {},
     "output_type": "execute_result"
    }
   ],
   "source": [
    "val calendar = Calendar.getInstance()\n",
    "calendar.set(2022, Calendar.MARCH, 1)\n",
    "calendar.add(Calendar.DATE, -1)\n",
    "calendar.getTime()"
   ]
  }
 ],
 "metadata": {
  "kernelspec": {
   "display_name": "Kotlin",
   "language": "kotlin",
   "name": "kotlin"
  },
  "language_info": {
   "codemirror_mode": "text/x-kotlin",
   "file_extension": ".kt",
   "mimetype": "text/x-kotlin",
   "name": "kotlin",
   "nbconvert_exporter": "",
   "pygments_lexer": "kotlin",
   "version": "1.6.20-dev-6372"
  }
 },
 "nbformat": 4,
 "nbformat_minor": 5
}
