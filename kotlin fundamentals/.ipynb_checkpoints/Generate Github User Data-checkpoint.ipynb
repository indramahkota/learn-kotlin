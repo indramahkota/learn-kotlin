{
 "cells": [
  {
   "cell_type": "code",
   "execution_count": 1,
   "id": "1ebc47ea",
   "metadata": {},
   "outputs": [],
   "source": [
    "// Using Library\n",
    "// println(java.nio.file.Paths.get(\"\").toAbsolutePath().toString())\n",
    "// %use @file[[DIR_PATH]/[LIB_NAME].json]"
   ]
  },
  {
   "cell_type": "code",
   "execution_count": 2,
   "id": "bdcd1d74",
   "metadata": {},
   "outputs": [],
   "source": [
    "@file:Repository(\"*mavenLocal\")\n",
    "@file:DependsOn(\"com.github.holgerbrandl:krangl:0.18.7\")\n",
    "\n",
    "// %use krangl\n",
    "\n",
    "%use coroutines\n",
    "\n",
    "%use @file[D:/Programming/Kotlin/learn-kotlin/dependencies/gson.json]\n",
    "%use @file[D:/Programming/Kotlin/learn-kotlin/dependencies/org_json.json]\n",
    "%use @file[D:/Programming/Kotlin/learn-kotlin/dependencies/retrofit.json]\n",
    "%use @file[D:/Programming/Kotlin/learn-kotlin/dependencies/retrofit_gson_converter.json]"
   ]
  },
  {
   "cell_type": "code",
   "execution_count": 3,
   "id": "0dee9a77",
   "metadata": {},
   "outputs": [],
   "source": [
    "import kotlinx.coroutines.flow.Flow\n",
    "import kotlinx.coroutines.flow.flow\n",
    "import kotlinx.coroutines.flow.MutableStateFlow\n",
    "import kotlinx.coroutines.flow.StateFlow\n",
    "import kotlinx.coroutines.flow.collect\n",
    "import kotlinx.coroutines.GlobalScope\n",
    "import kotlinx.coroutines.launch\n",
    "import okhttp3.ResponseBody\n",
    "import kotlin.reflect.KClass"
   ]
  },
  {
   "cell_type": "code",
   "execution_count": 4,
   "id": "e151e3e9",
   "metadata": {},
   "outputs": [],
   "source": [
    "data class SearchUser(\n",
    "    @SerializedName(\"incomplete_results\")\n",
    "    val incompleteResults: Boolean? = null,\n",
    "    @SerializedName(\"items\")\n",
    "    val items: List<User?>? = null,\n",
    "    @SerializedName(\"total_count\")\n",
    "    val totalCount: Int? = null\n",
    ")\n",
    "\n",
    "data class User(\n",
    "    @SerializedName(\"avatar_url\")\n",
    "    val avatarUrl: String? = null,\n",
    "    @SerializedName(\"bio\")\n",
    "    val bio: String? = null,\n",
    "    @SerializedName(\"blog\")\n",
    "    val blog: String? = null,\n",
    "    @SerializedName(\"company\")\n",
    "    val company: Any? = null,\n",
    "    @SerializedName(\"created_at\")\n",
    "    val createdAt: String? = null,\n",
    "    @SerializedName(\"email\")\n",
    "    val email: Any? = null,\n",
    "    @SerializedName(\"events_url\")\n",
    "    val eventsUrl: String? = null,\n",
    "    @SerializedName(\"followers\")\n",
    "    val followers: Int? = null,\n",
    "    @SerializedName(\"followers_url\")\n",
    "    val followersUrl: String? = null,\n",
    "    @SerializedName(\"following\")\n",
    "    val following: Int? = null,\n",
    "    @SerializedName(\"following_url\")\n",
    "    val followingUrl: String? = null,\n",
    "    @SerializedName(\"gists_url\")\n",
    "    val gistsUrl: String? = null,\n",
    "    @SerializedName(\"gravatar_id\")\n",
    "    val gravatarId: String? = null,\n",
    "    @SerializedName(\"hireable\")\n",
    "    val hireable: Boolean? = null,\n",
    "    @SerializedName(\"html_url\")\n",
    "    val htmlUrl: String? = null,\n",
    "    @SerializedName(\"id\")\n",
    "    val id: Int? = null,\n",
    "    @SerializedName(\"location\")\n",
    "    val location: String? = null,\n",
    "    @SerializedName(\"login\")\n",
    "    val login: String? = null,\n",
    "    @SerializedName(\"name\")\n",
    "    val name: String? = null,\n",
    "    @SerializedName(\"node_id\")\n",
    "    val nodeId: String? = null,\n",
    "    @SerializedName(\"organizations_url\")\n",
    "    val organizationsUrl: String? = null,\n",
    "    @SerializedName(\"public_gists\")\n",
    "    val publicGists: Int? = null,\n",
    "    @SerializedName(\"public_repos\")\n",
    "    val publicRepos: Int? = null,\n",
    "    @SerializedName(\"received_events_url\")\n",
    "    val receivedEventsUrl: String? = null,\n",
    "    @SerializedName(\"repos_url\")\n",
    "    val reposUrl: String? = null,\n",
    "    @SerializedName(\"site_admin\")\n",
    "    val siteAdmin: Boolean? = null,\n",
    "    @SerializedName(\"starred_url\")\n",
    "    val starredUrl: String? = null,\n",
    "    @SerializedName(\"subscriptions_url\")\n",
    "    val subscriptionsUrl: String? = null,\n",
    "    @SerializedName(\"twitter_username\")\n",
    "    val twitterUsername: Any? = null,\n",
    "    @SerializedName(\"type\")\n",
    "    val type: String? = null,\n",
    "    @SerializedName(\"updated_at\")\n",
    "    val updatedAt: String? = null,\n",
    "    @SerializedName(\"url\")\n",
    "    val url: String? = null\n",
    ")"
   ]
  },
  {
   "cell_type": "code",
   "execution_count": 5,
   "id": "ae3e1987",
   "metadata": {},
   "outputs": [],
   "source": [
    "interface GithubService {\n",
    "    @JvmSuppressWildcards\n",
    "    @GET(\"search/users\")\n",
    "    suspend fun searchUsers(\n",
    "        @QueryMap params: Map<String, Any>\n",
    "    ): Response<SearchUser>\n",
    "\n",
    "    @GET(\"users/{id}\")\n",
    "    suspend fun getUser(\n",
    "        @Path(\"id\") username: String\n",
    "    ): Response<User>\n",
    "}"
   ]
  },
  {
   "cell_type": "code",
   "execution_count": 6,
   "id": "fffa80ce",
   "metadata": {},
   "outputs": [],
   "source": [
    "val retrofit = Retrofit\n",
    "        .Builder().apply {\n",
    "            baseUrl(\"https://api.github.com/\")\n",
    "            addConverterFactory(GsonConverterFactory.create(GsonBuilder().create()))\n",
    "        }.build()\n",
    "        \n",
    "val service = retrofit.create(GithubService::class.java)"
   ]
  },
  {
   "cell_type": "code",
   "execution_count": 7,
   "id": "91a8f131",
   "metadata": {},
   "outputs": [],
   "source": [
    "val handler = CoroutineExceptionHandler { _, exception ->\n",
    "    println(\"CoroutineExceptionHandler got $exception with suppressed ${exception.suppressed.contentToString()}\")\n",
    "}"
   ]
  },
  {
   "cell_type": "code",
   "execution_count": 8,
   "id": "841981e1",
   "metadata": {},
   "outputs": [],
   "source": [
    "suspend fun searchUsers(params: Map<String, Any>): SearchUser? {\n",
    "    return try {\n",
    "        val response = service.searchUsers(params)\n",
    "        if(response.isSuccessful)\n",
    "            response.body()\n",
    "        else null\n",
    "    } catch (e: Exception) {\n",
    "        println(e.message ?: \"Unknown error\")\n",
    "        null\n",
    "    }\n",
    "}\n",
    "\n",
    "suspend fun getUser(username: String): User? {\n",
    "    return try {\n",
    "        val response = service.getUser(username)\n",
    "        if(response.isSuccessful)\n",
    "            response.body()\n",
    "        else null\n",
    "    } catch (e: Exception) {\n",
    "        println(e.message ?: \"Unknown error\")\n",
    "        null\n",
    "    }\n",
    "}"
   ]
  },
  {
   "cell_type": "code",
   "execution_count": 9,
   "id": "a9388acb",
   "metadata": {},
   "outputs": [],
   "source": [
    "// runBlocking {\n",
    "//     searchUsers(mapOf(\"q\" to \"indra\", \"page\" to 1, \"per_page\" to 10))\n",
    "// }"
   ]
  },
  {
   "cell_type": "code",
   "execution_count": 10,
   "id": "4512787f",
   "metadata": {
    "scrolled": false
   },
   "outputs": [
    {
     "name": "stdout",
     "output_type": "stream",
     "text": [
      "response : 10\n",
      "page : 1, counter : 9\n",
      "response : 5\n",
      "response : 5\n",
      "page : 2, counter : 7\n",
      "response : 0\n",
      "response : 0\n",
      "page : 3, counter : 5\n",
      "response : 0\n",
      "response : 0\n",
      "page : 4, counter : 3\n",
      "response : 0\n",
      "response : 0\n",
      "page : 5, counter : 1\n",
      "response : 0\n",
      "response : null\n"
     ]
    }
   ],
   "source": [
    "var page = 1\n",
    "var counter = 10\n",
    "val listOfUser = mutableListOf<User>()\n",
    "\n",
    "suspend fun collectUser(page: Int): Boolean {\n",
    "    val response = searchUsers(mapOf(\"q\" to \"indra android\", \"page\" to page, \"per_page\" to 10))\n",
    "    println(\"response : \" + response?.items?.size)\n",
    "    response?.items?.forEach {\n",
    "        it?.login?.let { username ->\n",
    "            delay(500)\n",
    "            getUser(username)\n",
    "        }?.let { listOfUser.add(it) }\n",
    "    }\n",
    "    counter--\n",
    "    return counter > 0\n",
    "}\n",
    "\n",
    "runBlocking {\n",
    "    while(collectUser(page)) {\n",
    "        println(\"page : \" + page.toString() + \", counter : \" + counter.toString())\n",
    "        page++\n",
    "        collectUser(page)\n",
    "    }\n",
    "}"
   ]
  },
  {
   "cell_type": "code",
   "execution_count": 17,
   "id": "e574ca3c",
   "metadata": {},
   "outputs": [
    {
     "data": {
      "text/html": [
       "<html><body><table><tr><th style=\"text-align:left\">No</th><th style=\"text-align:left\">Name</th><th style=\"text-align:left\">followers</th><th style=\"text-align:left\">bio</th><th style=\"text-align:left\">login</th></tr><tr><td style=\"text-align:left\" title=\"1\">1</td><td style=\"text-align:left\" title=\"Indra Mahkota\">Indra Mahkota</td><td style=\"text-align:left\" title=\"23\">23</td><td style=\"text-align:left\" title=\"Android Engineer\">Android Engineer</td><td style=\"text-align:left\" title=\"indramahkota\">indramahkota</td></tr><tr><td style=\"text-align:left\" title=\"2\">2</td><td style=\"text-align:left\" title=\"Mochamad Indra Yudha Lakaselindra\">Mochamad Indra Yudha Lakaselindra</td><td style=\"text-align:left\" title=\"8\">8</td><td style=\"text-align:left\" title=\"Android and Game Programmer\">Android and Game Programmer</td><td style=\"text-align:left\" title=\"IndraYudha22\">IndraYudha22</td></tr><tr><td style=\"text-align:left\" title=\"3\">3</td><td style=\"text-align:left\" title=\"Galih Indra Firmansyah\">Galih Indra Firmansyah</td><td style=\"text-align:left\" title=\"21\">21</td><td style=\"text-align:left\" title=\"Android Development Enthusiasts || Google Certified AAD || Software Engineering Student\">Android Development Enthusiasts || Google Certi...</td><td style=\"text-align:left\" title=\"galihif\">galihif</td></tr><tr><td style=\"text-align:left\" title=\"4\">4</td><td style=\"text-align:left\" title=\"Indra Deva Aji Zakaria\">Indra Deva Aji Zakaria</td><td style=\"text-align:left\" title=\"12\">12</td><td style=\"text-align:left\" title=\"Informatics '19 Telkom University,\r\n",
       "Android Flutter Developer, UI/UX Designer\">Informatics '19 Telkom University,\r\n",
       "Android Flu...</td><td style=\"text-align:left\" title=\"indrad373\">indrad373</td></tr><tr><td style=\"text-align:left\" title=\"5\">5</td><td style=\"text-align:left\" title=\"Indranil Chatterjee\">Indranil Chatterjee</td><td style=\"text-align:left\" title=\"5\">5</td><td style=\"text-align:left\" title=\"Android Developer and ML enthusiast.\">Android Developer and ML enthusiast.</td><td style=\"text-align:left\" title=\"indracs7\">indracs7</td></tr><tr><td style=\"text-align:left\" title=\"6\">6</td><td style=\"text-align:left\" title=\"Indrajit Sarkar\">Indrajit Sarkar</td><td style=\"text-align:left\" title=\"2\">2</td><td style=\"text-align:left\" title=\"Just Started learning Android & Web ;-;\">Just Started learning Android & Web ;-;</td><td style=\"text-align:left\" title=\"indraskr9\">indraskr9</td></tr><tr><td style=\"text-align:left\" title=\"7\">7</td><td style=\"text-align:left\" title=\"Indra David\">Indra David</td><td style=\"text-align:left\" title=\"6\">6</td><td style=\"text-align:left\" title=\"Just interest with programming like web and android and always learn about language programming especially PHP, Javascript, Dart, Java, Kotlin, C#, C++.\">Just interest with programming like web and and...</td><td style=\"text-align:left\" title=\"ndraa124\">ndraa124</td></tr><tr><td style=\"text-align:left\" title=\"8\">8</td><td style=\"text-align:left\" title=\"Indravardhan Reddy M\">Indravardhan Reddy M</td><td style=\"text-align:left\" title=\"0\">0</td><td style=\"text-align:left\" title=\"Android ||\r\n",
       "Machine learning || Web Development\r\n",
       "\">Android ||\r\n",
       "Machine learning || Web Development\r\n",
       "</td><td style=\"text-align:left\" title=\"indravardhanreddy\">indravardhanreddy</td></tr><tr><td style=\"text-align:left\" title=\"9\">9</td><td style=\"text-align:left\" title=\"Indra Pradana A\">Indra Pradana A</td><td style=\"text-align:left\" title=\"3\">3</td><td style=\"text-align:left\" title=\"interest : android dev, web dev\">interest : android dev, web dev</td><td style=\"text-align:left\" title=\"iPradana\">iPradana</td></tr><tr><td style=\"text-align:left\" title=\"10\">10</td><td style=\"text-align:left\" title=\"Indrajit\">Indrajit</td><td style=\"text-align:left\" title=\"0\">0</td><td style=\"text-align:left\" title=\"Having worked for 12+ years in the industry, I have valuable experience in Android|Python|Machine Learning & Deep Learning practitioner.\r\n",
       "\r\n",
       "\">Having worked for 12+ years in the industry, I ...</td><td style=\"text-align:left\" title=\"indrajitkumar\">indrajitkumar</td></tr><tr><td style=\"text-align:left\" title=\"11\">11</td><td style=\"text-align:left\" title=\"Indra Prajapati\">Indra Prajapati</td><td style=\"text-align:left\" title=\"0\">0</td><td style=\"text-align:left\" title=\"I am an Android Developer.\">I am an Android Developer.</td><td style=\"text-align:left\" title=\"arthur3133\">arthur3133</td></tr><tr><td style=\"text-align:left\" title=\"12\">12</td><td style=\"text-align:left\" title=\"Indra Dutt\">Indra Dutt</td><td style=\"text-align:left\" title=\"0\">0</td><td style=\"text-align:left\" title=\"Android Developer\">Android Developer</td><td style=\"text-align:left\" title=\"indradutt\">indradutt</td></tr><tr><td style=\"text-align:left\" title=\"13\">13</td><td style=\"text-align:left\" title=\"Indra Hedar\">Indra Hedar</td><td style=\"text-align:left\" title=\"0\">0</td><td style=\"text-align:left\" title=\"Backend Developer, Android Developer\">Backend Developer, Android Developer</td><td style=\"text-align:left\" title=\"indrahedar\">indrahedar</td></tr><tr><td style=\"text-align:left\" title=\"14\">14</td><td style=\"text-align:left\" title=\"indras\">indras</td><td style=\"text-align:left\" title=\"0\">0</td><td style=\"text-align:left\" title=\"Android Developer\">Android Developer</td><td style=\"text-align:left\" title=\"indrasan99\">indrasan99</td></tr><tr><td style=\"text-align:left\" title=\"15\">15</td><td style=\"text-align:left\" title=\"INDRA YUSRIANTO PUTRA \">INDRA YUSRIANTO PUTRA </td><td style=\"text-align:left\" title=\"0\">0</td><td style=\"text-align:left\" title=\"web & android developer \">web & android developer </td><td style=\"text-align:left\" title=\"indrayusriantoputra\">indrayusriantoputra</td></tr><tr><td style=\"text-align:left\" title=\"16\">16</td><td style=\"text-align:left\" title=\"Indra Prajapati\">Indra Prajapati</td><td style=\"text-align:left\" title=\"0\">0</td><td style=\"text-align:left\" title=\"I am an Android Developer.\">I am an Android Developer.</td><td style=\"text-align:left\" title=\"arthur3133\">arthur3133</td></tr><tr><td style=\"text-align:left\" title=\"17\">17</td><td style=\"text-align:left\" title=\"Indra Dutt\">Indra Dutt</td><td style=\"text-align:left\" title=\"0\">0</td><td style=\"text-align:left\" title=\"Android Developer\">Android Developer</td><td style=\"text-align:left\" title=\"indradutt\">indradutt</td></tr><tr><td style=\"text-align:left\" title=\"18\">18</td><td style=\"text-align:left\" title=\"Indra Hedar\">Indra Hedar</td><td style=\"text-align:left\" title=\"0\">0</td><td style=\"text-align:left\" title=\"Backend Developer, Android Developer\">Backend Developer, Android Developer</td><td style=\"text-align:left\" title=\"indrahedar\">indrahedar</td></tr><tr><td style=\"text-align:left\" title=\"19\">19</td><td style=\"text-align:left\" title=\"indras\">indras</td><td style=\"text-align:left\" title=\"0\">0</td><td style=\"text-align:left\" title=\"Android Developer\">Android Developer</td><td style=\"text-align:left\" title=\"indrasan99\">indrasan99</td></tr><tr><td style=\"text-align:left\" title=\"20\">20</td><td style=\"text-align:left\" title=\"INDRA YUSRIANTO PUTRA \">INDRA YUSRIANTO PUTRA </td><td style=\"text-align:left\" title=\"0\">0</td><td style=\"text-align:left\" title=\"web & android developer \">web & android developer </td><td style=\"text-align:left\" title=\"indrayusriantoputra\">indrayusriantoputra</td></tr><p>Shape: 20 x 5. \n",
       "</p></table></body></html>"
      ]
     },
     "execution_count": 17,
     "metadata": {},
     "output_type": "execute_result"
    }
   ],
   "source": [
    "listOfUser.asDataFrame()\n",
    "    .addColumn(\"No\") { it.rowNumber }\n",
    "    .rename(\"name\" to \"Name\")\n",
    "    .select(\"No\", \"Name\", \"followers\", \"bio\", \"login\", \"location\")\n",
    "    .showRows()"
   ]
  }
 ],
 "metadata": {
  "kernelspec": {
   "display_name": "Kotlin",
   "language": "kotlin",
   "name": "kotlin"
  },
  "language_info": {
   "codemirror_mode": "text/x-kotlin",
   "file_extension": ".kt",
   "mimetype": "text/x-kotlin",
   "name": "kotlin",
   "nbconvert_exporter": "",
   "pygments_lexer": "kotlin",
   "version": "1.6.20-dev-6372"
  }
 },
 "nbformat": 4,
 "nbformat_minor": 5
}
