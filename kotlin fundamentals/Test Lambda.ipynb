{
 "cells": [
  {
   "cell_type": "code",
   "execution_count": 13,
   "id": "850a3f5a",
   "metadata": {},
   "outputs": [
    {
     "data": {
      "text/plain": [
       "https://github.com/indramahkota/android-exploration"
      ]
     },
     "execution_count": 13,
     "metadata": {},
     "output_type": "execute_result"
    }
   ],
   "source": [
    "data class GithubProject(\n",
    "    var owner: String,\n",
    "    var repository: String,\n",
    ") {\n",
    "    init {\n",
    "        require(owner.isNotEmpty()) { \"Name is blank\" }\n",
    "    }\n",
    "    \n",
    "    val url: String\n",
    "        get() = \"https://github.com/$owner/$repository\"\n",
    "}\n",
    "\n",
    "GithubProject(\"indramahkota\", \"android-exploration\").url"
   ]
  },
  {
   "cell_type": "code",
   "execution_count": 14,
   "id": "3f78bc59",
   "metadata": {},
   "outputs": [
    {
     "name": "stdout",
     "output_type": "stream",
     "text": [
      "https://github.com//mahkota\r\n"
     ]
    }
   ],
   "source": [
    "fun String.setGitHubProject(\n",
    "    action: GithubProject.() -> Unit = {}\n",
    ") {\n",
    "    val gitHubUrl = GithubProject(\"a\", \"b\").apply {\n",
    "        action()\n",
    "    }.url\n",
    "    \n",
    "    println(gitHubUrl)\n",
    "}\n",
    "\n",
    "\"\".setGitHubProject {\n",
    "    owner = \"\"\n",
    "    repository = \"mahkota\"\n",
    "}"
   ]
  },
  {
   "cell_type": "code",
   "execution_count": 17,
   "id": "50aaa887",
   "metadata": {},
   "outputs": [
    {
     "data": {
      "text/plain": [
       "Line_258_jupyter$Request@6aed22"
      ]
     },
     "execution_count": 17,
     "metadata": {},
     "output_type": "execute_result"
    }
   ],
   "source": [
    "fun request(init: Request.() -> Unit): Request {\n",
    "    val request = Request()\n",
    "    request.init()\n",
    "    return request\n",
    "}\n",
    "\n",
    "class Request {\n",
    "    var url: String? = null\n",
    "    var method: String? = null\n",
    "    var headers: MutableMap<String, String> = mutableMapOf()\n",
    "\n",
    "    fun header(name: String, value: String) {\n",
    "        headers[name] = value\n",
    "    }\n",
    "}\n",
    "\n",
    "val myRequest = request {\n",
    "    url = \"https://example.com/api\"\n",
    "    method = \"GET\"\n",
    "    header(\"Authorization\", \"Bearer myToken\")\n",
    "}\n",
    "\n",
    "myRequest"
   ]
  },
  {
   "cell_type": "code",
   "execution_count": 31,
   "id": "8d9835b1",
   "metadata": {},
   "outputs": [
    {
     "name": "stdout",
     "output_type": "stream",
     "text": [
      "https://github.com/indramahkota/android-exploration\n",
      "scm:git:git://github.com/indramahkota/android-exploration.git\n",
      "scm:git:ssh://git@github.com:indramahkota/android-exploration.git\n"
     ]
    }
   ],
   "source": [
    "private val GIT = \"scm:git:git://\"\n",
    "private val SSH = \"scm:git:ssh://git@\"\n",
    "private val HTTPS = \"https://\"\n",
    "private val GITHUB_DOMAIN = \"github.com\"\n",
    "\n",
    "\n",
    "fun isUrlValid(url: String): Boolean {\n",
    "    val regex = Regex(\"^(https?|ftp)://[a-zA-Z0-9]+([\\\\-.][a-zA-Z0-9]+)*\\\\.[a-zA-Z]{2,}(:(\\\\d){1,5})?([/?#].*)?\\$\")\n",
    "    return regex.matches(url)\n",
    "}\n",
    "\n",
    "data class GithubProject(\n",
    "    var owner: String? = null,\n",
    "    var repository: String? = null,\n",
    ") {\n",
    "    val url: String\n",
    "        get() = \"$HTTPS$GITHUB_DOMAIN/$owner/$repository\"\n",
    "\n",
    "    val ssh: String\n",
    "        get() = \"$SSH$GITHUB_DOMAIN:$owner/$repository.git\"\n",
    "\n",
    "    val git: String\n",
    "        get() = \"$GIT$GITHUB_DOMAIN/$owner/$repository.git\"\n",
    "}\n",
    "\n",
    "fun setGitHubProject(\n",
    "    action: GithubProject.() -> Unit\n",
    ") {\n",
    "    val githubProject = GithubProject().apply {\n",
    "        action()\n",
    "    }\n",
    "    \n",
    "    require(!githubProject.owner.isNullOrEmpty()) {\n",
    "        \"GitHub project owner must be set\"\n",
    "    }\n",
    "\n",
    "    require(!githubProject.repository.isNullOrEmpty()) {\n",
    "        \"GitHub project repository must be set\"\n",
    "    }\n",
    "    \n",
    "    println(githubProject.url)\n",
    "    println(githubProject.git)\n",
    "    println(githubProject.ssh)\n",
    "}\n",
    "\n",
    "setGitHubProject {\n",
    "    owner = \"indramahkota\"\n",
    "    repository = \"android-exploration\"\n",
    "}"
   ]
  }
 ],
 "metadata": {
  "kernelspec": {
   "display_name": "Kotlin",
   "language": "kotlin",
   "name": "kotlin"
  },
  "language_info": {
   "codemirror_mode": "text/x-kotlin",
   "file_extension": ".kt",
   "mimetype": "text/x-kotlin",
   "name": "kotlin",
   "nbconvert_exporter": "",
   "pygments_lexer": "kotlin",
   "version": "1.8.0-RC"
  }
 },
 "nbformat": 4,
 "nbformat_minor": 5
}
