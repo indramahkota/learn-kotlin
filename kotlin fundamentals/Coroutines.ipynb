{
 "cells": [
  {
   "cell_type": "code",
   "execution_count": 67,
   "id": "d3b17776",
   "metadata": {},
   "outputs": [],
   "source": [
    "%use coroutines\n",
    "\n",
    "import kotlinx.coroutines.flow.Flow\n",
    "import kotlinx.coroutines.flow.flow\n",
    "import kotlinx.coroutines.flow.MutableStateFlow\n",
    "import kotlinx.coroutines.flow.StateFlow\n",
    "import kotlinx.coroutines.flow.collect\n",
    "import kotlinx.coroutines.GlobalScope\n",
    "import kotlinx.coroutines.launch"
   ]
  },
  {
   "cell_type": "code",
   "execution_count": 2,
   "id": "4b45afbc",
   "metadata": {},
   "outputs": [
    {
     "name": "stdout",
     "output_type": "stream",
     "text": [
      "Hello\n",
      "World!\n",
      "Lots of code\n",
      "Done 1033 ms\n"
     ]
    }
   ],
   "source": [
    "import java.time.Instant\n",
    "\n",
    "inline fun time(action: () -> Unit): Long {\n",
    "    val start = Instant.now().toEpochMilli()\n",
    "    action()\n",
    "    return Instant.now().toEpochMilli() - start\n",
    "}\n",
    "\n",
    "suspend fun doWorld() = coroutineScope {  // this: CoroutineScope\n",
    "    launch {\n",
    "        delay(1010L)\n",
    "        println(\"World!\")\n",
    "    }\n",
    "    println(\"Hello\")\n",
    "}\n",
    "\n",
    "fun main() = runBlocking {\n",
    "    val t = time {\n",
    "        doWorld()\n",
    "        println(\"Lots of code\")\n",
    "    }\n",
    "    println(\"Done $t ms\")\n",
    "}\n",
    "\n",
    "main()"
   ]
  },
  {
   "cell_type": "code",
   "execution_count": 68,
   "id": "3211ec77",
   "metadata": {},
   "outputs": [
    {
     "name": "stdout",
     "output_type": "stream",
     "text": [
      "first: 3\r\n"
     ]
    },
    {
     "data": {
      "text/plain": [
       "StandaloneCoroutine{Active}@4e904fd5"
      ]
     },
     "execution_count": 68,
     "metadata": {},
     "output_type": "execute_result"
    }
   ],
   "source": [
    "val _stateFlow = MutableStateFlow<Int>(0)\n",
    "val stateFlow: StateFlow<Int> = _stateFlow\n",
    "\n",
    "fun stateFlowEmitterValue() : Flow<Int> = flow {\n",
    "    emit(1)\n",
    "    emit(2)\n",
    "    emit(3)\n",
    "}\n",
    "\n",
    "fun runTest() = GlobalScope.launch {\n",
    "    stateFlowEmitterValue().collect {\n",
    "        _stateFlow.emit(it)\n",
    "    }\n",
    "    \n",
    "    stateFlow.collect {\n",
    "        println(\"first: $it\")\n",
    "    }\n",
    "    \n",
    "    this.cancel()\n",
    "}\n",
    "\n",
    "runTest()"
   ]
  },
  {
   "cell_type": "code",
   "execution_count": 69,
   "id": "f6cb9c0d",
   "metadata": {},
   "outputs": [
    {
     "name": "stdout",
     "output_type": "stream",
     "text": [
      "first: 5\r\n",
      "second: 5\r\n"
     ]
    },
    {
     "data": {
      "text/plain": [
       "StandaloneCoroutine{Active}@4cbf4f53"
      ]
     },
     "execution_count": 69,
     "metadata": {},
     "output_type": "execute_result"
    }
   ],
   "source": [
    "fun runTest2() = GlobalScope.launch {\n",
    "    _stateFlow.emit(5)\n",
    "    \n",
    "    stateFlow.collectLatest {\n",
    "        println(\"second: $it\")\n",
    "    }\n",
    "}\n",
    "\n",
    "runTest2()"
   ]
  },
  {
   "cell_type": "code",
   "execution_count": 70,
   "id": "6875b30c",
   "metadata": {},
   "outputs": [
    {
     "name": "stdout",
     "output_type": "stream",
     "text": [
      "first: 8\r\n",
      "second: 8\r\n",
      "third: 8\r\n"
     ]
    },
    {
     "data": {
      "text/plain": [
       "StandaloneCoroutine{Active}@15dd5ac2"
      ]
     },
     "execution_count": 70,
     "metadata": {},
     "output_type": "execute_result"
    }
   ],
   "source": [
    "fun stateFlowEmitterValue2() : Flow<Int> = flow {\n",
    "    emit(6)\n",
    "    emit(7)\n",
    "    emit(8)\n",
    "}\n",
    "\n",
    "fun runTest3() = GlobalScope.launch {\n",
    "    stateFlowEmitterValue2().collect {\n",
    "        _stateFlow.emit(it)\n",
    "    }\n",
    "    \n",
    "    stateFlow.collectLatest {\n",
    "        println(\"third: $it\")\n",
    "    }\n",
    "}\n",
    "\n",
    "runTest3()"
   ]
  },
  {
   "cell_type": "code",
   "execution_count": 98,
   "id": "930bc56a",
   "metadata": {},
   "outputs": [
    {
     "name": "stdout",
     "output_type": "stream",
     "text": [
      "second: 4\r\n",
      "emit: 4\r\n",
      "second: 5\r\n",
      "emit: 5\r\n",
      "second: 6\r\n",
      "emit: 6\r\n"
     ]
    },
    {
     "data": {
      "text/plain": [
       "StandaloneCoroutine{Active}@1b29d52b"
      ]
     },
     "execution_count": 98,
     "metadata": {},
     "output_type": "execute_result"
    }
   ],
   "source": [
    "val _sharedFlow = MutableSharedFlow<Int>()\n",
    "val sharedFlow = _sharedFlow.asSharedFlow()\n",
    "\n",
    "fun sharedFlowmitterValue() : Flow<Int> = flow {\n",
    "    emit(4)\n",
    "    emit(5)\n",
    "    emit(6)\n",
    "}\n",
    "\n",
    "fun runTest4() = GlobalScope.launch {\n",
    "    sharedFlowmitterValue().collect {\n",
    "        _sharedFlow.emit(it)\n",
    "        println(\"emit: $it\")\n",
    "    }\n",
    "    \n",
    "    sharedFlow.collectLatest {\n",
    "        println(\"first: $it\")\n",
    "    }\n",
    "}\n",
    "\n",
    "fun runTest5() = GlobalScope.launch {\n",
    "    sharedFlow.collectLatest {\n",
    "        println(\"second: $it\")\n",
    "    }\n",
    "}\n",
    "\n",
    "runTest4()\n",
    "runTest5()"
   ]
  },
  {
   "cell_type": "code",
   "execution_count": 94,
   "id": "a73d147b",
   "metadata": {},
   "outputs": [
    {
     "data": {
      "text/plain": [
       "StandaloneCoroutine{Active}@69d6a7cd"
      ]
     },
     "execution_count": 94,
     "metadata": {},
     "output_type": "execute_result"
    }
   ],
   "source": [
    "fun runTest6() = GlobalScope.launch {\n",
    "    sharedFlow.collectLatest {\n",
    "        println(\"second: $it\")\n",
    "    }\n",
    "}\n",
    "\n",
    "runTest6()"
   ]
  }
 ],
 "metadata": {
  "kernelspec": {
   "display_name": "Kotlin",
   "language": "kotlin",
   "name": "kotlin"
  },
  "language_info": {
   "codemirror_mode": "text/x-kotlin",
   "file_extension": ".kt",
   "mimetype": "text/x-kotlin",
   "name": "kotlin",
   "nbconvert_exporter": "",
   "pygments_lexer": "kotlin",
   "version": "1.6.20-dev-6372"
  }
 },
 "nbformat": 4,
 "nbformat_minor": 5
}
