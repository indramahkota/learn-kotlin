{
 "cells": [
  {
   "cell_type": "code",
   "execution_count": 1,
   "id": "5a93de56",
   "metadata": {},
   "outputs": [],
   "source": [
    "%use coroutines"
   ]
  },
  {
   "cell_type": "code",
   "execution_count": 17,
   "id": "29c61883",
   "metadata": {},
   "outputs": [],
   "source": [
    "// Java\n",
    "import java.util.Base64\n",
    "import javax.crypto.Cipher\n",
    "import javax.crypto.SecretKeyFactory\n",
    "import javax.crypto.spec.PBEKeySpec\n",
    "import javax.crypto.spec.PBEParameterSpec\n",
    "\n",
    "// Kotlin\n",
    "import kotlin.random.Random\n",
    "import kotlin.properties.Delegates"
   ]
  },
  {
   "cell_type": "code",
   "execution_count": 3,
   "id": "161837fa",
   "metadata": {},
   "outputs": [
    {
     "name": "stdout",
     "output_type": "stream",
     "text": [
      "Hello world 1233  \r\n"
     ]
    }
   ],
   "source": [
    "var str = \"Hello !!!😎world @1233*@@():)👌👌👌 ] [\"\n",
    "\n",
    "// [^ ... ]  Match any character that is not in the set.\n",
    "// Matches a character in the range \"A\" to \"Z\" (char code 65 to 90). Case sensitive.\n",
    "// Matches a character in the range \"a\" to \"z\" (char code 97 to 122). Case sensitive.\n",
    "// Matches a character in the range \"0\" to \"9\" (char code 48 to 57). Case sensitive.\n",
    "// Matches a SPACE character (char code 32). \n",
    "\n",
    "val re = \"[^A-Za-z0-9 ]\".toRegex()\n",
    "str = re.replace(str, \"\")\n",
    "\n",
    "println(str)"
   ]
  },
  {
   "cell_type": "code",
   "execution_count": 4,
   "id": "c07e4838",
   "metadata": {},
   "outputs": [
    {
     "name": "stdout",
     "output_type": "stream",
     "text": [
      "A B C D E F G H I J K L M N O P Q R S T U V W X Y Z [ \\ ] ^ _ ` a b c d e f g h i j k l m n o p q r s t u v w x y z "
     ]
    }
   ],
   "source": [
    "var c: Char\n",
    "\n",
    "c = 'A'\n",
    "while (c <= 'z') {\n",
    "    print(\"$c \")\n",
    "    ++c\n",
    "}"
   ]
  },
  {
   "cell_type": "code",
   "execution_count": 5,
   "id": "7a0f2334",
   "metadata": {},
   "outputs": [
    {
     "name": "stdout",
     "output_type": "stream",
     "text": [
      "Kotlin\r\n"
     ]
    }
   ],
   "source": [
    "val bytes = byteArrayOf(75, 111, 116, 108, 105, 110)\n",
    "\n",
    "val string = String(bytes)\n",
    "\n",
    "println(string)"
   ]
  },
  {
   "cell_type": "code",
   "execution_count": 6,
   "id": "4d8a3998",
   "metadata": {},
   "outputs": [
    {
     "name": "stdout",
     "output_type": "stream",
     "text": [
      "[a, b, c, d, e, f, g, h, i, j, k, l, m, n, o, p, q, r, s, t, u, v, w, x, y, z, A, B, C, D, E, F, G, H, I, J, K, L, M, N, O, P, Q, R, S, T, U, V, W, X, Y, Z, 0, 1, 2, 3, 4, 5, 6, 7, 8, 9]\n",
      "n0Yk0mzF2AMIGLznFaOAnMBSKV0MML9RBBqfR657ePIWS1vOaGpdFjnW5PXsRy8F\n"
     ]
    }
   ],
   "source": [
    "val chars = ('a'..'z') + ('A'..'Z') + ('0'..'9')\n",
    "fun randomID(length: Int = 64): String = List(length) { chars.random() }.joinToString(\"\")\n",
    "\n",
    "println(chars);\n",
    "println(randomID())"
   ]
  },
  {
   "cell_type": "code",
   "execution_count": 7,
   "id": "b45845d9",
   "metadata": {
    "scrolled": true
   },
   "outputs": [
    {
     "name": "stdout",
     "output_type": "stream",
     "text": [
      "initial value: 8hzkacRk6DveyRzPsgMQpFTHMLDs9MQNKNtjp6qD0iV1TwjjJQSRpiSrmtSB1Xkm\n",
      "\n",
      "salt: oPfNYnr2\n",
      "secret code: xNkQXElJAnk9PKqVYhbvtPHO6LP7rB9CTsGwvFrde90YZ5yJs9k3y0ghVhX4piX6\n",
      "\n",
      "encrypted: slRiOAA5/thBYaPhQ/kYE66LK3ctWGwPd5hYROOTuh/w8QP3DBwy+3EFwWHFoa7ia6dB67vPj3vq5MSHUIgcVaeHVeA8EDFZ\n",
      "\n",
      "decrypted: 8hzkacRk6DveyRzPsgMQpFTHMLDs9MQNKNtjp6qD0iV1TwjjJQSRpiSrmtSB1Xkm\n",
      "\n",
      "is value equal: true\n"
     ]
    }
   ],
   "source": [
    "// https://stackoverflow.com/questions/54143361/what-is-pbewithmd5anddes\n",
    "// https://gist.github.com/rohitshampur/da5f79c34260150aafc1\n",
    "// https://www.bezkoder.com/kotlin-base64/\n",
    "\n",
    "val secretCode = randomID().toCharArray()\n",
    "val salt = List(8) { chars.random() }.joinToString(\"\").toByteArray() // Salt must be 8 bytes long\n",
    "\n",
    "fun encrypt(value: String?): String {\n",
    "    val strBytes = value?.toByteArray()\n",
    "    val keyFactory = SecretKeyFactory.getInstance(\"PBEWithMD5AndDES\")\n",
    "    val key = keyFactory.generateSecret(PBEKeySpec(secretCode))\n",
    "    val cipher = Cipher.getInstance(\"PBEWithMD5AndDES\").also {\n",
    "        it.init(\n",
    "            Cipher.ENCRYPT_MODE, key,\n",
    "            PBEParameterSpec(\n",
    "                salt, 20\n",
    "            )\n",
    "        )\n",
    "    }\n",
    "    // println(String(cipher.doFinal(strBytes)))\n",
    "    // println()\n",
    "    return Base64.getEncoder().withoutPadding().encodeToString(cipher.doFinal(strBytes))\n",
    "}\n",
    "\n",
    "fun decode(value: String?): ByteArray {\n",
    "    val decodedBytes = Base64.getDecoder().decode(value)\n",
    "    return decodedBytes\n",
    "}\n",
    "\n",
    "fun decrypt(value: String?): String {\n",
    "    val strBytes = decode(value)\n",
    "    val keyFactory = SecretKeyFactory.getInstance(\"PBEWithMD5AndDES\")\n",
    "    val key = keyFactory.generateSecret(PBEKeySpec(secretCode))\n",
    "    val cipher = Cipher.getInstance(\"PBEWithMD5AndDES\")\n",
    "    cipher.init(\n",
    "        Cipher.DECRYPT_MODE, key,\n",
    "        PBEParameterSpec(\n",
    "            salt, 20\n",
    "        )\n",
    "    )\n",
    "    return String(cipher.doFinal(strBytes), Charsets.UTF_8)\n",
    "}\n",
    "\n",
    "val stringToEncode = randomID()\n",
    "val encryptedString = encrypt(stringToEncode)\n",
    "val decryptedString = decrypt(encryptedString)\n",
    "\n",
    "println(\"initial value: $stringToEncode\")\n",
    "println()\n",
    "println(\"salt: ${String(salt)}\")\n",
    "println(\"secret code: ${String(secretCode)}\")\n",
    "println()\n",
    "println(\"encrypted: $encryptedString\")\n",
    "// println(String(decode(encryptedString)))\n",
    "println()\n",
    "println(\"decrypted: $decryptedString\")\n",
    "println()\n",
    "println(\"is value equal: ${stringToEncode == decryptedString}\")"
   ]
  },
  {
   "cell_type": "code",
   "execution_count": 8,
   "id": "f88d91c8",
   "metadata": {},
   "outputs": [
    {
     "name": "stdout",
     "output_type": "stream",
     "text": [
      "encrypted: iqZBDm/WhafX8ANrpKY5whdJM6hw7ZKwEqJEE/X5ywqZ2Z3Ka3sbpIqsMsB1r06e4IqbfX1da6rDnfVfPJSwXh8Sbljkk3pe\n",
      "\n",
      "decrypted: 1DPXYMIBgAHj5wKHKvukspugkxY2tAcKfbS4I2zU4NMVUcieGV5d6F5fmF4iMbQu\n",
      "Done 35 ms\n"
     ]
    }
   ],
   "source": [
    "import java.time.Instant\n",
    "\n",
    "inline fun time(action: () -> Unit): Long {\n",
    "    val start = Instant.now().toEpochMilli()\n",
    "    action()\n",
    "    return Instant.now().toEpochMilli() - start\n",
    "}\n",
    "\n",
    "suspend fun doWork() = coroutineScope {\n",
    "    launch {\n",
    "        val stringToEncode = randomID(64)\n",
    "        val encryptedString = encrypt(stringToEncode)\n",
    "        val decryptedString = decrypt(encryptedString)\n",
    "        \n",
    "        println(\"encrypted: $encryptedString\")\n",
    "        println()\n",
    "        println(\"decrypted: $decryptedString\")\n",
    "    }\n",
    "}\n",
    "\n",
    "fun main() = runBlocking {\n",
    "    val t = time {\n",
    "        doWork()\n",
    "    }\n",
    "    println(\"Done $t ms\")\n",
    "}\n",
    "\n",
    "main()"
   ]
  },
  {
   "cell_type": "markdown",
   "id": "252fb6f9",
   "metadata": {},
   "source": [
    "https://cyware.com/news/exploring-the-differences-between-symmetric-and-asymmetric-encryption-8de86e8a\n",
    "\n",
    "The basic difference between these two types of encryption is that symmetric encryption uses one key for both encryption and decryption, and the asymmetric encryption uses public key for encryption and a private key for decryption.\n",
    "\n",
    "https://securityboulevard.com/2020/06/when-to-use-symmetric-vs-asymmetric-encryption-keyfactor/\n",
    "\n",
    "Common Use Cases for Symmetric Cryptography <br/>\n",
    "Symmetric cryptography typically gets used when speed is the priority over increased security, keeping in mind that encrypting a message still offers a high level of security. Some of the most common use cases for symmetric cryptography include: <br/>\n",
    "\n",
    "Banking: Encrypting credit card information or other personally identifiable information (PII) required for transactions <br/>\n",
    "Data storage: Encrypting data stored on a device when that data is not being transferred  <br/>\n",
    "\n",
    "Common Use Cases for Asymmetric Cryptography <br/>\n",
    "Asymmetric cryptography typically gets used when increased security is the priority over speed and when identity verification is required, as the latter is not something symmetric cryptography supports. Some of the most common use cases for asymmetric cryptography include: <br/>\n",
    "\n",
    "Digital signatures: Confirming identity for someone to sign a document <br/>\n",
    "Blockchain: Confirming identity to authorize transactions for cryptocurrency <br/>\n",
    "Public key infrastructure (PKI): Governing encryption keys through the issuance and management of digital certificates <br/>"
   ]
  },
  {
   "cell_type": "code",
   "execution_count": 29,
   "id": "af42c83f",
   "metadata": {},
   "outputs": [],
   "source": [
    "import java.security.MessageDigest\n",
    "import java.security.DigestException\n",
    "import java.lang.CloneNotSupportedException"
   ]
  },
  {
   "cell_type": "markdown",
   "id": "7468a365",
   "metadata": {},
   "source": [
    "https://www.geeksforgeeks.org/difference-between-sha1-and-sha256/"
   ]
  },
  {
   "cell_type": "markdown",
   "id": "b062c8cd",
   "metadata": {},
   "source": [
    "https://docs.oracle.com/javase/7/docs/api/java/security/MessageDigest.html\n",
    "\n",
    "This MessageDigest class provides applications the functionality of a message digest algorithm, such as SHA-1 or SHA-256. Message digests are secure one-way hash functions that take arbitrary-sized data and output a fixed-length hash value.\n",
    "A MessageDigest object starts out initialized. The data is processed through it using the update methods. At any point reset can be called to reset the digest. Once all the data to be updated has been updated, one of the digest methods should be called to complete the hash computation.\n",
    "\n",
    "The digest method can be called once for a given number of updates. After digest has been called, the MessageDigest object is reset to its initialized state.\n",
    "\n",
    "Implementations are free to implement the Cloneable interface. Client applications can test cloneability by attempting cloning and catching the CloneNotSupportedException:"
   ]
  },
  {
   "cell_type": "code",
   "execution_count": 31,
   "id": "903f236c",
   "metadata": {},
   "outputs": [
    {
     "data": {
      "text/plain": [
       "0A4D55A8D778E5022FAB701977C5D840BBC486D0"
      ]
     },
     "execution_count": 31,
     "metadata": {},
     "output_type": "execute_result"
    }
   ],
   "source": [
    "// https://stackoverflow.com/questions/18438946/format-specifier-02x\n",
    "\n",
    "fun String.passwordHash(): String {\n",
    "    val digest = MessageDigest.getInstance(\"SHA-1\")\n",
    "    val result = digest.digest(toByteArray(Charsets.UTF_8))\n",
    "    val sb = StringBuilder()\n",
    "    for (b in result) {\n",
    "        sb.append(String.format(\"%02X\", b))\n",
    "    }\n",
    "    return sb.toString()\n",
    "}\n",
    "\n",
    "\"Hello World\".passwordHash()\n"
   ]
  },
  {
   "cell_type": "markdown",
   "id": "d5e6f04c",
   "metadata": {},
   "source": [
    "https://docs.oracle.com/javase/7/docs/api/javax/crypto/KeyGenerator.html\n",
    "\n",
    "This class provides the functionality of a secret (symmetric) key generator. <br/>\n",
    "Key generators are constructed using one of the getInstance class methods of this class.\n",
    "\n",
    "KeyGenerator objects are reusable, i.e., after a key has been generated, the same KeyGenerator object can be re-used to generate further keys. <br/>\n",
    "\n",
    "There are two ways to generate a key: in an algorithm-independent manner, and in an algorithm-specific manner. The only difference between the two is the initialization of the object: <br/>\n",
    "\n",
    "Algorithm-Independent Initialization <br/>\n",
    "All key generators share the concepts of a keysize and a source of randomness. There is an init method in this KeyGenerator class that takes these two universally shared types of arguments. There is also one that takes just a keysize argument, and uses the SecureRandom implementation of the highest-priority installed provider as the source of randomness (or a system-provided source of randomness if none of the installed providers supply a SecureRandom implementation), and one that takes just a source of randomness. <br/>\n",
    "\n",
    "Since no other parameters are specified when you call the above algorithm-independent init methods, it is up to the provider what to do about the algorithm-specific parameters (if any) to be associated with each of the keys. <br/>\n",
    "\n",
    "Algorithm-Specific Initialization <br/>\n",
    "For situations where a set of algorithm-specific parameters already exists, there are two init methods that have an AlgorithmParameterSpec argument. One also has a SecureRandom argument, while the other uses the SecureRandom implementation of the highest-priority installed provider as the source of randomness (or a system-provided source of randomness if none of the installed providers supply a SecureRandom implementation). <br/>\n",
    "\n",
    "In case the client does not explicitly initialize the KeyGenerator (via a call to an init method), each provider must supply (and document) a default initialization. <br/>\n",
    "\n",
    "Every implementation of the Java platform is required to support the following standard KeyGenerator algorithms with the keysizes in parentheses: <br/>\n",
    "\n",
    "AES (128) <br/>\n",
    "DES (56) <br/>\n",
    "DESede (168) <br/>\n",
    "HmacSHA1 <br/>\n",
    "HmacSHA256 <br/>\n",
    "These algorithms are described in the KeyGenerator section of the Java Cryptography Architecture Standard Algorithm Name Documentation. Consult the release documentation for your implementation to see if any other algorithms are supported. <br/>\n",
    "\n",
    "https://docs.oracle.com/javase/7/docs/technotes/guides/security/StandardNames.html\n",
    "https://stackoverflow.com/questions/37231211/cannot-decrypt-a-file-that-i-encrypted-using-pbewithhmacsha256andaes-128\n",
    "\n",
    "PBEWithHmacSHA256AndAES_128"
   ]
  },
  {
   "cell_type": "code",
   "execution_count": 131,
   "id": "f6b85050",
   "metadata": {},
   "outputs": [],
   "source": [
    "import javax.crypto.KeyGenerator\n",
    "import javax.crypto.SecretKey\n",
    "\n",
    "import java.io.ByteArrayOutputStream\n",
    "import java.io.ObjectOutputStream"
   ]
  },
  {
   "cell_type": "code",
   "execution_count": 88,
   "id": "3856c2a8",
   "metadata": {},
   "outputs": [
    {
     "name": "stdout",
     "output_type": "stream",
     "text": [
      "Secret key: rO0ABXNyAB9qYXZheC5jcnlwdG8uc3BlYy5TZWNyZXRLZXlTcGVjW0cLZuIwYU0CAAJMAAlhbGdvcml0aG10ABJMamF2YS9sYW5nL1N0cmluZztbAANrZXl0AAJbQnhwdAADQUVTdXIAAltCrPMX+AYIVOACAAB4cAAAACAtNgD3rvIHg3as2s/ymdypZa5iM13yeaK3oJd+LaD/mg\r\n"
     ]
    }
   ],
   "source": [
    "fun generateKey(): SecretKey {\n",
    "    return KeyGenerator.getInstance(\"AES\").apply {\n",
    "        init(256)\n",
    "    }.generateKey()\n",
    "}\n",
    "\n",
    "fun SecretKey.secretKeyToString(): String {\n",
    "    val baos = ByteArrayOutputStream()\n",
    "    val oos = ObjectOutputStream(baos)\n",
    "    oos.writeObject(this)\n",
    "    return Base64.getEncoder().withoutPadding().encodeToString(baos.toByteArray())\n",
    "}\n",
    "\n",
    "val secretKey = generateKey()\n",
    "\n",
    "println(\"Secret key: ${secretKey.secretKeyToString()}\")"
   ]
  },
  {
   "cell_type": "code",
   "execution_count": 127,
   "id": "125eb987",
   "metadata": {},
   "outputs": [
    {
     "name": "stdout",
     "output_type": "stream",
     "text": [
      "4ALLymCX3TucJM2Y+d3glQ\r\n"
     ]
    }
   ],
   "source": [
    "fun String.encrypt(key: SecretKey): String {\n",
    "    val cipher = Cipher.getInstance(\"AES/CBC/PKCS5PADDING\").apply {\n",
    "        init(Cipher.ENCRYPT_MODE, key)\n",
    "    }\n",
    "    \n",
    "    val initVector = cipher.iv\n",
    "    val cipherText = cipher.doFinal(toByteArray(Charsets.UTF_8))\n",
    "    return Base64.getEncoder().withoutPadding().encodeToString(cipherText)\n",
    "}\n",
    "\n",
    "val encrypted = \"Indra Mahkota\".encrypt(secretKey)\n",
    "\n",
    "println(encrypted)"
   ]
  },
  {
   "cell_type": "markdown",
   "id": "385f97f0",
   "metadata": {},
   "source": [
    "I found out the AES/CBC/PKCS5Padding isn't secure and suggesting to move on to AES/GCM/NoPadding.\n",
    "https://stackoverflow.com/questions/57668541/galois-counter-mode-gcm-nopadding-not-used"
   ]
  },
  {
   "cell_type": "code",
   "execution_count": 132,
   "id": "3d4fd15c",
   "metadata": {},
   "outputs": [
    {
     "name": "stderr",
     "output_type": "stream",
     "text": [
      "Line_1238.jupyter-kts (1:48 - 63) Unresolved reference: IvParameterSpec\n",
      "Line_1238.jupyter-kts (3:9 - 13) Overload resolution ambiguity: \n",
      "public final fun init(p0: Int, p1: Key!, p2: AlgorithmParameters!): Unit defined in javax.crypto.Cipher\n",
      "public final fun init(p0: Int, p1: Key!, p2: SecureRandom!): Unit defined in javax.crypto.Cipher\n",
      "public final fun init(p0: Int, p1: Key!, p2: AlgorithmParameterSpec!): Unit defined in javax.crypto.Cipher\n",
      "Line_1238.jupyter-kts (5:37 - 50) Unresolved reference: dataToDecrypt"
     ]
    }
   ],
   "source": [
    "fun String.decrypt(key: SecretKey, initVector: IvParameterSpec): String {\n",
    "    val cipher = Cipher.getInstance(\"AES/CBC/PKCS5PADDING\").apply {\n",
    "        init(Cipher.DECRYPT_MODE, key, initVector)\n",
    "    }\n",
    "    val cipherText = cipher.doFinal(dataToDecrypt)\n",
    "    return Base64.getEncoder().withoutPadding().encodeToString(cipherText)\n",
    "}\n",
    "\n",
    "val decrypted = encrypted.decrypt(secretKey)\n",
    "\n",
    "println(decrypted)"
   ]
  }
 ],
 "metadata": {
  "kernelspec": {
   "display_name": "Kotlin",
   "language": "kotlin",
   "name": "kotlin"
  },
  "language_info": {
   "codemirror_mode": "text/x-kotlin",
   "file_extension": ".kt",
   "mimetype": "text/x-kotlin",
   "name": "kotlin",
   "nbconvert_exporter": "",
   "pygments_lexer": "kotlin",
   "version": "1.6.20-dev-6372"
  }
 },
 "nbformat": 4,
 "nbformat_minor": 5
}
