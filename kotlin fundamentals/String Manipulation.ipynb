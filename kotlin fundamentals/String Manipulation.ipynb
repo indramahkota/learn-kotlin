{
 "cells": [
  {
   "cell_type": "code",
   "execution_count": null,
   "id": "31728545",
   "metadata": {},
   "outputs": [],
   "source": [
    "// Using Library\n",
    "// println(java.nio.file.Paths.get(\"\").toAbsolutePath().toString())\n",
    "// %use @file[[DIR_PATH]/[LIB_NAME].json]"
   ]
  },
  {
   "cell_type": "code",
   "execution_count": null,
   "id": "97683150",
   "metadata": {},
   "outputs": [],
   "source": [
    "%use @file[D:/Programming/Kotlin/learn-kotlin/dependencies/kasechange.json]"
   ]
  },
  {
   "cell_type": "code",
   "execution_count": 37,
   "id": "64f0473c",
   "metadata": {
    "scrolled": true
   },
   "outputs": [
    {
     "name": "stdout",
     "output_type": "stream",
     "text": [
      "kotlinGradlePluginVersion = \"\"\n",
      "hiltAndroidGradlePluginVersion = \"\"\n",
      "navigationSafeArgsGradlePluginVersion = \"\"\n",
      "secretsGradlePluginVersion = \"\"\n"
     ]
    }
   ],
   "source": [
    "val listOfSting = listOf(\n",
    "    \"kotlin-gradle-plugin-version\",\n",
    "    \"hilt-android-gradle-plugin-version\",\n",
    "    \"navigation-safe-args-gradle-plugin-version\",\n",
    "    \"secrets-gradle-plugin-version\"\n",
    ")\n",
    "\n",
    "listOfSting.forEach {\n",
    "    println(\"${it.toCamelCase()} = \\\"\\\"\")\n",
    "}"
   ]
  },
  {
   "cell_type": "code",
   "execution_count": 38,
   "id": "75295b0b",
   "metadata": {},
   "outputs": [
    {
     "name": "stdout",
     "output_type": "stream",
     "text": [
      "coreKtxVersion = \"\"\n",
      "appCompatVersion = \"\"\n",
      "materialVersion = \"\"\n",
      "constrainTlayoutVersion = \"\"\n",
      "junitVersion = \"\"\n",
      "espressoCoreVersion = \"\"\n"
     ]
    }
   ],
   "source": [
    "val listOfSting = listOf(\n",
    "    \"core-ktx-version\",\n",
    "    \"app-compat-version\",\n",
    "    \"material-version\",\n",
    "    \"constrain-tlayout-version\",\n",
    "    \"junit-version\",\n",
    "    \"espresso-core-version\",\n",
    ")\n",
    "\n",
    "listOfSting.forEach {\n",
    "    println(\"${it.toCamelCase()} = \\\"\\\"\")\n",
    "}"
   ]
  },
  {
   "cell_type": "code",
   "execution_count": 49,
   "id": "78bd9e8a",
   "metadata": {},
   "outputs": [
    {
     "name": "stdout",
     "output_type": "stream",
     "text": [
      "hiltAndroidVersion = \"\"\n",
      "hiltAndroidCompilerVersion = \"\"\n",
      "hiltAndroidTestingVersion = \"\"\n",
      "hiltAndroidCompilerVersion = \"\"\n",
      "legacySupportV4Version = \"\"\n",
      "navigationTestingVersion = \"\"\n",
      "hiltLifecycleViewmodelVersion = \"\"\n",
      "hiltCompilerVersion = \"\"\n",
      "kotlinxCoroutinesAndroidVersion = \"\"\n",
      "roomVersion = \"\"\n",
      "okHttpVersion = \"\"\n",
      "retrofitVersion = \"\"\n",
      "pagingRuntimeKtxVersion = \"\"\n"
     ]
    }
   ],
   "source": [
    "val listOfSting = listOf(\n",
    "    \"hilt-android-version\",\n",
    "    \"hilt-android-compiler-version\",\n",
    "    \"hilt-android-testing-version\",\n",
    "    \"hilt-android-compiler-version\",\n",
    "    \"legacy-support-v4-version\",\n",
    "    \"navigation-testing-version\",\n",
    "    \"hilt-lifecycle-viewmodel-version\",\n",
    "    \"hilt-compiler-version\",\n",
    "    \"kotlinx-coroutines-android-version\",\n",
    "    \"room-version\",\n",
    "    \"ok-http-version\",\n",
    "    \"retrofit-version\",\n",
    "    \"paging-runtime-ktx-version\"\n",
    ")\n",
    "\n",
    "listOfSting.forEach {\n",
    "    println(\"${it.toCamelCase()} = \\\"\\\"\")\n",
    "}"
   ]
  }
 ],
 "metadata": {
  "kernelspec": {
   "display_name": "Kotlin",
   "language": "kotlin",
   "name": "kotlin"
  },
  "language_info": {
   "codemirror_mode": "text/x-kotlin",
   "file_extension": ".kt",
   "mimetype": "text/x-kotlin",
   "name": "kotlin",
   "nbconvert_exporter": "",
   "pygments_lexer": "kotlin",
   "version": "1.6.20-dev-6372"
  }
 },
 "nbformat": 4,
 "nbformat_minor": 5
}
