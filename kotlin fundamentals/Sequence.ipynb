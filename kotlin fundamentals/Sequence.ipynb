{
 "cells": [
  {
   "cell_type": "code",
   "execution_count": null,
   "id": "89396971",
   "metadata": {},
   "outputs": [],
   "source": [
    "// protected inline fun <reified T : WithDefaults<T>> createExtension(name: String): T {\n",
    "//     val parents = project.parents.mapNotNull { it.extensions.ajaibExtension }\n",
    "//     println(\"Parents: ${parents.toList()}\")\n",
    "\n",
    "//     val defaults = parents.mapNotNull { it.extensions.findByName<T>(name) }.firstOrNull()\n",
    "//     println(\"Create extension: '$name'; on: $project; with default: $defaults\")\n",
    "\n",
    "//     return (ajaibExtension as ExtensionAware).extensions.createWithDefaults(name, defaults)\n",
    "// }"
   ]
  },
  {
   "cell_type": "code",
   "execution_count": 91,
   "id": "1acc8687",
   "metadata": {},
   "outputs": [
    {
     "data": {
      "text/plain": [
       "Birdasas"
      ]
     },
     "execution_count": 91,
     "metadata": {},
     "output_type": "execute_result"
    }
   ],
   "source": [
    "var animal: String? = null\n",
    "\n",
    "fun names() = sequence {\n",
    "        var name: String? = animal\n",
    "        while (name != null) {\n",
    "            yield(name)\n",
    "            name = animal\n",
    "        }\n",
    "    }\n",
    "\n",
    "val sequence = names().mapNotNull { it.plus(\"asas\") }\n",
    "\n",
    "animal = null\n",
    "animal = null\n",
    "animal = null\n",
    "animal = null\n",
    "animal = null\n",
    "animal = null\n",
    "animal = null\n",
    "animal = null\n",
    "animal = null\n",
    "\n",
    "animal = \"Bird\"\n",
    "\n",
    "sequence.firstOrNull()"
   ]
  },
  {
   "cell_type": "code",
   "execution_count": 59,
   "id": "ba30beeb",
   "metadata": {},
   "outputs": [
    {
     "data": {
      "text/plain": [
       "[1, 2, 3, 4, 5, 6, 7, 8, 9, 10]"
      ]
     },
     "execution_count": 59,
     "metadata": {},
     "output_type": "execute_result"
    }
   ],
   "source": [
    "fun increment() = sequence {\n",
    "        var num = 1\n",
    "        while (true) {\n",
    "            yield(num)\n",
    "            num = num + 1\n",
    "        }\n",
    "    }\n",
    "\n",
    "val sequence = increment().take(10)\n",
    "sequence.toList()"
   ]
  },
  {
   "cell_type": "code",
   "execution_count": 19,
   "id": "f81628f4",
   "metadata": {},
   "outputs": [
    {
     "data": {
      "text/plain": [
       "[0, 1, 1, 2, 3, 5, 8, 13, 21, 34]"
      ]
     },
     "execution_count": 19,
     "metadata": {},
     "output_type": "execute_result"
    }
   ],
   "source": [
    "fun fibonacci() = sequence {\n",
    "    var terms = Pair(0, 1)\n",
    "\n",
    "    // this sequence is infinite\n",
    "    while (true) {\n",
    "        yield(terms.first)\n",
    "        terms = Pair(terms.second, terms.first + terms.second)\n",
    "    }\n",
    "}\n",
    "\n",
    "fibonacci().take(10).toList()\n",
    "\n",
    "// \"[0, 1, 1, 2, 3, 5, 8, 13, 21, 34]\""
   ]
  },
  {
   "cell_type": "code",
   "execution_count": 4,
   "id": "bb63d3c6",
   "metadata": {},
   "outputs": [
    {
     "data": {
      "text/plain": [
       "[0, 1, 3, 5, 8, 24, 72]"
      ]
     },
     "execution_count": 4,
     "metadata": {},
     "output_type": "execute_result"
    }
   ],
   "source": [
    "val sequence = sequence {\n",
    "    val start = 0\n",
    "    // yielding a single value\n",
    "    yield(start)\n",
    "    // yielding an iterable\n",
    "    yieldAll(1..5 step 2)\n",
    "    // yielding an infinite sequence\n",
    "    yieldAll(generateSequence(8) { it * 3 })\n",
    "}\n",
    "\n",
    "sequence.take(7).toList()\n",
    "\n",
    "\"[0, 1, 3, 5, 8, 24, 72]\""
   ]
  },
  {
   "cell_type": "code",
   "execution_count": 7,
   "id": "579838af",
   "metadata": {},
   "outputs": [
    {
     "name": "stdout",
     "output_type": "stream",
     "text": [
      "[3, 2, 1]\r\n"
     ]
    }
   ],
   "source": [
    "var count = 3\n",
    "\n",
    "val sequence = generateSequence {\n",
    "    (count--).takeIf { it > 0 } // will return null, when value becomes non-positive,\n",
    "    // and that will terminate the sequence\n",
    "}\n",
    "\n",
    "println(sequence.toList()) // [3, 2, 1]\n",
    "\n",
    "// sequence.forEach {  }  // <- iterating that sequence second time will fail"
   ]
  },
  {
   "cell_type": "code",
   "execution_count": 8,
   "id": "38c356a7",
   "metadata": {},
   "outputs": [
    {
     "name": "stdout",
     "output_type": "stream",
     "text": [
      "[0, 1, 1, 2, 3, 5, 8, 13, 21, 34]\r\n"
     ]
    }
   ],
   "source": [
    "fun fibonacci(): Sequence<Int> {\n",
    "    // fibonacci terms\n",
    "    // 0, 1, 1, 2, 3, 5, 8, 13, 21, 34, 55, 89, 144, 233, 377, 610, 987, 1597, 2584, 4181, 6765, 10946, ...\n",
    "    return generateSequence(Pair(0, 1), { Pair(it.second, it.first + it.second) }).map { it.first }\n",
    "}\n",
    "\n",
    "println(fibonacci().take(10).toList()) // [0, 1, 1, 2, 3, 5, 8, 13, 21, 34]"
   ]
  },
  {
   "cell_type": "code",
   "execution_count": 9,
   "id": "5d6a4d58",
   "metadata": {},
   "outputs": [
    {
     "name": "stdout",
     "output_type": "stream",
     "text": [
      "[24, 42]\r\n",
      "[42]\r\n",
      "[]\r\n"
     ]
    }
   ],
   "source": [
    "class LinkedValue<T>(val value: T, val next: LinkedValue<T>? = null)\n",
    "\n",
    "fun <T> LinkedValue<T>?.asSequence(): Sequence<LinkedValue<T>> = generateSequence(\n",
    "    seedFunction = { this },\n",
    "    nextFunction = { it.next }\n",
    ")\n",
    "\n",
    "fun <T> LinkedValue<T>?.valueSequence(): Sequence<T> = asSequence().map { it.value }\n",
    "\n",
    "val singleItem = LinkedValue(42)\n",
    "val twoItems = LinkedValue(24, singleItem)\n",
    "\n",
    "println(twoItems.valueSequence().toList()) // [24, 42]\n",
    "println(singleItem.valueSequence().toList()) // [42]\n",
    "println(singleItem.next.valueSequence().toList()) // []"
   ]
  }
 ],
 "metadata": {
  "kernelspec": {
   "display_name": "Kotlin",
   "language": "kotlin",
   "name": "kotlin"
  },
  "language_info": {
   "codemirror_mode": "text/x-kotlin",
   "file_extension": ".kt",
   "mimetype": "text/x-kotlin",
   "name": "kotlin",
   "nbconvert_exporter": "",
   "pygments_lexer": "kotlin",
   "version": "1.6.20-dev-6372"
  }
 },
 "nbformat": 4,
 "nbformat_minor": 5
}
