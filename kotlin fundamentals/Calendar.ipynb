{
 "cells": [
  {
   "cell_type": "code",
   "execution_count": 12,
   "id": "f87479d0",
   "metadata": {},
   "outputs": [
    {
     "data": {
      "text/plain": [
       "2012-01-31"
      ]
     },
     "execution_count": 12,
     "metadata": {},
     "output_type": "execute_result"
    }
   ],
   "source": [
    "import java.time.format.DateTimeFormatter\n",
    "import java.time.LocalDate\n",
    "import java.util.Calendar\n",
    "\n",
    "val date = \"1/13/2012\"\n",
    "var convertedDate = LocalDate.parse(date, DateTimeFormatter.ofPattern(\"M/d/yyyy\"))\n",
    "convertedDate = convertedDate.withDayOfMonth(convertedDate.getMonth().length(convertedDate.isLeapYear()))\n",
    "\n",
    "convertedDate"
   ]
  },
  {
   "cell_type": "code",
   "execution_count": 18,
   "id": "56f318eb",
   "metadata": {},
   "outputs": [
    {
     "data": {
      "text/plain": [
       "Tue Mar 03 14:55:23 ICT 2020"
      ]
     },
     "execution_count": 18,
     "metadata": {},
     "output_type": "execute_result"
    }
   ],
   "source": [
    "val calendar = Calendar.getInstance()\n",
    "calendar.set(2020, Calendar.FEBRUARY, 32)\n",
    "calendar.getTime()"
   ]
  },
  {
   "cell_type": "code",
   "execution_count": 21,
   "id": "77a983c7",
   "metadata": {},
   "outputs": [
    {
     "data": {
      "text/plain": [
       "28"
      ]
     },
     "execution_count": 21,
     "metadata": {},
     "output_type": "execute_result"
    }
   ],
   "source": [
    "val calendar = Calendar.getInstance()\n",
    "calendar.getActualMaximum(Calendar.DAY_OF_MONTH)"
   ]
  },
  {
   "cell_type": "code",
   "execution_count": 32,
   "id": "5f6c18e3",
   "metadata": {},
   "outputs": [
    {
     "data": {
      "text/plain": [
       "Mon Feb 28 15:07:50 ICT 2022"
      ]
     },
     "execution_count": 32,
     "metadata": {},
     "output_type": "execute_result"
    }
   ],
   "source": [
    "val calendar = Calendar.getInstance()\n",
    "calendar.set(2022, Calendar.MARCH, 1)\n",
    "calendar.add(Calendar.DATE, -1)\n",
    "calendar.getTime()"
   ]
  }
 ],
 "metadata": {
  "kernelspec": {
   "display_name": "Kotlin",
   "language": "kotlin",
   "name": "kotlin"
  },
  "language_info": {
   "codemirror_mode": "text/x-kotlin",
   "file_extension": ".kt",
   "mimetype": "text/x-kotlin",
   "name": "kotlin",
   "nbconvert_exporter": "",
   "pygments_lexer": "kotlin",
   "version": "1.6.20-dev-6372"
  }
 },
 "nbformat": 4,
 "nbformat_minor": 5
}
