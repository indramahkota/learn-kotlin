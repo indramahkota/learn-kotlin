{
 "cells": [
  {
   "cell_type": "code",
   "execution_count": 1,
   "id": "5cb815f0",
   "metadata": {},
   "outputs": [],
   "source": [
    "class Greeter(private val name: String) {\n",
    "    // fun greet() = \"Hello, $name!\"\n",
    "    \n",
    "    fun greet(): String {\n",
    "        return \"Hello, $name!\"\n",
    "    }\n",
    "}"
   ]
  },
  {
   "cell_type": "code",
   "execution_count": 2,
   "id": "b3839e10",
   "metadata": {
    "scrolled": false
   },
   "outputs": [
    {
     "data": {
      "text/plain": [
       "Hello, Jupyter!"
      ]
     },
     "execution_count": 2,
     "metadata": {},
     "output_type": "execute_result"
    }
   ],
   "source": [
    "Greeter(\"Jupyter\").greet()"
   ]
  }
 ],
 "metadata": {
  "kernelspec": {
   "display_name": "Kotlin",
   "language": "kotlin",
   "name": "kotlin"
  },
  "language_info": {
   "codemirror_mode": "text/x-kotlin",
   "file_extension": ".kt",
   "mimetype": "text/x-kotlin",
   "name": "kotlin",
   "nbconvert_exporter": "",
   "pygments_lexer": "kotlin",
   "version": "1.6.20-dev-6372"
  }
 },
 "nbformat": 4,
 "nbformat_minor": 5
}
