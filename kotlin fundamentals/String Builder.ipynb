{
 "cells": [
  {
   "cell_type": "code",
   "execution_count": 1,
   "id": "e6cad5ad",
   "metadata": {},
   "outputs": [
    {
     "data": {
      "text/plain": [
       "\n",
       "\n",
       "&#8226; NIK\n",
       "&#8226; Nama\n"
      ]
     },
     "execution_count": 1,
     "metadata": {},
     "output_type": "execute_result"
    }
   ],
   "source": [
    "val sb = StringBuilder(\"\\n\\n&#8226; NIK\\n\")\n",
    "sb.append(\"&#8226; Nama\\n\")\n",
    "sb"
   ]
  },
  {
   "cell_type": "code",
   "execution_count": 2,
   "id": "8d88d37f",
   "metadata": {},
   "outputs": [
    {
     "data": {
      "text/plain": [
       "\n",
       "\n",
       "&#8226; NIK\n",
       "&#8226; Nama\n",
       "&#8226; Tanggal Lahir\n",
       "&#8226; Nama Ibu Kandung\n"
      ]
     },
     "execution_count": 2,
     "metadata": {},
     "output_type": "execute_result"
    }
   ],
   "source": [
    "val name = false\n",
    "val placeBirth = true\n",
    "val dateOfBirth = false\n",
    "val motherName = false\n",
    "\n",
    "val sb = StringBuilder(\"\\n\\n&#8226; NIK\\n\").apply {\n",
    "    if (name != true) append(\"&#8226; Nama\\n\")\n",
    "    if (placeBirth != true) append(\"&#8226; Tempat Lahir\\n\")\n",
    "    if (dateOfBirth != true) append(\"&#8226; Tanggal Lahir\\n\")\n",
    "    if (motherName != true) append(\"&#8226; Nama Ibu Kandung\\n\")\n",
    "}\n",
    "\n",
    "sb"
   ]
  }
 ],
 "metadata": {
  "kernelspec": {
   "display_name": "Kotlin",
   "language": "kotlin",
   "name": "kotlin"
  },
  "language_info": {
   "codemirror_mode": "text/x-kotlin",
   "file_extension": ".kt",
   "mimetype": "text/x-kotlin",
   "name": "kotlin",
   "nbconvert_exporter": "",
   "pygments_lexer": "kotlin",
   "version": "1.6.20-dev-6372"
  }
 },
 "nbformat": 4,
 "nbformat_minor": 5
}
