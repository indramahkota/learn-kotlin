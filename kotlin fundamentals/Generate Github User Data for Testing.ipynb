{
 "cells": [
  {
   "cell_type": "code",
   "execution_count": 1,
   "id": "906b477e",
   "metadata": {},
   "outputs": [],
   "source": [
    "// Using Library\n",
    "// println(java.nio.file.Paths.get(\"\").toAbsolutePath().toString())\n",
    "// %use @file[[DIR_PATH]/[LIB_NAME].json]"
   ]
  },
  {
   "cell_type": "code",
   "execution_count": 27,
   "id": "f8307f2b",
   "metadata": {},
   "outputs": [],
   "source": [
    "// @file:Repository(\"*mavenLocal\")\n",
    "// @file:DependsOn(\"com.github.holgerbrandl:krangl:0.18.7\")\n",
    "\n",
    "%use krangl\n",
    "\n",
    "%use coroutines\n",
    "\n",
    "%use @file[D:/Programming/Kotlin/learn-kotlin/dependencies/gson.json]\n",
    "%use @file[D:/Programming/Kotlin/learn-kotlin/dependencies/org_json.json]\n",
    "%use @file[D:/Programming/Kotlin/learn-kotlin/dependencies/retrofit.json]\n",
    "%use @file[D:/Programming/Kotlin/learn-kotlin/dependencies/retrofit_gson_converter.json]"
   ]
  },
  {
   "cell_type": "code",
   "execution_count": 3,
   "id": "33b71f44",
   "metadata": {},
   "outputs": [],
   "source": [
    "import kotlinx.coroutines.flow.Flow\n",
    "import kotlinx.coroutines.flow.flow\n",
    "import kotlinx.coroutines.flow.MutableStateFlow\n",
    "import kotlinx.coroutines.flow.StateFlow\n",
    "import kotlinx.coroutines.flow.collect\n",
    "import kotlinx.coroutines.GlobalScope\n",
    "import kotlinx.coroutines.launch\n",
    "import okhttp3.ResponseBody"
   ]
  },
  {
   "cell_type": "markdown",
   "id": "b1c3b83d",
   "metadata": {},
   "source": [
    "# User"
   ]
  },
  {
   "cell_type": "code",
   "execution_count": 4,
   "id": "9186df3e",
   "metadata": {},
   "outputs": [],
   "source": [
    "data class UserResponse(\n",
    "    @SerializedName(\"incomplete_results\")\n",
    "    val incompleteResults: Boolean?,\n",
    "    @SerializedName(\"items\")\n",
    "    val items: List<UserDto>,\n",
    "    @SerializedName(\"total_count\")\n",
    "    val totalCount: Long?\n",
    ")\n",
    "\n",
    "data class UserDto(\n",
    "    @SerializedName(\"id\")\n",
    "    val id: Long,\n",
    "    @SerializedName(\"avatar_url\")\n",
    "    val avatarUrl: String?,\n",
    "    @SerializedName(\"name\")\n",
    "    val name: String?,\n",
    "    @SerializedName(\"login\")\n",
    "    val login: String?,\n",
    "    @SerializedName(\"bio\")\n",
    "    val bio: String?,\n",
    "    @SerializedName(\"followers\")\n",
    "    val followers: Int?,\n",
    "    @SerializedName(\"following\")\n",
    "    val following: Int?,\n",
    "    @SerializedName(\"location\")\n",
    "    val location: String?,\n",
    "    @SerializedName(\"email\")\n",
    "    val email: String?\n",
    ")\n",
    "\n",
    "data class User(\n",
    "    val id: Long,\n",
    "    val avatarUrl: String,\n",
    "    val name: String,\n",
    "    val login: String,\n",
    "    val bio: String,\n",
    "    val followers: Int,\n",
    "    val following: Int,\n",
    "    val location: String,\n",
    "    val email: String\n",
    ")"
   ]
  },
  {
   "cell_type": "markdown",
   "id": "b42dca2a",
   "metadata": {},
   "source": [
    "# Repository"
   ]
  },
  {
   "cell_type": "code",
   "execution_count": 5,
   "id": "209d7206",
   "metadata": {},
   "outputs": [],
   "source": [
    "class RepoResponseDto : ArrayList<RepoResponseItem>()\n",
    "\n",
    "data class RepoResponseItem(\n",
    "    @SerializedName(\"allow_forking\")\n",
    "    val allowForking: Boolean? = null,\n",
    "    @SerializedName(\"archive_url\")\n",
    "    val archiveUrl: String? = null,\n",
    "    @SerializedName(\"archived\")\n",
    "    val archived: Boolean? = null,\n",
    "    @SerializedName(\"assignees_url\")\n",
    "    val assigneesUrl: String? = null,\n",
    "    @SerializedName(\"blobs_url\")\n",
    "    val blobsUrl: String? = null,\n",
    "    @SerializedName(\"branches_url\")\n",
    "    val branchesUrl: String? = null,\n",
    "    @SerializedName(\"clone_url\")\n",
    "    val cloneUrl: String? = null,\n",
    "    @SerializedName(\"collaborators_url\")\n",
    "    val collaboratorsUrl: String? = null,\n",
    "    @SerializedName(\"comments_url\")\n",
    "    val commentsUrl: String? = null,\n",
    "    @SerializedName(\"commits_url\")\n",
    "    val commitsUrl: String? = null,\n",
    "    @SerializedName(\"compare_url\")\n",
    "    val compareUrl: String? = null,\n",
    "    @SerializedName(\"contents_url\")\n",
    "    val contentsUrl: String? = null,\n",
    "    @SerializedName(\"contributors_url\")\n",
    "    val contributorsUrl: String? = null,\n",
    "    @SerializedName(\"created_at\")\n",
    "    val createdAt: String? = null,\n",
    "    @SerializedName(\"default_branch\")\n",
    "    val defaultBranch: String? = null,\n",
    "    @SerializedName(\"deployments_url\")\n",
    "    val deploymentsUrl: String? = null,\n",
    "    @SerializedName(\"description\")\n",
    "    val description: String? = null,\n",
    "    @SerializedName(\"disabled\")\n",
    "    val disabled: Boolean? = null,\n",
    "    @SerializedName(\"downloads_url\")\n",
    "    val downloadsUrl: String? = null,\n",
    "    @SerializedName(\"events_url\")\n",
    "    val eventsUrl: String? = null,\n",
    "    @SerializedName(\"fork\")\n",
    "    val fork: Boolean? = null,\n",
    "    @SerializedName(\"forks\")\n",
    "    val forks: Int? = null,\n",
    "    @SerializedName(\"forks_count\")\n",
    "    val forksCount: Int? = null,\n",
    "    @SerializedName(\"forks_url\")\n",
    "    val forksUrl: String? = null,\n",
    "    @SerializedName(\"full_name\")\n",
    "    val fullName: String? = null,\n",
    "    @SerializedName(\"git_commits_url\")\n",
    "    val gitCommitsUrl: String? = null,\n",
    "    @SerializedName(\"git_refs_url\")\n",
    "    val gitRefsUrl: String? = null,\n",
    "    @SerializedName(\"git_tags_url\")\n",
    "    val gitTagsUrl: String? = null,\n",
    "    @SerializedName(\"git_url\")\n",
    "    val gitUrl: String? = null,\n",
    "    @SerializedName(\"has_downloads\")\n",
    "    val hasDownloads: Boolean? = null,\n",
    "    @SerializedName(\"has_issues\")\n",
    "    val hasIssues: Boolean? = null,\n",
    "    @SerializedName(\"has_pages\")\n",
    "    val hasPages: Boolean? = null,\n",
    "    @SerializedName(\"has_projects\")\n",
    "    val hasProjects: Boolean? = null,\n",
    "    @SerializedName(\"has_wiki\")\n",
    "    val hasWiki: Boolean? = null,\n",
    "    @SerializedName(\"homepage\")\n",
    "    val homepage: String? = null,\n",
    "    @SerializedName(\"hooks_url\")\n",
    "    val hooksUrl: String? = null,\n",
    "    @SerializedName(\"html_url\")\n",
    "    val htmlUrl: String? = null,\n",
    "    @SerializedName(\"id\")\n",
    "    val id: Int? = null,\n",
    "    @SerializedName(\"is_template\")\n",
    "    val isTemplate: Boolean? = null,\n",
    "    @SerializedName(\"issue_comment_url\")\n",
    "    val issueCommentUrl: String? = null,\n",
    "    @SerializedName(\"issue_events_url\")\n",
    "    val issueEventsUrl: String? = null,\n",
    "    @SerializedName(\"issues_url\")\n",
    "    val issuesUrl: String? = null,\n",
    "    @SerializedName(\"keys_url\")\n",
    "    val keysUrl: String? = null,\n",
    "    @SerializedName(\"labels_url\")\n",
    "    val labelsUrl: String? = null,\n",
    "    @SerializedName(\"language\")\n",
    "    val language: String? = null,\n",
    "    @SerializedName(\"languages_url\")\n",
    "    val languagesUrl: String? = null,\n",
    "    @SerializedName(\"license\")\n",
    "    val license: License? = null,\n",
    "    @SerializedName(\"merges_url\")\n",
    "    val mergesUrl: String? = null,\n",
    "    @SerializedName(\"milestones_url\")\n",
    "    val milestonesUrl: String? = null,\n",
    "    @SerializedName(\"mirror_url\")\n",
    "    val mirrorUrl: Any? = null,\n",
    "    @SerializedName(\"name\")\n",
    "    val name: String? = null,\n",
    "    @SerializedName(\"node_id\")\n",
    "    val nodeId: String? = null,\n",
    "    @SerializedName(\"notifications_url\")\n",
    "    val notificationsUrl: String? = null,\n",
    "    @SerializedName(\"open_issues\")\n",
    "    val openIssues: Int? = null,\n",
    "    @SerializedName(\"open_issues_count\")\n",
    "    val openIssuesCount: Int? = null,\n",
    "    @SerializedName(\"owner\")\n",
    "    val owner: Owner? = null,\n",
    "    @SerializedName(\"private\")\n",
    "    val `private`: Boolean? = null,\n",
    "    @SerializedName(\"pulls_url\")\n",
    "    val pullsUrl: String? = null,\n",
    "    @SerializedName(\"pushed_at\")\n",
    "    val pushedAt: String? = null,\n",
    "    @SerializedName(\"releases_url\")\n",
    "    val releasesUrl: String? = null,\n",
    "    @SerializedName(\"size\")\n",
    "    val size: Int? = null,\n",
    "    @SerializedName(\"ssh_url\")\n",
    "    val sshUrl: String? = null,\n",
    "    @SerializedName(\"stargazers_count\")\n",
    "    val stargazersCount: Int? = null,\n",
    "    @SerializedName(\"stargazers_url\")\n",
    "    val stargazersUrl: String? = null,\n",
    "    @SerializedName(\"statuses_url\")\n",
    "    val statusesUrl: String? = null,\n",
    "    @SerializedName(\"subscribers_url\")\n",
    "    val subscribersUrl: String? = null,\n",
    "    @SerializedName(\"subscription_url\")\n",
    "    val subscriptionUrl: String? = null,\n",
    "    @SerializedName(\"svn_url\")\n",
    "    val svnUrl: String? = null,\n",
    "    @SerializedName(\"tags_url\")\n",
    "    val tagsUrl: String? = null,\n",
    "    @SerializedName(\"teams_url\")\n",
    "    val teamsUrl: String? = null,\n",
    "    @SerializedName(\"topics\")\n",
    "    val topics: List<String?>? = null,\n",
    "    @SerializedName(\"trees_url\")\n",
    "    val treesUrl: String? = null,\n",
    "    @SerializedName(\"updated_at\")\n",
    "    val updatedAt: String? = null,\n",
    "    @SerializedName(\"url\")\n",
    "    val url: String? = null,\n",
    "    @SerializedName(\"visibility\")\n",
    "    val visibility: String? = null,\n",
    "    @SerializedName(\"watchers\")\n",
    "    val watchers: Int? = null,\n",
    "    @SerializedName(\"watchers_count\")\n",
    "    val watchersCount: Int? = null,\n",
    "    @SerializedName(\"web_commit_signoff_required\")\n",
    "    val webCommitSignoffRequired: Boolean? = null\n",
    ")\n",
    "\n",
    "data class License(\n",
    "    @SerializedName(\"key\")\n",
    "    val key: String? = null,\n",
    "    @SerializedName(\"name\")\n",
    "    val name: String? = null,\n",
    "    @SerializedName(\"node_id\")\n",
    "    val nodeId: String? = null,\n",
    "    @SerializedName(\"spdx_id\")\n",
    "    val spdxId: String? = null,\n",
    "    @SerializedName(\"url\")\n",
    "    val url: String? = null\n",
    ")\n",
    "\n",
    "data class Owner(\n",
    "    @SerializedName(\"avatar_url\")\n",
    "    val avatarUrl: String? = null,\n",
    "    @SerializedName(\"events_url\")\n",
    "    val eventsUrl: String? = null,\n",
    "    @SerializedName(\"followers_url\")\n",
    "    val followersUrl: String? = null,\n",
    "    @SerializedName(\"following_url\")\n",
    "    val followingUrl: String? = null,\n",
    "    @SerializedName(\"gists_url\")\n",
    "    val gistsUrl: String? = null,\n",
    "    @SerializedName(\"gravatar_id\")\n",
    "    val gravatarId: String? = null,\n",
    "    @SerializedName(\"html_url\")\n",
    "    val htmlUrl: String? = null,\n",
    "    @SerializedName(\"id\")\n",
    "    val id: Int? = null,\n",
    "    @SerializedName(\"login\")\n",
    "    val login: String? = null,\n",
    "    @SerializedName(\"node_id\")\n",
    "    val nodeId: String? = null,\n",
    "    @SerializedName(\"organizations_url\")\n",
    "    val organizationsUrl: String? = null,\n",
    "    @SerializedName(\"received_events_url\")\n",
    "    val receivedEventsUrl: String? = null,\n",
    "    @SerializedName(\"repos_url\")\n",
    "    val reposUrl: String? = null,\n",
    "    @SerializedName(\"site_admin\")\n",
    "    val siteAdmin: Boolean? = null,\n",
    "    @SerializedName(\"starred_url\")\n",
    "    val starredUrl: String? = null,\n",
    "    @SerializedName(\"subscriptions_url\")\n",
    "    val subscriptionsUrl: String? = null,\n",
    "    @SerializedName(\"type\")\n",
    "    val type: String? = null,\n",
    "    @SerializedName(\"url\")\n",
    "    val url: String? = null\n",
    ")"
   ]
  },
  {
   "cell_type": "markdown",
   "id": "77176bb0",
   "metadata": {},
   "source": [
    "# Mapper"
   ]
  },
  {
   "cell_type": "code",
   "execution_count": 6,
   "id": "a1181ee7",
   "metadata": {},
   "outputs": [],
   "source": [
    "fun UserDto.toUser() = User(\n",
    "    id = id,\n",
    "    avatarUrl = avatarUrl ?: \"\",\n",
    "    name = name ?: \"N/A\",\n",
    "    login = login ?: \"N/A\",\n",
    "    bio = bio ?: \"Biography not available\",\n",
    "    followers = followers ?: 0,\n",
    "    following = following ?: 0,\n",
    "    location = location ?: \"N/A\",\n",
    "    email = email ?: \"N/A\"\n",
    ")\n",
    "\n",
    "fun List<UserDto>.toListUser() =\n",
    "    this.map {\n",
    "        it.toUser()\n",
    "    }"
   ]
  },
  {
   "cell_type": "markdown",
   "id": "10775652",
   "metadata": {},
   "source": [
    "# Services"
   ]
  },
  {
   "cell_type": "code",
   "execution_count": 7,
   "id": "d73a4fb1",
   "metadata": {},
   "outputs": [],
   "source": [
    "interface GithubService {\n",
    "    @JvmSuppressWildcards\n",
    "    @GET(\"search/users\")\n",
    "    suspend fun searchUsers(\n",
    "        @QueryMap params: Map<String, Any>\n",
    "    ): Response<UserResponse>\n",
    "\n",
    "    @GET(\"users/{id}\")\n",
    "    suspend fun getUser(\n",
    "        @Path(\"id\") username: String\n",
    "    ): Response<UserDto>\n",
    "    \n",
    "    @GET(\"users/{id}/repos\")\n",
    "    suspend fun getRepo(\n",
    "        @Path(\"id\") username: String\n",
    "    ): Response<RepoResponseDto>\n",
    "}"
   ]
  },
  {
   "cell_type": "markdown",
   "id": "9862a605",
   "metadata": {},
   "source": [
    "# Retrofit"
   ]
  },
  {
   "cell_type": "code",
   "execution_count": 8,
   "id": "e3b33ba9",
   "metadata": {},
   "outputs": [],
   "source": [
    "val retrofit = Retrofit\n",
    "        .Builder().apply {\n",
    "            baseUrl(\"https://api.github.com/\")\n",
    "            addConverterFactory(GsonConverterFactory.create(GsonBuilder().create()))\n",
    "        }.build()\n",
    "        \n",
    "val service = retrofit.create(GithubService::class.java)"
   ]
  },
  {
   "cell_type": "markdown",
   "id": "46f0f7e6",
   "metadata": {},
   "source": [
    "# Repository"
   ]
  },
  {
   "cell_type": "code",
   "execution_count": 9,
   "id": "575c70c7",
   "metadata": {},
   "outputs": [],
   "source": [
    "suspend fun searchUsers(params: Map<String, Any>): UserResponse? {\n",
    "    return try {\n",
    "        val response = service.searchUsers(params)\n",
    "        if(response.isSuccessful)\n",
    "            response.body()\n",
    "        else null\n",
    "    } catch (e: Exception) {\n",
    "        println(e.message ?: \"Unknown error\")\n",
    "        null\n",
    "    }\n",
    "}\n",
    "\n",
    "suspend fun getUser(username: String): UserDto? {\n",
    "    return try {\n",
    "        val response = service.getUser(username)\n",
    "        if(response.isSuccessful)\n",
    "            response.body()\n",
    "        else null\n",
    "    } catch (e: Exception) {\n",
    "        println(e.message ?: \"Unknown error\")\n",
    "        null\n",
    "    }\n",
    "}\n",
    "\n",
    "suspend fun getRepo(username: String): RepoResponseDto? {\n",
    "    return try {\n",
    "        val response = service.getRepo(username)\n",
    "        if(response.isSuccessful)\n",
    "            response.body()\n",
    "        else null\n",
    "    } catch (e: Exception) {\n",
    "        println(e.message ?: \"Unknown error\")\n",
    "        null\n",
    "    }\n",
    "}"
   ]
  },
  {
   "cell_type": "markdown",
   "id": "9dc7d038",
   "metadata": {},
   "source": [
    "# Get Users"
   ]
  },
  {
   "cell_type": "code",
   "execution_count": 17,
   "id": "2dbe7f7b",
   "metadata": {
    "scrolled": true
   },
   "outputs": [
    {
     "data": {
      "text/plain": [
       "true"
      ]
     },
     "execution_count": 17,
     "metadata": {},
     "output_type": "execute_result"
    }
   ],
   "source": [
    "val listOfUser = mutableListOf<User>()\n",
    "val listUserDto = mutableListOf<UserDto>()\n",
    "\n",
    "fun searchUsersFunction() = runBlocking {\n",
    "    val response = searchUsers(mapOf(\"q\" to \"indra android\", \"per_page\" to 20))\n",
    "    response?.items?.forEach {\n",
    "        it.login?.let { username ->\n",
    "            getUser(username)\n",
    "        }?.let { listUserDto.add(it) }\n",
    "    }\n",
    "    listOfUser.addAll(listUserDto.toListUser())\n",
    "}\n",
    "\n",
    "searchUsersFunction()"
   ]
  },
  {
   "cell_type": "code",
   "execution_count": 53,
   "id": "80ca3ecb",
   "metadata": {},
   "outputs": [
    {
     "data": {
      "text/plain": [
       "[{\"id\":34052126,\"avatarUrl\":\"https://avatars.githubusercontent.com/u/34052126?v\\u003d4\",\"name\":\"Indra Mahkota\",\"login\":\"indramahkota\",\"bio\":\"Android Engineer\",\"followers\":23,\"following\":19,\"location\":\"Pontianak, Indonesia\",\"email\":\"N/A\"},{\"id\":32633599,\"avatarUrl\":\"https://avatars.githubusercontent.com/u/32633599?v\\u003d4\",\"name\":\"Mochamad Indra Yudha Lakaselindra\",\"login\":\"IndraYudha22\",\"bio\":\"Android and Game Programmer\",\"followers\":8,\"following\":9,\"location\":\"N/A\",\"email\":\"N/A\"},{\"id\":61546756,\"avatarUrl\":\"https://avatars.githubusercontent.com/u/61546756?v\\u003d4\",\"name\":\"Galih Indra Firmansyah\",\"login\":\"galihif\",\"bio\":\"Android Development Enthusiasts || Google Certified AAD || Software Engineering Student\",\"followers\":21,\"following\":41,\"location\":\"Gunungkidul, Yogyakarta\",\"email\":\"N/A\"},{\"id\":40993199,\"avatarUrl\":\"https://avatars.githubusercontent.com/u/40993199?v\\u003d4\",\"name\":\"Indra Deva Aji Zakaria\",\"login\":\"indrad373\",\"bio\":\"Informatics \\u002719 Telkom University,\\r\\nAndroid Flutter Developer, UI/UX Designer\",\"followers\":12,\"following\":9,\"location\":\"Bandung\",\"email\":\"N/A\"},{\"id\":20751314,\"avatarUrl\":\"https://avatars.githubusercontent.com/u/20751314?v\\u003d4\",\"name\":\"Indranil Chatterjee\",\"login\":\"indracs7\",\"bio\":\"Android Developer and ML enthusiast.\",\"followers\":5,\"following\":4,\"location\":\"India\",\"email\":\"N/A\"},{\"id\":45512567,\"avatarUrl\":\"https://avatars.githubusercontent.com/u/45512567?v\\u003d4\",\"name\":\"Indrajit Sarkar\",\"login\":\"indraskr9\",\"bio\":\"Just Started learning Android \\u0026 Web ;-;\",\"followers\":2,\"following\":10,\"location\":\"N/A\",\"email\":\"N/A\"},{\"id\":68775687,\"avatarUrl\":\"https://avatars.githubusercontent.com/u/68775687?v\\u003d4\",\"name\":\"Indra David\",\"login\":\"ndraa124\",\"bio\":\"Just interest with programming like web and android and always learn about language programming especially PHP, Javascript, Dart, Java, Kotlin, C#, C++.\",\"followers\":6,\"following\":5,\"location\":\"Jakarta\",\"email\":\"N/A\"},{\"id\":78961083,\"avatarUrl\":\"https://avatars.githubusercontent.com/u/78961083?v\\u003d4\",\"name\":\"Indravardhan Reddy M\",\"login\":\"indravardhanreddy\",\"bio\":\"Android ||\\r\\nMachine learning || Web Development\\r\\n\",\"followers\":1,\"following\":15,\"location\":\"N/A\",\"email\":\"N/A\"},{\"id\":8722619,\"avatarUrl\":\"https://avatars.githubusercontent.com/u/8722619?v\\u003d4\",\"name\":\"Indra Pradana A\",\"login\":\"iPradana\",\"bio\":\"interest : android dev, web dev\",\"followers\":3,\"following\":2,\"location\":\"Surabaya\",\"email\":\"N/A\"},{\"id\":1942657,\"avatarUrl\":\"https://avatars.githubusercontent.com/u/1942657?v\\u003d4\",\"name\":\"Indrajit\",\"login\":\"indrajitkumar\",\"bio\":\"Having worked for 12+ years in the industry, I have valuable experience in Android|Python|Machine Learning \\u0026 Deep Learning practitioner.\\r\\n\\r\\n\",\"followers\":1,\"following\":5,\"location\":\"Bangalore\",\"email\":\"N/A\"},{\"id\":86604998,\"avatarUrl\":\"https://avatars.githubusercontent.com/u/86604998?v\\u003d4\",\"name\":\"Indra Prajapati\",\"login\":\"arthur3133\",\"bio\":\"I am an Android Developer.\",\"followers\":0,\"following\":0,\"location\":\"Ahmedabad\",\"email\":\"N/A\"},{\"id\":5094913,\"avatarUrl\":\"https://avatars.githubusercontent.com/u/5094913?v\\u003d4\",\"name\":\"Indra Dutt\",\"login\":\"indradutt\",\"bio\":\"Android Developer\",\"followers\":0,\"following\":0,\"location\":\"Denver CO\",\"email\":\"N/A\"},{\"id\":42020287,\"avatarUrl\":\"https://avatars.githubusercontent.com/u/42020287?v\\u003d4\",\"name\":\"Indra Hedar\",\"login\":\"indrahedar\",\"bio\":\"Backend Developer, Android Developer\",\"followers\":0,\"following\":1,\"location\":\"Makassar\",\"email\":\"N/A\"},{\"id\":29093273,\"avatarUrl\":\"https://avatars.githubusercontent.com/u/29093273?v\\u003d4\",\"name\":\"indras\",\"login\":\"indrasan99\",\"bio\":\"Android Developer\",\"followers\":0,\"following\":0,\"location\":\"Jakarta\",\"email\":\"N/A\"},{\"id\":44335240,\"avatarUrl\":\"https://avatars.githubusercontent.com/u/44335240?v\\u003d4\",\"name\":\"INDRA YUSRIANTO PUTRA \",\"login\":\"indrayusriantoputra\",\"bio\":\"web \\u0026 android developer \",\"followers\":0,\"following\":1,\"location\":\"malang \",\"email\":\"N/A\"}]"
      ]
     },
     "execution_count": 53,
     "metadata": {},
     "output_type": "execute_result"
    }
   ],
   "source": [
    "Gson().toJson(listOfUser)"
   ]
  },
  {
   "cell_type": "code",
   "execution_count": 51,
   "id": "d73ab200",
   "metadata": {},
   "outputs": [
    {
     "data": {
      "text/html": [
       "<html><body><table><tr><th style=\"text-align:left\">avatar</th><th style=\"text-align:left\">bio</th><th style=\"text-align:left\">email</th><th style=\"text-align:left\">followers</th><th style=\"text-align:left\">following</th><th style=\"text-align:left\">id</th><th style=\"text-align:left\">location</th><th style=\"text-align:left\">login</th><th style=\"text-align:left\">name</th></tr><tr><td style=\"text-align:left\" title=\"https://avatars.githubusercontent.com/u/34052126?v=4\">https://avatars.githubusercontent.com/u/3405212...</td><td style=\"text-align:left\" title=\"Android Engineer\">Android Engineer</td><td style=\"text-align:left\" title=\"null\">null</td><td style=\"text-align:left\" title=\"23\">23</td><td style=\"text-align:left\" title=\"19\">19</td><td style=\"text-align:left\" title=\"34052126\">34052126</td><td style=\"text-align:left\" title=\"Pontianak, Indonesia\">Pontianak, Indonesia</td><td style=\"text-align:left\" title=\"indramahkota\">indramahkota</td><td style=\"text-align:left\" title=\"Indra Mahkota\">Indra Mahkota</td></tr><tr><td style=\"text-align:left\" title=\"https://avatars.githubusercontent.com/u/32633599?v=4\">https://avatars.githubusercontent.com/u/3263359...</td><td style=\"text-align:left\" title=\"Android and Game Programmer\">Android and Game Programmer</td><td style=\"text-align:left\" title=\"null\">null</td><td style=\"text-align:left\" title=\"8\">8</td><td style=\"text-align:left\" title=\"9\">9</td><td style=\"text-align:left\" title=\"32633599\">32633599</td><td style=\"text-align:left\" title=\"null\">null</td><td style=\"text-align:left\" title=\"IndraYudha22\">IndraYudha22</td><td style=\"text-align:left\" title=\"Mochamad Indra Yudha Lakaselindra\">Mochamad Indra Yudha Lakaselindra</td></tr><tr><td style=\"text-align:left\" title=\"https://avatars.githubusercontent.com/u/61546756?v=4\">https://avatars.githubusercontent.com/u/6154675...</td><td style=\"text-align:left\" title=\"Android Development Enthusiasts || Google Certified AAD || Software Engineering Student\">Android Development Enthusiasts || Google Certi...</td><td style=\"text-align:left\" title=\"null\">null</td><td style=\"text-align:left\" title=\"21\">21</td><td style=\"text-align:left\" title=\"41\">41</td><td style=\"text-align:left\" title=\"61546756\">61546756</td><td style=\"text-align:left\" title=\"Gunungkidul, Yogyakarta\">Gunungkidul, Yogyakarta</td><td style=\"text-align:left\" title=\"galihif\">galihif</td><td style=\"text-align:left\" title=\"Galih Indra Firmansyah\">Galih Indra Firmansyah</td></tr><tr><td style=\"text-align:left\" title=\"https://avatars.githubusercontent.com/u/40993199?v=4\">https://avatars.githubusercontent.com/u/4099319...</td><td style=\"text-align:left\" title=\"Informatics '19 Telkom University,\r\n",
       "Android Flutter Developer, UI/UX Designer\">Informatics '19 Telkom University,\r\n",
       "Android Flu...</td><td style=\"text-align:left\" title=\"null\">null</td><td style=\"text-align:left\" title=\"12\">12</td><td style=\"text-align:left\" title=\"9\">9</td><td style=\"text-align:left\" title=\"40993199\">40993199</td><td style=\"text-align:left\" title=\"Bandung\">Bandung</td><td style=\"text-align:left\" title=\"indrad373\">indrad373</td><td style=\"text-align:left\" title=\"Indra Deva Aji Zakaria\">Indra Deva Aji Zakaria</td></tr><tr><td style=\"text-align:left\" title=\"https://avatars.githubusercontent.com/u/20751314?v=4\">https://avatars.githubusercontent.com/u/2075131...</td><td style=\"text-align:left\" title=\"Android Developer and ML enthusiast.\">Android Developer and ML enthusiast.</td><td style=\"text-align:left\" title=\"null\">null</td><td style=\"text-align:left\" title=\"5\">5</td><td style=\"text-align:left\" title=\"4\">4</td><td style=\"text-align:left\" title=\"20751314\">20751314</td><td style=\"text-align:left\" title=\"India\">India</td><td style=\"text-align:left\" title=\"indracs7\">indracs7</td><td style=\"text-align:left\" title=\"Indranil Chatterjee\">Indranil Chatterjee</td></tr><tr><td style=\"text-align:left\" title=\"https://avatars.githubusercontent.com/u/45512567?v=4\">https://avatars.githubusercontent.com/u/4551256...</td><td style=\"text-align:left\" title=\"Just Started learning Android & Web ;-;\">Just Started learning Android & Web ;-;</td><td style=\"text-align:left\" title=\"null\">null</td><td style=\"text-align:left\" title=\"2\">2</td><td style=\"text-align:left\" title=\"10\">10</td><td style=\"text-align:left\" title=\"45512567\">45512567</td><td style=\"text-align:left\" title=\"null\">null</td><td style=\"text-align:left\" title=\"indraskr9\">indraskr9</td><td style=\"text-align:left\" title=\"Indrajit Sarkar\">Indrajit Sarkar</td></tr><tr><td style=\"text-align:left\" title=\"https://avatars.githubusercontent.com/u/68775687?v=4\">https://avatars.githubusercontent.com/u/6877568...</td><td style=\"text-align:left\" title=\"Just interest with programming like web and android and always learn about language programming especially PHP, Javascript, Dart, Java, Kotlin, C#, C++.\">Just interest with programming like web and and...</td><td style=\"text-align:left\" title=\"null\">null</td><td style=\"text-align:left\" title=\"6\">6</td><td style=\"text-align:left\" title=\"5\">5</td><td style=\"text-align:left\" title=\"68775687\">68775687</td><td style=\"text-align:left\" title=\"Jakarta\">Jakarta</td><td style=\"text-align:left\" title=\"ndraa124\">ndraa124</td><td style=\"text-align:left\" title=\"Indra David\">Indra David</td></tr><tr><td style=\"text-align:left\" title=\"https://avatars.githubusercontent.com/u/78961083?v=4\">https://avatars.githubusercontent.com/u/7896108...</td><td style=\"text-align:left\" title=\"Android ||\r\n",
       "Machine learning || Web Development\r\n",
       "\">Android ||\r\n",
       "Machine learning || Web Development\r\n",
       "</td><td style=\"text-align:left\" title=\"null\">null</td><td style=\"text-align:left\" title=\"1\">1</td><td style=\"text-align:left\" title=\"15\">15</td><td style=\"text-align:left\" title=\"78961083\">78961083</td><td style=\"text-align:left\" title=\"null\">null</td><td style=\"text-align:left\" title=\"indravardhanreddy\">indravardhanreddy</td><td style=\"text-align:left\" title=\"Indravardhan Reddy M\">Indravardhan Reddy M</td></tr><tr><td style=\"text-align:left\" title=\"https://avatars.githubusercontent.com/u/8722619?v=4\">https://avatars.githubusercontent.com/u/8722619...</td><td style=\"text-align:left\" title=\"interest : android dev, web dev\">interest : android dev, web dev</td><td style=\"text-align:left\" title=\"null\">null</td><td style=\"text-align:left\" title=\"3\">3</td><td style=\"text-align:left\" title=\"2\">2</td><td style=\"text-align:left\" title=\"8722619\">8722619</td><td style=\"text-align:left\" title=\"Surabaya\">Surabaya</td><td style=\"text-align:left\" title=\"iPradana\">iPradana</td><td style=\"text-align:left\" title=\"Indra Pradana A\">Indra Pradana A</td></tr><tr><td style=\"text-align:left\" title=\"https://avatars.githubusercontent.com/u/1942657?v=4\">https://avatars.githubusercontent.com/u/1942657...</td><td style=\"text-align:left\" title=\"Having worked for 12+ years in the industry, I have valuable experience in Android|Python|Machine Learning & Deep Learning practitioner.\r\n",
       "\r\n",
       "\">Having worked for 12+ years in the industry, I ...</td><td style=\"text-align:left\" title=\"null\">null</td><td style=\"text-align:left\" title=\"1\">1</td><td style=\"text-align:left\" title=\"5\">5</td><td style=\"text-align:left\" title=\"1942657\">1942657</td><td style=\"text-align:left\" title=\"Bangalore\">Bangalore</td><td style=\"text-align:left\" title=\"indrajitkumar\">indrajitkumar</td><td style=\"text-align:left\" title=\"Indrajit\">Indrajit</td></tr></table><p>... with 5 more rows. Shape: 15 x 9. \n",
       "</p></body></html>"
      ]
     },
     "execution_count": 51,
     "metadata": {},
     "output_type": "execute_result"
    }
   ],
   "source": [
    "val df = listUserDto.asDataFrame()\n",
    "df.rename(\"avatarUrl\" to \"avatar\")"
   ]
  },
  {
   "cell_type": "markdown",
   "id": "bd28e41a",
   "metadata": {},
   "source": [
    "# Get User"
   ]
  },
  {
   "cell_type": "code",
   "execution_count": 12,
   "id": "1733fc7f",
   "metadata": {},
   "outputs": [],
   "source": [
    "var user: UserDto? = null \n",
    "\n",
    "fun getUserFunction() = runBlocking {\n",
    "    val response = getUser(\"indramahkota\")\n",
    "    user = response\n",
    "}\n",
    "\n",
    "getUserFunction()"
   ]
  },
  {
   "cell_type": "code",
   "execution_count": 13,
   "id": "f17ad6b6",
   "metadata": {},
   "outputs": [
    {
     "data": {
      "text/html": [
       "<html><body><table><tr><th style=\"text-align:left\">avatar</th><th style=\"text-align:left\">bio</th><th style=\"text-align:left\">email</th><th style=\"text-align:left\">followers</th><th style=\"text-align:left\">following</th><th style=\"text-align:left\">id</th><th style=\"text-align:left\">location</th><th style=\"text-align:left\">login</th><th style=\"text-align:left\">name</th></tr><tr><td style=\"text-align:left\" title=\"https://avatars.githubusercontent.com/u/34052126?v=4\">https://avatars.githubusercontent.com/u/3405212...</td><td style=\"text-align:left\" title=\"Android Engineer\">Android Engineer</td><td style=\"text-align:left\" title=\"null\">null</td><td style=\"text-align:left\" title=\"23\">23</td><td style=\"text-align:left\" title=\"19\">19</td><td style=\"text-align:left\" title=\"34052126\">34052126</td><td style=\"text-align:left\" title=\"Pontianak, Indonesia\">Pontianak, Indonesia</td><td style=\"text-align:left\" title=\"indramahkota\">indramahkota</td><td style=\"text-align:left\" title=\"Indra Mahkota\">Indra Mahkota</td></tr></table><p>Shape: 1 x 9. \n",
       "</p></body></html>"
      ]
     },
     "execution_count": 13,
     "metadata": {},
     "output_type": "execute_result"
    }
   ],
   "source": [
    "val df = listOf(user).asDataFrame()\n",
    "df.rename(\"avatarUrl\" to \"avatar\")"
   ]
  },
  {
   "cell_type": "markdown",
   "id": "fed40c84",
   "metadata": {},
   "source": [
    "# Get Repository"
   ]
  },
  {
   "cell_type": "code",
   "execution_count": 14,
   "id": "cb2c2444",
   "metadata": {
    "scrolled": false
   },
   "outputs": [],
   "source": [
    "var repo: ArrayList<RepoResponseItem>? = null \n",
    "\n",
    "fun getRepoFunction() = runBlocking {\n",
    "    val response = getRepo(\"indramahkota\")\n",
    "    repo = response\n",
    "}\n",
    "\n",
    "getRepoFunction()"
   ]
  },
  {
   "cell_type": "code",
   "execution_count": 15,
   "id": "d9da40d0",
   "metadata": {},
   "outputs": [
    {
     "data": {
      "text/html": [
       "<html><body><table><tr><th style=\"text-align:left\">name</th><th style=\"text-align:left\">url</th><th style=\"text-align:left\">topics</th><th style=\"text-align:left\">license</th><th style=\"text-align:left\">stars</th><th style=\"text-align:left\">update-at</th></tr><tr><td style=\"text-align:left\" title=\"indramahkota\">indramahkota</td><td style=\"text-align:left\" title=\"https://api.github.com/repos/indramahkota/indramahkota\">https://api.github.com/repos/indramahkota/indra...</td><td style=\"text-align:left\" title=\"[github, markdown]\">[github, markdown]</td><td style=\"text-align:left\" title=\"null\">null</td><td style=\"text-align:left\" title=\"3\">3</td><td style=\"text-align:left\" title=\"2022-11-29T14:52:45Z\">2022-11-29T14:52:45Z</td></tr><tr><td style=\"text-align:left\" title=\"movie-catalogue-java\">movie-catalogue-java</td><td style=\"text-align:left\" title=\"https://api.github.com/repos/indramahkota/movie-catalogue-java\">https://api.github.com/repos/indramahkota/movie...</td><td style=\"text-align:left\" title=\"[android, java]\">[android, java]</td><td style=\"text-align:left\" title=\"License(key=mit, name=MIT License, nodeId=MDc6TGljZW5zZTEz, spdxId=MIT, url=https://api.github.com/licenses/mit)\">License(key=mit, name=MIT License, nodeId=MDc6T...</td><td style=\"text-align:left\" title=\"0\">0</td><td style=\"text-align:left\" title=\"2022-08-01T04:34:39Z\">2022-08-01T04:34:39Z</td></tr><tr><td style=\"text-align:left\" title=\"mad-base-sample\">mad-base-sample</td><td style=\"text-align:left\" title=\"https://api.github.com/repos/indramahkota/mad-base-sample\">https://api.github.com/repos/indramahkota/mad-b...</td><td style=\"text-align:left\" title=\"[android, kotlin]\">[android, kotlin]</td><td style=\"text-align:left\" title=\"License(key=mit, name=MIT License, nodeId=MDc6TGljZW5zZTEz, spdxId=MIT, url=https://api.github.com/licenses/mit)\">License(key=mit, name=MIT License, nodeId=MDc6T...</td><td style=\"text-align:left\" title=\"0\">0</td><td style=\"text-align:left\" title=\"2022-07-31T12:17:35Z\">2022-07-31T12:17:35Z</td></tr><tr><td style=\"text-align:left\" title=\"learn-tensorflow\">learn-tensorflow</td><td style=\"text-align:left\" title=\"https://api.github.com/repos/indramahkota/learn-tensorflow\">https://api.github.com/repos/indramahkota/learn...</td><td style=\"text-align:left\" title=\"[jupyter-notebook, python, tensorflow]\">[jupyter-notebook, python, tensorflow]</td><td style=\"text-align:left\" title=\"null\">null</td><td style=\"text-align:left\" title=\"0\">0</td><td style=\"text-align:left\" title=\"2022-07-27T14:12:35Z\">2022-07-27T14:12:35Z</td></tr><tr><td style=\"text-align:left\" title=\"learn-sql\">learn-sql</td><td style=\"text-align:left\" title=\"https://api.github.com/repos/indramahkota/learn-sql\">https://api.github.com/repos/indramahkota/learn...</td><td style=\"text-align:left\" title=\"[python3, sql]\">[python3, sql]</td><td style=\"text-align:left\" title=\"null\">null</td><td style=\"text-align:left\" title=\"0\">0</td><td style=\"text-align:left\" title=\"2022-07-27T14:10:32Z\">2022-07-27T14:10:32Z</td></tr><tr><td style=\"text-align:left\" title=\"learn-kotlin\">learn-kotlin</td><td style=\"text-align:left\" title=\"https://api.github.com/repos/indramahkota/learn-kotlin\">https://api.github.com/repos/indramahkota/learn...</td><td style=\"text-align:left\" title=\"[jupyter-notebook, kotlin]\">[jupyter-notebook, kotlin]</td><td style=\"text-align:left\" title=\"License(key=mit, name=MIT License, nodeId=MDc6TGljZW5zZTEz, spdxId=MIT, url=https://api.github.com/licenses/mit)\">License(key=mit, name=MIT License, nodeId=MDc6T...</td><td style=\"text-align:left\" title=\"0\">0</td><td style=\"text-align:left\" title=\"2022-07-27T14:08:08Z\">2022-07-27T14:08:08Z</td></tr><tr><td style=\"text-align:left\" title=\"learn-idb\">learn-idb</td><td style=\"text-align:left\" title=\"https://api.github.com/repos/indramahkota/learn-idb\">https://api.github.com/repos/indramahkota/learn...</td><td style=\"text-align:left\" title=\"[indexed-db, typescript]\">[indexed-db, typescript]</td><td style=\"text-align:left\" title=\"License(key=mit, name=MIT License, nodeId=MDc6TGljZW5zZTEz, spdxId=MIT, url=https://api.github.com/licenses/mit)\">License(key=mit, name=MIT License, nodeId=MDc6T...</td><td style=\"text-align:left\" title=\"0\">0</td><td style=\"text-align:left\" title=\"2022-07-27T14:10:04Z\">2022-07-27T14:10:04Z</td></tr><tr><td style=\"text-align:left\" title=\"learn-gradle\">learn-gradle</td><td style=\"text-align:left\" title=\"https://api.github.com/repos/indramahkota/learn-gradle\">https://api.github.com/repos/indramahkota/learn...</td><td style=\"text-align:left\" title=\"[gradle, java]\">[gradle, java]</td><td style=\"text-align:left\" title=\"null\">null</td><td style=\"text-align:left\" title=\"0\">0</td><td style=\"text-align:left\" title=\"2022-08-19T15:06:11Z\">2022-08-19T15:06:11Z</td></tr><tr><td style=\"text-align:left\" title=\"learn-git\">learn-git</td><td style=\"text-align:left\" title=\"https://api.github.com/repos/indramahkota/learn-git\">https://api.github.com/repos/indramahkota/learn...</td><td style=\"text-align:left\" title=\"[git, markdown]\">[git, markdown]</td><td style=\"text-align:left\" title=\"null\">null</td><td style=\"text-align:left\" title=\"0\">0</td><td style=\"text-align:left\" title=\"2022-07-27T14:17:06Z\">2022-07-27T14:17:06Z</td></tr><tr><td style=\"text-align:left\" title=\"indramahkota.github.io\">indramahkota.github.io</td><td style=\"text-align:left\" title=\"https://api.github.com/repos/indramahkota/indramahkota.github.io\">https://api.github.com/repos/indramahkota/indra...</td><td style=\"text-align:left\" title=\"[personal-website]\">[personal-website]</td><td style=\"text-align:left\" title=\"License(key=other, name=Other, nodeId=MDc6TGljZW5zZTA=, spdxId=NOASSERTION, url=null)\">License(key=other, name=Other, nodeId=MDc6TGljZ...</td><td style=\"text-align:left\" title=\"0\">0</td><td style=\"text-align:left\" title=\"2022-08-13T09:50:42Z\">2022-08-13T09:50:42Z</td></tr><tr><td style=\"text-align:left\" title=\"indra-personal-website-react\">indra-personal-website-react</td><td style=\"text-align:left\" title=\"https://api.github.com/repos/indramahkota/indra-personal-website-react\">https://api.github.com/repos/indramahkota/indra...</td><td style=\"text-align:left\" title=\"[react, typescript]\">[react, typescript]</td><td style=\"text-align:left\" title=\"null\">null</td><td style=\"text-align:left\" title=\"0\">0</td><td style=\"text-align:left\" title=\"2022-07-27T14:04:46Z\">2022-07-27T14:04:46Z</td></tr><tr><td style=\"text-align:left\" title=\"indra-personal-website\">indra-personal-website</td><td style=\"text-align:left\" title=\"https://api.github.com/repos/indramahkota/indra-personal-website\">https://api.github.com/repos/indramahkota/indra...</td><td style=\"text-align:left\" title=\"[typescript, webpack]\">[typescript, webpack]</td><td style=\"text-align:left\" title=\"License(key=mit, name=MIT License, nodeId=MDc6TGljZW5zZTEz, spdxId=MIT, url=https://api.github.com/licenses/mit)\">License(key=mit, name=MIT License, nodeId=MDc6T...</td><td style=\"text-align:left\" title=\"0\">0</td><td style=\"text-align:left\" title=\"2022-07-27T14:04:14Z\">2022-07-27T14:04:14Z</td></tr><tr><td style=\"text-align:left\" title=\"gameku\">gameku</td><td style=\"text-align:left\" title=\"https://api.github.com/repos/indramahkota/gameku\">https://api.github.com/repos/indramahkota/gameku</td><td style=\"text-align:left\" title=\"[android, phaser3-game]\">[android, phaser3-game]</td><td style=\"text-align:left\" title=\"License(key=mit, name=MIT License, nodeId=MDc6TGljZW5zZTEz, spdxId=MIT, url=https://api.github.com/licenses/mit)\">License(key=mit, name=MIT License, nodeId=MDc6T...</td><td style=\"text-align:left\" title=\"0\">0</td><td style=\"text-align:left\" title=\"2022-08-21T15:55:42Z\">2022-08-21T15:55:42Z</td></tr><tr><td style=\"text-align:left\" title=\"build-logic-public\">build-logic-public</td><td style=\"text-align:left\" title=\"https://api.github.com/repos/indramahkota/build-logic-public\">https://api.github.com/repos/indramahkota/build...</td><td style=\"text-align:left\" title=\"[android-application]\">[android-application]</td><td style=\"text-align:left\" title=\"License(key=mit, name=MIT License, nodeId=MDc6TGljZW5zZTEz, spdxId=MIT, url=https://api.github.com/licenses/mit)\">License(key=mit, name=MIT License, nodeId=MDc6T...</td><td style=\"text-align:left\" title=\"0\">0</td><td style=\"text-align:left\" title=\"2022-08-27T09:35:56Z\">2022-08-27T09:35:56Z</td></tr><tr><td style=\"text-align:left\" title=\"android-exploration\">android-exploration</td><td style=\"text-align:left\" title=\"https://api.github.com/repos/indramahkota/android-exploration\">https://api.github.com/repos/indramahkota/andro...</td><td style=\"text-align:left\" title=\"[android, kotlin]\">[android, kotlin]</td><td style=\"text-align:left\" title=\"License(key=mit, name=MIT License, nodeId=MDc6TGljZW5zZTEz, spdxId=MIT, url=https://api.github.com/licenses/mit)\">License(key=mit, name=MIT License, nodeId=MDc6T...</td><td style=\"text-align:left\" title=\"0\">0</td><td style=\"text-align:left\" title=\"2022-10-23T05:26:16Z\">2022-10-23T05:26:16Z</td></tr><p>Shape: 15 x 6. \n",
       "</p></table></body></html>"
      ]
     },
     "execution_count": 15,
     "metadata": {},
     "output_type": "execute_result"
    }
   ],
   "source": [
    "repo.toList().asDataFrame()\n",
    "    .filterByRow { it[\"fork\"] == false }\n",
    "    .sortedByDescending(\"stargazersCount\")\n",
    "    .select(\"name\", \"url\", \"topics\", \"license\", \"stargazersCount\", \"updatedAt\")\n",
    "    .rename(\"stargazersCount\" to \"stars\", \"updatedAt\" to \"update-at\")\n",
    "    .showRows()"
   ]
  }
 ],
 "metadata": {
  "kernelspec": {
   "display_name": "Kotlin",
   "language": "kotlin",
   "name": "kotlin"
  },
  "language_info": {
   "codemirror_mode": "text/x-kotlin",
   "file_extension": ".kt",
   "mimetype": "text/x-kotlin",
   "name": "kotlin",
   "nbconvert_exporter": "",
   "pygments_lexer": "kotlin",
   "version": "1.6.20-dev-6372"
  }
 },
 "nbformat": 4,
 "nbformat_minor": 5
}
