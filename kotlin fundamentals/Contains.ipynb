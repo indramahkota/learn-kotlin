{
 "cells": [
  {
   "cell_type": "code",
   "execution_count": 3,
   "id": "bf4e4252",
   "metadata": {},
   "outputs": [
    {
     "name": "stdout",
     "output_type": "stream",
     "text": [
      "All elements of list2 are not present in list1."
     ]
    }
   ],
   "source": [
    "val list1 = listOf(\"ab\", \"bc\", \"cd\")\n",
    "val list2 = listOf(\"ab\", \"bc\", \"cd\", \"de\")\n",
    "\n",
    "if (list1.containsAll(list2)) {\n",
    "    print(\"All elements of list2 are present in list1.\")\n",
    "} else {\n",
    "    print(\"All elements of list2 are not present in list1.\")\n",
    "}"
   ]
  }
 ],
 "metadata": {
  "kernelspec": {
   "display_name": "Kotlin",
   "language": "kotlin",
   "name": "kotlin"
  },
  "language_info": {
   "codemirror_mode": "text/x-kotlin",
   "file_extension": ".kt",
   "mimetype": "text/x-kotlin",
   "name": "kotlin",
   "nbconvert_exporter": "",
   "pygments_lexer": "kotlin",
   "version": "1.6.20-dev-6372"
  }
 },
 "nbformat": 4,
 "nbformat_minor": 5
}
