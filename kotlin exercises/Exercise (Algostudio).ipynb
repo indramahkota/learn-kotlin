{
 "cells": [
  {
   "cell_type": "markdown",
   "id": "df5852de",
   "metadata": {
    "pycharm": {
     "name": "#%% md\n"
    }
   },
   "source": [
    "# Algostudio Exercise"
   ]
  },
  {
   "cell_type": "code",
   "execution_count": null,
   "id": "0cb98920",
   "metadata": {
    "pycharm": {
     "name": "#%%\n",
     "is_executing": true
    }
   },
   "outputs": [],
   "source": [
    "import kotlin.random.Random"
   ]
  },
  {
   "cell_type": "code",
   "execution_count": 22,
   "id": "d9df52ba",
   "metadata": {
    "pycharm": {
     "name": "#%%\n"
    }
   },
   "outputs": [
    {
     "data": {
      "text/plain": [
       "1..13"
      ]
     },
     "execution_count": 22,
     "metadata": {},
     "output_type": "execute_result"
    }
   ],
   "source": [
    "val range = (1..27 / 2)\n",
    "range"
   ]
  },
  {
   "cell_type": "code",
   "execution_count": 23,
   "id": "34958c12",
   "metadata": {
    "pycharm": {
     "name": "#%%\n"
    }
   },
   "outputs": [
    {
     "data": {
      "text/plain": [
       "[1, 2, 4, 7, 14, 28]"
      ]
     },
     "execution_count": 23,
     "metadata": {},
     "output_type": "execute_result"
    }
   ],
   "source": [
    "// Multiplying two whole numbers gives a product. The numbers that we multiply are the factors of the product.\n",
    "fun factorsOfNumber(num: Int): MutableSet<Int> {\n",
    "    //set not Allowed Duplicate element\n",
    "    val factors = mutableSetOf<Int>()\n",
    "    if (num < 1)\n",
    "        return factors\n",
    "    (1..num / 2) // odd divided by odd CANNOT be even, should ok for this\n",
    "        .filter { num % it == 0 } // filter each number is divisible by num\n",
    "        .forEach { factors.add(it) } // add each filtered num to set\n",
    "    factors.add(num)\n",
    "    return factors\n",
    "}\n",
    "\n",
    "factorsOfNumber(28)"
   ]
  },
  {
   "cell_type": "code",
   "execution_count": 20,
   "id": "8f517c0c",
   "metadata": {
    "pycharm": {
     "name": "#%%\n"
    }
   },
   "outputs": [
    {
     "data": {
      "text/plain": [
       "[2, 7]"
      ]
     },
     "execution_count": 20,
     "metadata": {},
     "output_type": "execute_result"
    }
   ],
   "source": [
    "// Prime factors are factors of a number that are, themselves, prime numbers.\n",
    "fun getPrimeFactors(number: Int): MutableSet<Int> {\n",
    "    //set not Allowed Duplicate element\n",
    "    val primeFactors = mutableSetOf<Int>()\n",
    "    var state = number\n",
    "    var i = 2 // Start with first prime number\n",
    "    while (i <= state) {\n",
    "        if (state % i == 0) { // when divisible by 2 try to divided again by 2 and if not increment i with 1\n",
    "            // Add prime factor in Hash Set\n",
    "            primeFactors.add(i)\n",
    "            state /= i // change state number because divisible by i\n",
    "            i--\n",
    "        }\n",
    "        i++\n",
    "    }\n",
    "    return primeFactors\n",
    "}\n",
    "\n",
    "getPrimeFactors(28)"
   ]
  },
  {
   "cell_type": "code",
   "execution_count": 31,
   "id": "dbe9794f",
   "metadata": {
    "pycharm": {
     "name": "#%%\n"
    }
   },
   "outputs": [
    {
     "data": {
      "text/plain": [
       "true"
      ]
     },
     "execution_count": 31,
     "metadata": {},
     "output_type": "execute_result"
    }
   ],
   "source": [
    "// A perfect number is a positive integer that is equal to the sum of its positive divisors, excluding the number itself.\n",
    "fun isPerfectNumber(number: Int): Int {\n",
    "    var temp = 0 // sum of factor\n",
    "    for (i in 1..number / 2) { // odd divided by odd CANNOT be even, should ok for this\n",
    "        if (number % i == 0) {\n",
    "            temp += i // add temporary number with number factor\n",
    "        }\n",
    "    }\n",
    "    return temp\n",
    "}\n",
    "\n",
    "isPerfectNumber(28) == 28"
   ]
  },
  {
   "cell_type": "code",
   "execution_count": 34,
   "id": "c37e83f7",
   "metadata": {
    "pycharm": {
     "name": "#%%\n"
    }
   },
   "outputs": [
    {
     "name": "stdout",
     "output_type": "stream",
     "text": [
      "58 Null\r\n",
      "88 Null\r\n",
      "5 Null\r\n",
      "43 Null\r\n",
      "73 Null\r\n",
      "12 Null\r\n",
      "29 Null\r\n",
      "22 Null\r\n",
      "41 Null\r\n",
      "54 Null\r\n"
     ]
    }
   ],
   "source": [
    "// read input\n",
    "// loop array of input\n",
    "// check each item in array\n",
    "// if item i == isPerfectNumber(item[i]) then  perfect\n",
    "// if item i == item[i] - isPerfectNumber(item[i]) then almost\n",
    "// else not perfect or almost\n",
    "\n",
    "val randomValues = List(10) { Random.nextInt(0, 100) }\n",
    "randomValues.forEach {\n",
    "    when (it) {\n",
    "        isPerfectNumber(it) -> println(\"$it Perfect\") // 2n - 1\n",
    "        isPerfectNumber(it) + 1 -> println(\"$it Almost\") // n - 1\n",
    "        else -> println(\"$it Null\")\n",
    "    }\n",
    "}\n"
   ]
  }
 ],
 "metadata": {
  "kernelspec": {
   "display_name": "Kotlin",
   "language": "kotlin",
   "name": "kotlin"
  },
  "language_info": {
   "codemirror_mode": "text/x-kotlin",
   "file_extension": ".kt",
   "mimetype": "text/x-kotlin",
   "name": "kotlin",
   "nbconvert_exporter": "",
   "pygments_lexer": "kotlin",
   "version": "1.6.20-dev-6372"
  }
 },
 "nbformat": 4,
 "nbformat_minor": 5
}